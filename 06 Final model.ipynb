{
 "cells": [
  {
   "cell_type": "markdown",
   "metadata": {
    "id": "j8xn34wfhfl7"
   },
   "source": [
    "# Final model"
   ]
  },
  {
   "cell_type": "markdown",
   "metadata": {
    "id": "MbyCupCjB3AF"
   },
   "source": [
    "## Necessary downloads and library imports"
   ]
  },
  {
   "cell_type": "code",
   "execution_count": 1,
   "metadata": {
    "colab": {
     "base_uri": "https://localhost:8080/"
    },
    "executionInfo": {
     "elapsed": 434,
     "status": "ok",
     "timestamp": 1629501413543,
     "user": {
      "displayName": "Marija Katic",
      "photoUrl": "",
      "userId": "11819193703103552976"
     },
     "user_tz": -120
    },
    "id": "UqaPuubtNl7b",
    "outputId": "2bc2671c-a85c-4127-d339-939820edfdaa"
   },
   "outputs": [
    {
     "name": "stdout",
     "output_type": "stream",
     "text": [
      "Drive already mounted at /content/drive; to attempt to forcibly remount, call drive.mount(\"/content/drive\", force_remount=True).\n"
     ]
    }
   ],
   "source": [
    "from google.colab import drive\n",
    "drive.mount('/content/drive')"
   ]
  },
  {
   "cell_type": "code",
   "execution_count": 2,
   "metadata": {
    "executionInfo": {
     "elapsed": 6,
     "status": "ok",
     "timestamp": 1629501413857,
     "user": {
      "displayName": "Marija Katic",
      "photoUrl": "",
      "userId": "11819193703103552976"
     },
     "user_tz": -120
    },
    "id": "syaBWbsVvpXm"
   },
   "outputs": [],
   "source": [
    "project_path = '/content/drive/My Drive/Colab Notebooks/MATF_ML_project/'"
   ]
  },
  {
   "cell_type": "code",
   "execution_count": 3,
   "metadata": {
    "colab": {
     "base_uri": "https://localhost:8080/"
    },
    "executionInfo": {
     "elapsed": 6546,
     "status": "ok",
     "timestamp": 1629501420398,
     "user": {
      "displayName": "Marija Katic",
      "photoUrl": "",
      "userId": "11819193703103552976"
     },
     "user_tz": -120
    },
    "id": "CSYQ8vBZVpB5",
    "outputId": "fe77898e-2507-4d10-fd8a-4e2051493ac1"
   },
   "outputs": [
    {
     "name": "stdout",
     "output_type": "stream",
     "text": [
      "Requirement already satisfied: scikit-multilearn in /usr/local/lib/python3.7/dist-packages (0.2.0)\n",
      "Requirement already satisfied: ipynb in /usr/local/lib/python3.7/dist-packages (0.5.1)\n"
     ]
    }
   ],
   "source": [
    "!pip install scikit-multilearn\n",
    "!pip install ipynb"
   ]
  },
  {
   "cell_type": "code",
   "execution_count": 4,
   "metadata": {
    "executionInfo": {
     "elapsed": 3509,
     "status": "ok",
     "timestamp": 1629501423902,
     "user": {
      "displayName": "Marija Katic",
      "photoUrl": "",
      "userId": "11819193703103552976"
     },
     "user_tz": -120
    },
    "id": "NL3qSfzRNvxg"
   },
   "outputs": [],
   "source": [
    "from ipynb.fs.full.utility import *\n",
    "\n",
    "import pandas as pd\n",
    "import numpy as np\n",
    "import matplotlib.pyplot as plt\n",
    "import random\n",
    "\n",
    "import pickle\n",
    "import time\n",
    "import datetime\n",
    "\n",
    "from scipy import sparse\n",
    "\n",
    "import skmultilearn\n",
    "from skmultilearn.model_selection import iterative_train_test_split\n",
    "\n",
    "import tensorflow as tf\n",
    "from tensorflow import keras\n",
    "from tensorflow.keras.models import Sequential\n",
    "from tensorflow.keras.layers import Input, Dense\n",
    "\n",
    "import sklearn.metrics as metrics"
   ]
  },
  {
   "cell_type": "markdown",
   "metadata": {
    "id": "-Js7h7-y86xq"
   },
   "source": [
    "## Load data"
   ]
  },
  {
   "cell_type": "code",
   "execution_count": 5,
   "metadata": {
    "executionInfo": {
     "elapsed": 907,
     "status": "ok",
     "timestamp": 1629501424807,
     "user": {
      "displayName": "Marija Katic",
      "photoUrl": "",
      "userId": "11819193703103552976"
     },
     "user_tz": -120
    },
    "id": "mu7bpEgW86xr"
   },
   "outputs": [],
   "source": [
    "X_train = sparse.load_npz(project_path + 'data/X_train_vect_concat.npz')\n",
    "y_train = sparse.load_npz(project_path + 'data/y_train_vect_concat.npz')\n",
    "X_test = sparse.load_npz(project_path + 'data/X_test_vect_concat.npz')\n",
    "y_test = sparse.load_npz(project_path + 'data/y_test_vect_concat.npz')"
   ]
  },
  {
   "cell_type": "code",
   "execution_count": 6,
   "metadata": {
    "colab": {
     "base_uri": "https://localhost:8080/"
    },
    "executionInfo": {
     "elapsed": 19,
     "status": "ok",
     "timestamp": 1629501424808,
     "user": {
      "displayName": "Marija Katic",
      "photoUrl": "",
      "userId": "11819193703103552976"
     },
     "user_tz": -120
    },
    "id": "Xl6o2jcn86xs",
    "outputId": "75413929-b171-4518-dec0-3ebfb4587d78"
   },
   "outputs": [
    {
     "data": {
      "text/plain": [
       "((6051, 15348), (6051, 100), (1577, 15348), (1577, 100))"
      ]
     },
     "execution_count": 6,
     "metadata": {},
     "output_type": "execute_result"
    }
   ],
   "source": [
    "X_train.shape, y_train.shape, X_test.shape, y_test.shape"
   ]
  },
  {
   "cell_type": "markdown",
   "metadata": {
    "id": "zjNK-ioaX-si"
   },
   "source": [
    "## Model evaluation"
   ]
  },
  {
   "cell_type": "code",
   "execution_count": 7,
   "metadata": {
    "colab": {
     "base_uri": "https://localhost:8080/"
    },
    "executionInfo": {
     "elapsed": 63198,
     "status": "ok",
     "timestamp": 1629501487992,
     "user": {
      "displayName": "Marija Katic",
      "photoUrl": "",
      "userId": "11819193703103552976"
     },
     "user_tz": -120
    },
    "id": "LEcrDi_fX8P9",
    "outputId": "2a8ba5db-99a8-4111-c204-7058f885824b"
   },
   "outputs": [
    {
     "name": "stdout",
     "output_type": "stream",
     "text": [
      "Model: \"sequential\"\n",
      "_________________________________________________________________\n",
      "Layer (type)                 Output Shape              Param #   \n",
      "=================================================================\n",
      "dense (Dense)                (None, 1000)              15349000  \n",
      "_________________________________________________________________\n",
      "dense_1 (Dense)              (None, 500)               500500    \n",
      "_________________________________________________________________\n",
      "dense_2 (Dense)              (None, 100)               50100     \n",
      "_________________________________________________________________\n",
      "dense_3 (Dense)              (None, 100)               10100     \n",
      "=================================================================\n",
      "Total params: 15,909,700\n",
      "Trainable params: 15,909,700\n",
      "Non-trainable params: 0\n",
      "_________________________________________________________________\n",
      "Epoch 1/3\n",
      "190/190 [==============================] - 21s 106ms/step - loss: 0.1236 - binary_accuracy: 0.9650\n",
      "Epoch 2/3\n",
      "190/190 [==============================] - 20s 107ms/step - loss: 0.0568 - binary_accuracy: 0.9861\n",
      "Epoch 3/3\n",
      "190/190 [==============================] - 21s 108ms/step - loss: 0.0325 - binary_accuracy: 0.9904\n"
     ]
    }
   ],
   "source": [
    "model, history = Sequential_compile_train(X_train.toarray(), y_train.toarray(), epochs=3)"
   ]
  },
  {
   "cell_type": "code",
   "execution_count": 8,
   "metadata": {
    "colab": {
     "base_uri": "https://localhost:8080/",
     "height": 350
    },
    "executionInfo": {
     "elapsed": 926,
     "status": "ok",
     "timestamp": 1629501488860,
     "user": {
      "displayName": "Marija Katic",
      "photoUrl": "",
      "userId": "11819193703103552976"
     },
     "user_tz": -120
    },
    "id": "MPURMUIUX8NX",
    "outputId": "b1963fc1-582b-48ea-b1f5-6c499255cdf2"
   },
   "outputs": [
    {
     "data": {
      "image/png": "[encoded data removed]",
      "text/plain": [
       "<Figure size 1080x360 with 2 Axes>"
      ]
     },
     "metadata": {
      "needs_background": "light"
     },
     "output_type": "display_data"
    }
   ],
   "source": [
    "plot_training_histroy(history, validation=False)"
   ]
  },
  {
   "cell_type": "code",
   "execution_count": 9,
   "metadata": {
    "colab": {
     "base_uri": "https://localhost:8080/"
    },
    "executionInfo": {
     "elapsed": 439,
     "status": "ok",
     "timestamp": 1629501489288,
     "user": {
      "displayName": "Marija Katic",
      "photoUrl": "",
      "userId": "11819193703103552976"
     },
     "user_tz": -120
    },
    "id": "7KhgrasoX8Ky",
    "outputId": "48ff0750-8093-4b29-bae9-730be3743834"
   },
   "outputs": [
    {
     "name": "stdout",
     "output_type": "stream",
     "text": [
      "--------------------\n",
      "FINAL MODEL METRICS:\n",
      "--------------------\n",
      "Hamming Score ('Accuracy' by Keras):\t98.774\n",
      "Hamming Score (= 1 - Hamming Loss):\t98.774\n",
      "Exact match ratio (Subset Accuracy):\t23.082\n",
      "F1-Score Micro Averaged:\t\t46.380\n",
      "F1-Score Macro Averaged:\t\t24.680\n",
      "F1-Score Weighted Average:\t\t55.439\n",
      "Precision Score Micro Averaged:\t\t34.304\n",
      "Recall Score Micro Averaged:\t\t71.575\n"
     ]
    }
   ],
   "source": [
    "print(\"--------------------\")\n",
    "print(\"FINAL MODEL METRICS:\")\n",
    "print(\"--------------------\")\n",
    "predicted_prob = model.predict(X_test)\n",
    "predicted = predicted_prob.round()\n",
    "print_metrics(predicted, y_test.toarray())"
   ]
  },
  {
   "cell_type": "markdown",
   "metadata": {
    "id": "2YcdmUQMY9Au"
   },
   "source": [
    "## Final model"
   ]
  },
  {
   "cell_type": "code",
   "execution_count": 10,
   "metadata": {
    "executionInfo": {
     "elapsed": 11,
     "status": "ok",
     "timestamp": 1629501489290,
     "user": {
      "displayName": "Marija Katic",
      "photoUrl": "",
      "userId": "11819193703103552976"
     },
     "user_tz": -120
    },
    "id": "29idtCb4ZQSS"
   },
   "outputs": [],
   "source": [
    "X = sparse.vstack([X_train, X_test])\n",
    "y = sparse.vstack([y_train, y_test])"
   ]
  },
  {
   "cell_type": "code",
   "execution_count": 11,
   "metadata": {
    "colab": {
     "base_uri": "https://localhost:8080/"
    },
    "executionInfo": {
     "elapsed": 11,
     "status": "ok",
     "timestamp": 1629501489291,
     "user": {
      "displayName": "Marija Katic",
      "photoUrl": "",
      "userId": "11819193703103552976"
     },
     "user_tz": -120
    },
    "id": "o8ZLIBvxZ54s",
    "outputId": "9209102e-24c1-4871-987f-6c2c20c9829c"
   },
   "outputs": [
    {
     "data": {
      "text/plain": [
       "((7628, 15348), (7628, 100))"
      ]
     },
     "execution_count": 11,
     "metadata": {},
     "output_type": "execute_result"
    }
   ],
   "source": [
    "X.shape, y.shape"
   ]
  },
  {
   "cell_type": "code",
   "execution_count": 12,
   "metadata": {
    "colab": {
     "base_uri": "https://localhost:8080/"
    },
    "executionInfo": {
     "elapsed": 70138,
     "status": "ok",
     "timestamp": 1629501559423,
     "user": {
      "displayName": "Marija Katic",
      "photoUrl": "",
      "userId": "11819193703103552976"
     },
     "user_tz": -120
    },
    "id": "m1J7e2ceX73J",
    "outputId": "1539ccc1-2a11-4ab1-cd69-07639655cac2"
   },
   "outputs": [
    {
     "name": "stdout",
     "output_type": "stream",
     "text": [
      "Model: \"sequential_1\"\n",
      "_________________________________________________________________\n",
      "Layer (type)                 Output Shape              Param #   \n",
      "=================================================================\n",
      "dense_4 (Dense)              (None, 1000)              15349000  \n",
      "_________________________________________________________________\n",
      "dense_5 (Dense)              (None, 500)               500500    \n",
      "_________________________________________________________________\n",
      "dense_6 (Dense)              (None, 100)               50100     \n",
      "_________________________________________________________________\n",
      "dense_7 (Dense)              (None, 100)               10100     \n",
      "=================================================================\n",
      "Total params: 15,909,700\n",
      "Trainable params: 15,909,700\n",
      "Non-trainable params: 0\n",
      "_________________________________________________________________\n"
     ]
    }
   ],
   "source": [
    "model, history = Sequential_compile_train(X.toarray(), y.toarray(), epochs=3, verbose=0)"
   ]
  },
  {
   "cell_type": "markdown",
   "metadata": {
    "id": "5tP0h2hkdgto"
   },
   "source": [
    "## Save model"
   ]
  },
  {
   "cell_type": "code",
   "execution_count": 13,
   "metadata": {
    "executionInfo": {
     "elapsed": 2286,
     "status": "ok",
     "timestamp": 1629501561699,
     "user": {
      "displayName": "Marija Katic",
      "photoUrl": "",
      "userId": "11819193703103552976"
     },
     "user_tz": -120
    },
    "id": "gE5G9taodb-6"
   },
   "outputs": [],
   "source": [
    "model.save(project_path + 'models/final_model.hdf5')"
   ]
  }
 ],
 "metadata": {
  "colab": {
   "authorship_tag": "ABX9TyNplxjKH3Or9mCe0e5QS9ds",
   "collapsed_sections": [],
   "name": "06 Final model.ipynb",
   "provenance": []
  },
  "kernelspec": {
   "display_name": "Python 3",
   "language": "python",
   "name": "python3"
  },
  "language_info": {
   "codemirror_mode": {
    "name": "ipython",
    "version": 3
   },
   "file_extension": ".py",
   "mimetype": "text/x-python",
   "name": "python",
   "nbconvert_exporter": "python",
   "pygments_lexer": "ipython3",
   "version": "3.7.11"
  }
 },
 "nbformat": 4,
 "nbformat_minor": 1
}
