{
  "nbformat": 4,
  "nbformat_minor": 0,
  "metadata": {
    "colab": {
      "name": "06 Final model.ipynb",
      "provenance": [],
      "collapsed_sections": []
    },
    "kernelspec": {
      "name": "python3",
      "display_name": "Python 3"
    },
    "language_info": {
      "name": "python"
    }
  },
  "cells": [
    {
      "cell_type": "markdown",
      "metadata": {
        "id": "j8xn34wfhfl7"
      },
      "source": [
        "# <center>Final model</center>"
      ]
    },
    {
      "cell_type": "markdown",
      "metadata": {
        "id": "MbyCupCjB3AF"
      },
      "source": [
        "## Necessary downloads and library imports"
      ]
    },
    {
      "cell_type": "code",
      "metadata": {
        "colab": {
          "base_uri": "https://localhost:8080/"
        },
        "id": "UqaPuubtNl7b",
        "outputId": "690466c2-e5a8-4d04-8891-90a835b88ea2"
      },
      "source": [
        "from google.colab import drive\n",
        "drive.mount('/content/drive')"
      ],
      "execution_count": 1,
      "outputs": [
        {
          "output_type": "stream",
          "name": "stdout",
          "text": [
            "Drive already mounted at /content/drive; to attempt to forcibly remount, call drive.mount(\"/content/drive\", force_remount=True).\n"
          ]
        }
      ]
    },
    {
      "cell_type": "code",
      "metadata": {
        "id": "syaBWbsVvpXm"
      },
      "source": [
        "project_path = '/content/drive/My Drive/Colab Notebooks/MATF_ML_project/'"
      ],
      "execution_count": 2,
      "outputs": []
    },
    {
      "cell_type": "code",
      "metadata": {
        "colab": {
          "base_uri": "https://localhost:8080/"
        },
        "id": "CSYQ8vBZVpB5",
        "outputId": "4ee02150-3e3a-48f3-f26b-f55482884ce8"
      },
      "source": [
        "!pip install scikit-multilearn\n",
        "!pip install ipynb"
      ],
      "execution_count": 3,
      "outputs": [
        {
          "output_type": "stream",
          "name": "stdout",
          "text": [
            "Requirement already satisfied: scikit-multilearn in /usr/local/lib/python3.7/dist-packages (0.2.0)\n",
            "Requirement already satisfied: ipynb in /usr/local/lib/python3.7/dist-packages (0.5.1)\n"
          ]
        }
      ]
    },
    {
      "cell_type": "code",
      "metadata": {
        "id": "NL3qSfzRNvxg"
      },
      "source": [
        "from ipynb.fs.full.utility import *\n",
        "\n",
        "import pandas as pd\n",
        "import numpy as np\n",
        "import matplotlib.pyplot as plt\n",
        "import random\n",
        "\n",
        "import pickle\n",
        "import time\n",
        "import datetime\n",
        "\n",
        "from scipy import sparse\n",
        "\n",
        "import skmultilearn\n",
        "from skmultilearn.model_selection import iterative_train_test_split\n",
        "\n",
        "import tensorflow as tf\n",
        "from tensorflow import keras\n",
        "from tensorflow.keras.models import Sequential\n",
        "from tensorflow.keras.layers import Input, Dense\n",
        "\n",
        "import sklearn.metrics as metrics"
      ],
      "execution_count": 4,
      "outputs": []
    },
    {
      "cell_type": "markdown",
      "metadata": {
        "id": "-Js7h7-y86xq"
      },
      "source": [
        "## Load data"
      ]
    },
    {
      "cell_type": "code",
      "metadata": {
        "id": "mu7bpEgW86xr"
      },
      "source": [
        "X_train = sparse.load_npz(project_path + 'data/X_train_vect_concat.npz')\n",
        "y_train = sparse.load_npz(project_path + 'data/y_train_vect_concat.npz')\n",
        "X_test = sparse.load_npz(project_path + 'data/X_test_vect_concat.npz')\n",
        "y_test = sparse.load_npz(project_path + 'data/y_test_vect_concat.npz')"
      ],
      "execution_count": 5,
      "outputs": []
    },
    {
      "cell_type": "code",
      "metadata": {
        "colab": {
          "base_uri": "https://localhost:8080/"
        },
        "id": "Xl6o2jcn86xs",
        "outputId": "9c05945a-c0fd-4036-e7b7-f99c68c885f0"
      },
      "source": [
        "X_train.shape, y_train.shape, X_test.shape, y_test.shape"
      ],
      "execution_count": 6,
      "outputs": [
        {
          "output_type": "execute_result",
          "data": {
            "text/plain": [
              "((6053, 17400), (6053, 100), (1575, 17400), (1575, 100))"
            ]
          },
          "metadata": {},
          "execution_count": 6
        }
      ]
    },
    {
      "cell_type": "markdown",
      "metadata": {
        "id": "zjNK-ioaX-si"
      },
      "source": [
        "## Model evaluation"
      ]
    },
    {
      "cell_type": "code",
      "metadata": {
        "colab": {
          "base_uri": "https://localhost:8080/"
        },
        "id": "LEcrDi_fX8P9",
        "outputId": "ede9ae98-a35e-4aa8-e588-b55d58f6d01e"
      },
      "source": [
        "model, history = Sequential_compile_train(X_train.toarray(), y_train.toarray(), \n",
        "                                          verbose = 0, epochs=10, Adam_learning_rate=0.0001)"
      ],
      "execution_count": 7,
      "outputs": [
        {
          "output_type": "stream",
          "name": "stdout",
          "text": [
            "Model: \"sequential\"\n",
            "_________________________________________________________________\n",
            "Layer (type)                 Output Shape              Param #   \n",
            "=================================================================\n",
            "dense (Dense)                (None, 1000)              17401000  \n",
            "_________________________________________________________________\n",
            "dense_1 (Dense)              (None, 500)               500500    \n",
            "_________________________________________________________________\n",
            "dense_2 (Dense)              (None, 100)               50100     \n",
            "_________________________________________________________________\n",
            "dense_3 (Dense)              (None, 100)               10100     \n",
            "=================================================================\n",
            "Total params: 17,961,700\n",
            "Trainable params: 17,961,700\n",
            "Non-trainable params: 0\n",
            "_________________________________________________________________\n"
          ]
        }
      ]
    },
    {
      "cell_type": "code",
      "metadata": {
        "colab": {
          "base_uri": "https://localhost:8080/",
          "height": 336
        },
        "id": "MPURMUIUX8NX",
        "outputId": "d91883d7-f973-4937-800c-701525313ced"
      },
      "source": [
        "plot_training_histroy(history, validation=False)"
      ],
      "execution_count": 8,
      "outputs": [
        {
          "output_type": "display_data",
          "data": {
            "image/png": "[encoded data removed]",
            "text/plain": [
              "<Figure size 1080x360 with 2 Axes>"
            ]
          },
          "metadata": {
            "needs_background": "light"
          }
        }
      ]
    },
    {
      "cell_type": "code",
      "metadata": {
        "colab": {
          "base_uri": "https://localhost:8080/"
        },
        "id": "7KhgrasoX8Ky",
        "outputId": "51cbed0a-8b9e-4efb-efba-b525cf5f94b6"
      },
      "source": [
        "print(\"--------------------\")\n",
        "print(\"FINAL MODEL METRICS:\")\n",
        "print(\"--------------------\")\n",
        "predicted_prob = model.predict(X_test.toarray())\n",
        "predicted = predicted_prob.round()\n",
        "print_metrics(predicted, y_test.toarray())"
      ],
      "execution_count": 9,
      "outputs": [
        {
          "output_type": "stream",
          "name": "stdout",
          "text": [
            "--------------------\n",
            "FINAL MODEL METRICS:\n",
            "--------------------\n",
            "Hamming Score ('Accuracy' by Keras):\t98.724\n",
            "Hamming Score (= 1 - Hamming Loss):\t98.724\n",
            "Exact match ratio (Subset Accuracy):\t15.937\n",
            "F1-Score Micro Averaged:\t\t37.317\n",
            "F1-Score Macro Averaged:\t\t9.952\n",
            "F1-Score Weighted Average:\t\t55.330\n",
            "Precision Score Micro Averaged:\t\t24.538\n",
            "Recall Score Micro Averaged:\t\t77.865\n"
          ]
        }
      ]
    },
    {
      "cell_type": "markdown",
      "metadata": {
        "id": "2YcdmUQMY9Au"
      },
      "source": [
        "## Final model"
      ]
    },
    {
      "cell_type": "code",
      "metadata": {
        "id": "29idtCb4ZQSS"
      },
      "source": [
        "X = sparse.vstack([X_train, X_test])\n",
        "y = sparse.vstack([y_train, y_test])"
      ],
      "execution_count": 10,
      "outputs": []
    },
    {
      "cell_type": "code",
      "metadata": {
        "colab": {
          "base_uri": "https://localhost:8080/"
        },
        "id": "o8ZLIBvxZ54s",
        "outputId": "f8ccf799-ea8e-4a4c-fe12-e8a01f127205"
      },
      "source": [
        "X.shape, y.shape"
      ],
      "execution_count": 11,
      "outputs": [
        {
          "output_type": "execute_result",
          "data": {
            "text/plain": [
              "((7628, 17400), (7628, 100))"
            ]
          },
          "metadata": {},
          "execution_count": 11
        }
      ]
    },
    {
      "cell_type": "code",
      "metadata": {
        "colab": {
          "base_uri": "https://localhost:8080/"
        },
        "id": "m1J7e2ceX73J",
        "outputId": "c202654e-052f-4ac9-d130-aa5211b11738"
      },
      "source": [
        "model, history = Sequential_compile_train(X.toarray(), y.toarray(), epochs=10, verbose=0)"
      ],
      "execution_count": 12,
      "outputs": [
        {
          "output_type": "stream",
          "name": "stdout",
          "text": [
            "Model: \"sequential_1\"\n",
            "_________________________________________________________________\n",
            "Layer (type)                 Output Shape              Param #   \n",
            "=================================================================\n",
            "dense_4 (Dense)              (None, 1000)              17401000  \n",
            "_________________________________________________________________\n",
            "dense_5 (Dense)              (None, 500)               500500    \n",
            "_________________________________________________________________\n",
            "dense_6 (Dense)              (None, 100)               50100     \n",
            "_________________________________________________________________\n",
            "dense_7 (Dense)              (None, 100)               10100     \n",
            "=================================================================\n",
            "Total params: 17,961,700\n",
            "Trainable params: 17,961,700\n",
            "Non-trainable params: 0\n",
            "_________________________________________________________________\n"
          ]
        }
      ]
    },
    {
      "cell_type": "markdown",
      "metadata": {
        "id": "5tP0h2hkdgto"
      },
      "source": [
        "## Save model"
      ]
    },
    {
      "cell_type": "code",
      "metadata": {
        "id": "gE5G9taodb-6"
      },
      "source": [
        "model.save(project_path + 'models/model_final.hdf5')"
      ],
      "execution_count": 13,
      "outputs": []
    }
  ]
}