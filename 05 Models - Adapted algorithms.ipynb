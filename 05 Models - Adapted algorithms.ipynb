{
 "cells": [
  {
   "cell_type": "markdown",
   "metadata": {
    "id": "9s3e8vf0V7ls"
   },
   "source": [
    "# Models - Adapted algorithms"
   ]
  },
  {
   "cell_type": "markdown",
   "metadata": {
    "id": "N2t0WXrvaUVu"
   },
   "source": [
    "**Algorithms used:**\n",
    "\n",
    "* **Neural network**\n",
    "\n",
    "  Neural network models can be configured to support multi-label classification in the following way:\n",
    "    * Number of nodes in the output layer matches the number of labels.\n",
    "    * Sigmoid activation for each node in the output layer.\n",
    "    * Binary cross-entropy loss function."
   ]
  },
  {
   "cell_type": "markdown",
   "metadata": {
    "id": "MbyCupCjB3AF"
   },
   "source": [
    "## Necessary downloads and library imports"
   ]
  },
  {
   "cell_type": "code",
   "execution_count": 1,
   "metadata": {
    "colab": {
     "base_uri": "https://localhost:8080/"
    },
    "executionInfo": {
     "elapsed": 290,
     "status": "ok",
     "timestamp": 1629501332008,
     "user": {
      "displayName": "Marija Katic",
      "photoUrl": "",
      "userId": "11819193703103552976"
     },
     "user_tz": -120
    },
    "id": "UqaPuubtNl7b",
    "outputId": "a0b60b0b-d775-47ce-c992-3231eed64066"
   },
   "outputs": [
    {
     "name": "stdout",
     "output_type": "stream",
     "text": [
      "Drive already mounted at /content/drive; to attempt to forcibly remount, call drive.mount(\"/content/drive\", force_remount=True).\n"
     ]
    }
   ],
   "source": [
    "from google.colab import drive\n",
    "drive.mount('/content/drive')"
   ]
  },
  {
   "cell_type": "code",
   "execution_count": 2,
   "metadata": {
    "executionInfo": {
     "elapsed": 15,
     "status": "ok",
     "timestamp": 1629501332468,
     "user": {
      "displayName": "Marija Katic",
      "photoUrl": "",
      "userId": "11819193703103552976"
     },
     "user_tz": -120
    },
    "id": "syaBWbsVvpXm"
   },
   "outputs": [],
   "source": [
    "project_path = '/content/drive/My Drive/Colab Notebooks/MATF_ML_project/'"
   ]
  },
  {
   "cell_type": "code",
   "execution_count": 3,
   "metadata": {
    "colab": {
     "base_uri": "https://localhost:8080/"
    },
    "executionInfo": {
     "elapsed": 4567,
     "status": "ok",
     "timestamp": 1629501337021,
     "user": {
      "displayName": "Marija Katic",
      "photoUrl": "",
      "userId": "11819193703103552976"
     },
     "user_tz": -120
    },
    "id": "CSYQ8vBZVpB5",
    "outputId": "6ca98234-a010-4b00-f4d5-ff990cf3f0b1"
   },
   "outputs": [
    {
     "name": "stdout",
     "output_type": "stream",
     "text": [
      "Requirement already satisfied: scikit-multilearn in /usr/local/lib/python3.7/dist-packages (0.2.0)\n",
      "Requirement already satisfied: ipynb in /usr/local/lib/python3.7/dist-packages (0.5.1)\n"
     ]
    }
   ],
   "source": [
    "!pip install scikit-multilearn\n",
    "!pip install ipynb"
   ]
  },
  {
   "cell_type": "code",
   "execution_count": 4,
   "metadata": {
    "executionInfo": {
     "elapsed": 1724,
     "status": "ok",
     "timestamp": 1629501338730,
     "user": {
      "displayName": "Marija Katic",
      "photoUrl": "",
      "userId": "11819193703103552976"
     },
     "user_tz": -120
    },
    "id": "NL3qSfzRNvxg"
   },
   "outputs": [],
   "source": [
    "from ipynb.fs.full.utility import *\n",
    "\n",
    "import pandas as pd\n",
    "import numpy as np\n",
    "import matplotlib.pyplot as plt\n",
    "import random\n",
    "\n",
    "import pickle\n",
    "import time\n",
    "import datetime\n",
    "\n",
    "from scipy import sparse\n",
    "\n",
    "import skmultilearn\n",
    "from skmultilearn.model_selection import iterative_train_test_split\n",
    "\n",
    "import tensorflow as tf\n",
    "from tensorflow import keras\n",
    "from tensorflow.keras.models import Sequential\n",
    "from tensorflow.keras.layers import Input, Dense\n",
    "\n",
    "import sklearn.metrics as metrics"
   ]
  },
  {
   "cell_type": "markdown",
   "metadata": {
    "id": "eBOSbwjxmkKn"
   },
   "source": [
    "## Load data"
   ]
  },
  {
   "cell_type": "code",
   "execution_count": 5,
   "metadata": {
    "executionInfo": {
     "elapsed": 454,
     "status": "ok",
     "timestamp": 1629501339182,
     "user": {
      "displayName": "Marija Katic",
      "photoUrl": "",
      "userId": "11819193703103552976"
     },
     "user_tz": -120
    },
    "id": "AwGDMoBfmjhf"
   },
   "outputs": [],
   "source": [
    "X_train_vect_concat = sparse.load_npz(project_path + 'data/X_train_vect_concat.npz')\n",
    "y_train_vect_concat = sparse.load_npz(project_path + 'data/y_train_vect_concat.npz')\n",
    "X_test_vect_concat = sparse.load_npz(project_path + 'data/X_test_vect_concat.npz')\n",
    "y_test_vect_concat = sparse.load_npz(project_path + 'data/y_test_vect_concat.npz')"
   ]
  },
  {
   "cell_type": "code",
   "execution_count": 6,
   "metadata": {
    "executionInfo": {
     "elapsed": 1061,
     "status": "ok",
     "timestamp": 1629501340240,
     "user": {
      "displayName": "Marija Katic",
      "photoUrl": "",
      "userId": "11819193703103552976"
     },
     "user_tz": -120
    },
    "id": "7s1HiSRKkrjL"
   },
   "outputs": [],
   "source": [
    "X_train_concat_vect = sparse.load_npz(project_path + 'data/X_train_concat_vect.npz')\n",
    "y_train_concat_vect = sparse.load_npz(project_path + 'data/y_train_concat_vect.npz')\n",
    "X_test_concat_vect = sparse.load_npz(project_path + 'data/X_test_concat_vect.npz')\n",
    "y_test_concat_vect = sparse.load_npz(project_path + 'data/y_test_concat_vect.npz')"
   ]
  },
  {
   "cell_type": "code",
   "execution_count": 7,
   "metadata": {
    "colab": {
     "base_uri": "https://localhost:8080/"
    },
    "executionInfo": {
     "elapsed": 20,
     "status": "ok",
     "timestamp": 1629501340246,
     "user": {
      "displayName": "Marija Katic",
      "photoUrl": "",
      "userId": "11819193703103552976"
     },
     "user_tz": -120
    },
    "id": "2RwW1C1kpEkX",
    "outputId": "5e7dd41e-2286-4581-bf0b-321aa52b55fc"
   },
   "outputs": [
    {
     "data": {
      "text/plain": [
       "((6051, 15348), (6051, 100), (1577, 15348), (1577, 100))"
      ]
     },
     "execution_count": 7,
     "metadata": {},
     "output_type": "execute_result"
    }
   ],
   "source": [
    "X_train_vect_concat.shape, y_train_vect_concat.shape, X_test_vect_concat.shape, y_test_vect_concat.shape"
   ]
  },
  {
   "cell_type": "code",
   "execution_count": 8,
   "metadata": {
    "colab": {
     "base_uri": "https://localhost:8080/"
    },
    "executionInfo": {
     "elapsed": 16,
     "status": "ok",
     "timestamp": 1629501340246,
     "user": {
      "displayName": "Marija Katic",
      "photoUrl": "",
      "userId": "11819193703103552976"
     },
     "user_tz": -120
    },
    "id": "UF_gI6HEk_tC",
    "outputId": "33ec6320-3789-4104-c41c-06598a033ed0"
   },
   "outputs": [
    {
     "data": {
      "text/plain": [
       "((6062, 9110), (6062, 100), (1566, 9110), (1566, 100))"
      ]
     },
     "execution_count": 8,
     "metadata": {},
     "output_type": "execute_result"
    }
   ],
   "source": [
    "X_train_concat_vect.shape, y_train_concat_vect.shape, X_test_concat_vect.shape, y_test_concat_vect.shape"
   ]
  },
  {
   "cell_type": "markdown",
   "metadata": {
    "id": "4wIZAGiiRrUt"
   },
   "source": [
    "## Train - Validation - Test"
   ]
  },
  {
   "cell_type": "code",
   "execution_count": 9,
   "metadata": {
    "executionInfo": {
     "elapsed": 1050,
     "status": "ok",
     "timestamp": 1629501341286,
     "user": {
      "displayName": "Marija Katic",
      "photoUrl": "",
      "userId": "11819193703103552976"
     },
     "user_tz": -120
    },
    "id": "NlTEl1gp8_W6"
   },
   "outputs": [],
   "source": [
    "X_train_vect_concat, y_train_vect_concat, X_val_vect_concat, y_val_vect_concat = iterative_train_test_split(X_train_vect_concat.toarray(), \n",
    "                                                                                          y_train_vect_concat.toarray(), \n",
    "                                                                                          test_size = 0.2)"
   ]
  },
  {
   "cell_type": "code",
   "execution_count": 10,
   "metadata": {
    "colab": {
     "base_uri": "https://localhost:8080/"
    },
    "executionInfo": {
     "elapsed": 22,
     "status": "ok",
     "timestamp": 1629501341296,
     "user": {
      "displayName": "Marija Katic",
      "photoUrl": "",
      "userId": "11819193703103552976"
     },
     "user_tz": -120
    },
    "id": "jd-75SK3Oagk",
    "outputId": "a3dcff61-f6a5-4ffd-9288-4e65b025cc24"
   },
   "outputs": [
    {
     "data": {
      "text/plain": [
       "((4769, 15348),\n",
       " (4769, 100),\n",
       " (1282, 15348),\n",
       " (1282, 100),\n",
       " (1577, 15348),\n",
       " (1577, 100))"
      ]
     },
     "execution_count": 10,
     "metadata": {},
     "output_type": "execute_result"
    }
   ],
   "source": [
    "X_train_vect_concat.shape, y_train_vect_concat.shape, X_val_vect_concat.shape, y_val_vect_concat.shape, X_test_vect_concat.shape, y_test_vect_concat.shape"
   ]
  },
  {
   "cell_type": "code",
   "execution_count": 11,
   "metadata": {
    "executionInfo": {
     "elapsed": 894,
     "status": "ok",
     "timestamp": 1629501342175,
     "user": {
      "displayName": "Marija Katic",
      "photoUrl": "",
      "userId": "11819193703103552976"
     },
     "user_tz": -120
    },
    "id": "ryLKZOx-OavR"
   },
   "outputs": [],
   "source": [
    "X_train_concat_vect, y_train_concat_vect, X_val_concat_vect, y_val_concat_vect = iterative_train_test_split(X_train_concat_vect.toarray(), \n",
    "                                                                                          y_train_concat_vect.toarray(), \n",
    "                                                                                          test_size = 0.2)"
   ]
  },
  {
   "cell_type": "code",
   "execution_count": 12,
   "metadata": {
    "colab": {
     "base_uri": "https://localhost:8080/"
    },
    "executionInfo": {
     "elapsed": 28,
     "status": "ok",
     "timestamp": 1629501342191,
     "user": {
      "displayName": "Marija Katic",
      "photoUrl": "",
      "userId": "11819193703103552976"
     },
     "user_tz": -120
    },
    "id": "0jrpwpMcOd5W",
    "outputId": "fc87f555-c3d7-4d4c-a0f9-98b1720de019"
   },
   "outputs": [
    {
     "data": {
      "text/plain": [
       "((4770, 9110),\n",
       " (4770, 100),\n",
       " (1292, 9110),\n",
       " (1292, 100),\n",
       " (1566, 9110),\n",
       " (1566, 100))"
      ]
     },
     "execution_count": 12,
     "metadata": {},
     "output_type": "execute_result"
    }
   ],
   "source": [
    "X_train_concat_vect.shape, y_train_concat_vect.shape, X_val_concat_vect.shape, y_val_concat_vect.shape, X_test_concat_vect.shape, y_test_concat_vect.shape"
   ]
  },
  {
   "cell_type": "markdown",
   "metadata": {
    "id": "riYpeE88aLuS"
   },
   "source": [
    "## Models"
   ]
  },
  {
   "cell_type": "code",
   "execution_count": 13,
   "metadata": {
    "colab": {
     "base_uri": "https://localhost:8080/"
    },
    "executionInfo": {
     "elapsed": 22085,
     "status": "ok",
     "timestamp": 1629501364254,
     "user": {
      "displayName": "Marija Katic",
      "photoUrl": "",
      "userId": "11819193703103552976"
     },
     "user_tz": -120
    },
    "id": "w6VWguFRNvs3",
    "outputId": "72153434-b999-4ced-ccd1-1263f2b944ca"
   },
   "outputs": [
    {
     "name": "stdout",
     "output_type": "stream",
     "text": [
      "Model: \"sequential\"\n",
      "_________________________________________________________________\n",
      "Layer (type)                 Output Shape              Param #   \n",
      "=================================================================\n",
      "dense (Dense)                (None, 1000)              15349000  \n",
      "_________________________________________________________________\n",
      "dense_1 (Dense)              (None, 500)               500500    \n",
      "_________________________________________________________________\n",
      "dense_2 (Dense)              (None, 100)               50100     \n",
      "_________________________________________________________________\n",
      "dense_3 (Dense)              (None, 100)               10100     \n",
      "=================================================================\n",
      "Total params: 15,909,700\n",
      "Trainable params: 15,909,700\n",
      "Non-trainable params: 0\n",
      "_________________________________________________________________\n"
     ]
    }
   ],
   "source": [
    "model_vect_concat, history_vect_concat = Sequential_compile_train(X_train_vect_concat, y_train_vect_concat, (X_val_vect_concat, y_val_vect_concat), verbose=0)"
   ]
  },
  {
   "cell_type": "code",
   "execution_count": 14,
   "metadata": {
    "colab": {
     "base_uri": "https://localhost:8080/"
    },
    "executionInfo": {
     "elapsed": 11126,
     "status": "ok",
     "timestamp": 1629501375367,
     "user": {
      "displayName": "Marija Katic",
      "photoUrl": "",
      "userId": "11819193703103552976"
     },
     "user_tz": -120
    },
    "id": "LlSLLR0SK8q7",
    "outputId": "418aa644-f50d-4a13-e807-0d57cb56e03a"
   },
   "outputs": [
    {
     "name": "stdout",
     "output_type": "stream",
     "text": [
      "Model: \"sequential_1\"\n",
      "_________________________________________________________________\n",
      "Layer (type)                 Output Shape              Param #   \n",
      "=================================================================\n",
      "dense_4 (Dense)              (None, 1000)              9111000   \n",
      "_________________________________________________________________\n",
      "dense_5 (Dense)              (None, 500)               500500    \n",
      "_________________________________________________________________\n",
      "dense_6 (Dense)              (None, 100)               50100     \n",
      "_________________________________________________________________\n",
      "dense_7 (Dense)              (None, 100)               10100     \n",
      "=================================================================\n",
      "Total params: 9,671,700\n",
      "Trainable params: 9,671,700\n",
      "Non-trainable params: 0\n",
      "_________________________________________________________________\n"
     ]
    }
   ],
   "source": [
    "model_concat_vect, history_concat_vect = Sequential_compile_train(X_train_concat_vect, y_train_concat_vect, (X_val_concat_vect, y_val_concat_vect), verbose=0)"
   ]
  },
  {
   "cell_type": "code",
   "execution_count": 15,
   "metadata": {
    "colab": {
     "base_uri": "https://localhost:8080/",
     "height": 350
    },
    "executionInfo": {
     "elapsed": 650,
     "status": "ok",
     "timestamp": 1629501376013,
     "user": {
      "displayName": "Marija Katic",
      "photoUrl": "",
      "userId": "11819193703103552976"
     },
     "user_tz": -120
    },
    "id": "2IeJmDlDMk-X",
    "outputId": "b1475cbc-366b-4f87-e84f-6f3a3a6d00fa"
   },
   "outputs": [
    {
     "data": {
      "image/png": "[encoded data removed]",
      "text/plain": [
       "<Figure size 1080x360 with 2 Axes>"
      ]
     },
     "metadata": {
      "needs_background": "light"
     },
     "output_type": "display_data"
    }
   ],
   "source": [
    "plot_training_histroy(history_vect_concat)"
   ]
  },
  {
   "cell_type": "code",
   "execution_count": 16,
   "metadata": {
    "colab": {
     "base_uri": "https://localhost:8080/"
    },
    "executionInfo": {
     "elapsed": 14,
     "status": "ok",
     "timestamp": 1629501376016,
     "user": {
      "displayName": "Marija Katic",
      "photoUrl": "",
      "userId": "11819193703103552976"
     },
     "user_tz": -120
    },
    "id": "zvdoj5ByPPPs",
    "outputId": "253dd863-32c4-4180-8bb6-ac0b8821043e"
   },
   "outputs": [
    {
     "name": "stdout",
     "output_type": "stream",
     "text": [
      "Hamming Score ('Accuracy' by Keras):\t98.780\n",
      "Hamming Score (= 1 - Hamming Loss):\t98.780\n",
      "Exact match ratio (Subset Accuracy):\t22.075\n",
      "F1-Score Micro Averaged:\t\t46.694\n",
      "F1-Score Macro Averaged:\t\t34.211\n",
      "F1-Score Weighted Average:\t\t51.719\n",
      "Precision Score Micro Averaged:\t\t35.364\n",
      "Recall Score Micro Averaged:\t\t68.706\n"
     ]
    }
   ],
   "source": [
    "predicted_prob = model_vect_concat.predict(X_val_vect_concat)\n",
    "predicted = predicted_prob.round()\n",
    "print_metrics(predicted, y_val_vect_concat)"
   ]
  },
  {
   "cell_type": "code",
   "execution_count": 17,
   "metadata": {
    "colab": {
     "base_uri": "https://localhost:8080/",
     "height": 350
    },
    "executionInfo": {
     "elapsed": 424,
     "status": "ok",
     "timestamp": 1629501376430,
     "user": {
      "displayName": "Marija Katic",
      "photoUrl": "",
      "userId": "11819193703103552976"
     },
     "user_tz": -120
    },
    "id": "RCN9YAtPLhow",
    "outputId": "e66617cc-a49a-4b08-bed5-54d4b3a45888"
   },
   "outputs": [
    {
     "data": {
      "image/png": "[encoded data removed]",
      "text/plain": [
       "<Figure size 1080x360 with 2 Axes>"
      ]
     },
     "metadata": {
      "needs_background": "light"
     },
     "output_type": "display_data"
    }
   ],
   "source": [
    "plot_training_histroy(history_concat_vect)"
   ]
  },
  {
   "cell_type": "code",
   "execution_count": 18,
   "metadata": {
    "colab": {
     "base_uri": "https://localhost:8080/"
    },
    "executionInfo": {
     "elapsed": 11,
     "status": "ok",
     "timestamp": 1629501376432,
     "user": {
      "displayName": "Marija Katic",
      "photoUrl": "",
      "userId": "11819193703103552976"
     },
     "user_tz": -120
    },
    "id": "89worZCwP6_l",
    "outputId": "153ff4ab-e62d-4f63-d091-ae4b0671f9df"
   },
   "outputs": [
    {
     "name": "stdout",
     "output_type": "stream",
     "text": [
      "Hamming Score ('Accuracy' by Keras):\t98.741\n",
      "Hamming Score (= 1 - Hamming Loss):\t98.741\n",
      "Exact match ratio (Subset Accuracy):\t21.362\n",
      "F1-Score Micro Averaged:\t\t47.702\n",
      "F1-Score Macro Averaged:\t\t34.618\n",
      "F1-Score Weighted Average:\t\t51.581\n",
      "Precision Score Micro Averaged:\t\t38.307\n",
      "Recall Score Micro Averaged:\t\t63.203\n"
     ]
    }
   ],
   "source": [
    "predicted_prob = model_concat_vect.predict(X_val_concat_vect)\n",
    "predicted = predicted_prob.round()\n",
    "print_metrics(predicted, y_val_concat_vect)"
   ]
  },
  {
   "cell_type": "code",
   "execution_count": 18,
   "metadata": {
    "executionInfo": {
     "elapsed": 422,
     "status": "ok",
     "timestamp": 1629501376846,
     "user": {
      "displayName": "Marija Katic",
      "photoUrl": "",
      "userId": "11819193703103552976"
     },
     "user_tz": -120
    },
    "id": "iNORBr52Y-VR"
   },
   "outputs": [],
   "source": []
  }
 ],
 "metadata": {
  "accelerator": "GPU",
  "colab": {
   "authorship_tag": "ABX9TyMyxFrJ+1JNOtwWlGJilozh",
   "collapsed_sections": [],
   "name": "05 Models - Adapted algorithms.ipynb",
   "provenance": []
  },
  "kernelspec": {
   "display_name": "Python 3",
   "language": "python",
   "name": "python3"
  },
  "language_info": {
   "codemirror_mode": {
    "name": "ipython",
    "version": 3
   },
   "file_extension": ".py",
   "mimetype": "text/x-python",
   "name": "python",
   "nbconvert_exporter": "python",
   "pygments_lexer": "ipython3",
   "version": "3.7.11"
  }
 },
 "nbformat": 4,
 "nbformat_minor": 1
}
