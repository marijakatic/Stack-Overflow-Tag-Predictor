{
  "nbformat": 4,
  "nbformat_minor": 0,
  "metadata": {
    "colab": {
      "name": "05 Models - Adapted algorithms.ipynb",
      "provenance": [],
      "collapsed_sections": []
    },
    "kernelspec": {
      "name": "python3",
      "display_name": "Python 3"
    },
    "language_info": {
      "name": "python"
    },
    "accelerator": "GPU"
  },
  "cells": [
    {
      "cell_type": "markdown",
      "metadata": {
        "id": "9s3e8vf0V7ls"
      },
      "source": [
        "# <center>Models - Adapted algorithms</center>"
      ]
    },
    {
      "cell_type": "markdown",
      "metadata": {
        "id": "N2t0WXrvaUVu"
      },
      "source": [
        "**Algorithms used:**\n",
        "\n",
        "* **Neural network**\n",
        "\n",
        "  Neural network models can be configured to support multi-label classification in the following way:\n",
        "    * Number of nodes in the output layer matches the number of labels.\n",
        "    * Sigmoid activation for each node in the output layer.\n",
        "    * Binary cross-entropy loss function."
      ]
    },
    {
      "cell_type": "markdown",
      "metadata": {
        "id": "MbyCupCjB3AF"
      },
      "source": [
        "## Necessary downloads and library imports"
      ]
    },
    {
      "cell_type": "code",
      "metadata": {
        "colab": {
          "base_uri": "https://localhost:8080/"
        },
        "id": "UqaPuubtNl7b",
        "outputId": "3f478731-3cc5-4e6d-cae9-b5d1f235f4dc"
      },
      "source": [
        "from google.colab import drive\n",
        "drive.mount('/content/drive')"
      ],
      "execution_count": 1,
      "outputs": [
        {
          "output_type": "stream",
          "name": "stdout",
          "text": [
            "Mounted at /content/drive\n"
          ]
        }
      ]
    },
    {
      "cell_type": "code",
      "metadata": {
        "id": "syaBWbsVvpXm"
      },
      "source": [
        "project_path = '/content/drive/My Drive/Colab Notebooks/MATF_ML_project/'"
      ],
      "execution_count": 2,
      "outputs": []
    },
    {
      "cell_type": "code",
      "metadata": {
        "colab": {
          "base_uri": "https://localhost:8080/"
        },
        "id": "CSYQ8vBZVpB5",
        "outputId": "73c0aa93-6486-481c-ae8e-6ad426138986"
      },
      "source": [
        "!pip install scikit-multilearn\n",
        "!pip install ipynb"
      ],
      "execution_count": 3,
      "outputs": [
        {
          "output_type": "stream",
          "name": "stdout",
          "text": [
            "Collecting scikit-multilearn\n",
            "  Downloading scikit_multilearn-0.2.0-py3-none-any.whl (89 kB)\n",
            "\u001b[?25l\r\u001b[K     |███▊                            | 10 kB 27.1 MB/s eta 0:00:01\r\u001b[K     |███████▍                        | 20 kB 26.8 MB/s eta 0:00:01\r\u001b[K     |███████████                     | 30 kB 12.8 MB/s eta 0:00:01\r\u001b[K     |██████████████▊                 | 40 kB 9.8 MB/s eta 0:00:01\r\u001b[K     |██████████████████▍             | 51 kB 5.3 MB/s eta 0:00:01\r\u001b[K     |██████████████████████          | 61 kB 5.9 MB/s eta 0:00:01\r\u001b[K     |█████████████████████████▊      | 71 kB 5.7 MB/s eta 0:00:01\r\u001b[K     |█████████████████████████████▍  | 81 kB 6.4 MB/s eta 0:00:01\r\u001b[K     |████████████████████████████████| 89 kB 4.2 MB/s \n",
            "\u001b[?25hInstalling collected packages: scikit-multilearn\n",
            "Successfully installed scikit-multilearn-0.2.0\n",
            "Collecting ipynb\n",
            "  Downloading ipynb-0.5.1-py3-none-any.whl (6.9 kB)\n",
            "Installing collected packages: ipynb\n",
            "Successfully installed ipynb-0.5.1\n"
          ]
        }
      ]
    },
    {
      "cell_type": "code",
      "metadata": {
        "id": "NL3qSfzRNvxg"
      },
      "source": [
        "from ipynb.fs.full.utility import *\n",
        "\n",
        "import pandas as pd\n",
        "import numpy as np\n",
        "import matplotlib.pyplot as plt\n",
        "import random\n",
        "\n",
        "import pickle\n",
        "import time\n",
        "import datetime\n",
        "\n",
        "from scipy import sparse\n",
        "\n",
        "import skmultilearn\n",
        "from skmultilearn.model_selection import iterative_train_test_split\n",
        "\n",
        "import tensorflow as tf\n",
        "from tensorflow import keras\n",
        "from tensorflow.keras.models import Sequential\n",
        "from tensorflow.keras.layers import Input, Dense\n",
        "\n",
        "import sklearn.metrics as metrics"
      ],
      "execution_count": 4,
      "outputs": []
    },
    {
      "cell_type": "markdown",
      "metadata": {
        "id": "eBOSbwjxmkKn"
      },
      "source": [
        "## Load data"
      ]
    },
    {
      "cell_type": "code",
      "metadata": {
        "id": "AwGDMoBfmjhf"
      },
      "source": [
        "X_train_vect_concat = sparse.load_npz(project_path + 'data/X_train_vect_concat.npz')\n",
        "y_train_vect_concat = sparse.load_npz(project_path + 'data/y_train_vect_concat.npz')\n",
        "X_test_vect_concat = sparse.load_npz(project_path + 'data/X_test_vect_concat.npz')\n",
        "y_test_vect_concat = sparse.load_npz(project_path + 'data/y_test_vect_concat.npz')"
      ],
      "execution_count": 5,
      "outputs": []
    },
    {
      "cell_type": "code",
      "metadata": {
        "id": "7s1HiSRKkrjL"
      },
      "source": [
        "X_train_concat_vect = sparse.load_npz(project_path + 'data/X_train_concat_vect.npz')\n",
        "y_train_concat_vect = sparse.load_npz(project_path + 'data/y_train_concat_vect.npz')\n",
        "X_test_concat_vect = sparse.load_npz(project_path + 'data/X_test_concat_vect.npz')\n",
        "y_test_concat_vect = sparse.load_npz(project_path + 'data/y_test_concat_vect.npz')"
      ],
      "execution_count": 6,
      "outputs": []
    },
    {
      "cell_type": "code",
      "metadata": {
        "colab": {
          "base_uri": "https://localhost:8080/"
        },
        "id": "2RwW1C1kpEkX",
        "outputId": "1d6f69b1-3129-4f74-b956-04601b5551e1"
      },
      "source": [
        "X_train_vect_concat.shape, y_train_vect_concat.shape, X_test_vect_concat.shape, y_test_vect_concat.shape"
      ],
      "execution_count": 7,
      "outputs": [
        {
          "output_type": "execute_result",
          "data": {
            "text/plain": [
              "((6058, 17416), (6058, 100), (1570, 17416), (1570, 100))"
            ]
          },
          "metadata": {},
          "execution_count": 7
        }
      ]
    },
    {
      "cell_type": "code",
      "metadata": {
        "colab": {
          "base_uri": "https://localhost:8080/"
        },
        "id": "UF_gI6HEk_tC",
        "outputId": "712ccf5a-1385-4012-cefc-0a32e0ee7bec"
      },
      "source": [
        "X_train_concat_vect.shape, y_train_concat_vect.shape, X_test_concat_vect.shape, y_test_concat_vect.shape"
      ],
      "execution_count": 8,
      "outputs": [
        {
          "output_type": "execute_result",
          "data": {
            "text/plain": [
              "((6058, 12007), (6058, 100), (1570, 12007), (1570, 100))"
            ]
          },
          "metadata": {},
          "execution_count": 8
        }
      ]
    },
    {
      "cell_type": "markdown",
      "metadata": {
        "id": "4wIZAGiiRrUt"
      },
      "source": [
        "## Train - Validation - Test"
      ]
    },
    {
      "cell_type": "code",
      "metadata": {
        "id": "NlTEl1gp8_W6"
      },
      "source": [
        "X_train_vect_concat, y_train_vect_concat, X_val_vect_concat, y_val_vect_concat = iterative_train_test_split(X_train_vect_concat.toarray(), \n",
        "                                                                                          y_train_vect_concat.toarray(), \n",
        "                                                                                          test_size = 0.2)"
      ],
      "execution_count": 9,
      "outputs": []
    },
    {
      "cell_type": "code",
      "metadata": {
        "colab": {
          "base_uri": "https://localhost:8080/"
        },
        "id": "jd-75SK3Oagk",
        "outputId": "8ad14f62-a1f4-492b-eb7f-e559ea7a7474"
      },
      "source": [
        "X_train_vect_concat.shape, y_train_vect_concat.shape, X_val_vect_concat.shape, y_val_vect_concat.shape, X_test_vect_concat.shape, y_test_vect_concat.shape"
      ],
      "execution_count": 10,
      "outputs": [
        {
          "output_type": "execute_result",
          "data": {
            "text/plain": [
              "((4763, 17416),\n",
              " (4763, 100),\n",
              " (1295, 17416),\n",
              " (1295, 100),\n",
              " (1570, 17416),\n",
              " (1570, 100))"
            ]
          },
          "metadata": {},
          "execution_count": 10
        }
      ]
    },
    {
      "cell_type": "code",
      "metadata": {
        "id": "ryLKZOx-OavR"
      },
      "source": [
        "X_train_concat_vect, y_train_concat_vect, X_val_concat_vect, y_val_concat_vect = iterative_train_test_split(X_train_concat_vect.toarray(), \n",
        "                                                                                          y_train_concat_vect.toarray(), \n",
        "                                                                                          test_size = 0.2)"
      ],
      "execution_count": 11,
      "outputs": []
    },
    {
      "cell_type": "code",
      "metadata": {
        "colab": {
          "base_uri": "https://localhost:8080/"
        },
        "id": "0jrpwpMcOd5W",
        "outputId": "85353439-c3ff-423b-fb59-654ab2a9d133"
      },
      "source": [
        "X_train_concat_vect.shape, y_train_concat_vect.shape, X_val_concat_vect.shape, y_val_concat_vect.shape, X_test_concat_vect.shape, y_test_concat_vect.shape"
      ],
      "execution_count": 12,
      "outputs": [
        {
          "output_type": "execute_result",
          "data": {
            "text/plain": [
              "((4774, 12007),\n",
              " (4774, 100),\n",
              " (1284, 12007),\n",
              " (1284, 100),\n",
              " (1570, 12007),\n",
              " (1570, 100))"
            ]
          },
          "metadata": {},
          "execution_count": 12
        }
      ]
    },
    {
      "cell_type": "markdown",
      "metadata": {
        "id": "riYpeE88aLuS"
      },
      "source": [
        "## Models"
      ]
    },
    {
      "cell_type": "code",
      "metadata": {
        "id": "w6VWguFRNvs3",
        "colab": {
          "base_uri": "https://localhost:8080/"
        },
        "outputId": "ed88210f-0704-4370-8721-c683f1d37684"
      },
      "source": [
        "model_vect_concat, history_vect_concat = Sequential_compile_train(X_train_vect_concat, y_train_vect_concat, (X_val_vect_concat, y_val_vect_concat), verbose=0, \n",
        "                                                                  Adam_learning_rate=0.0001, epochs=15)"
      ],
      "execution_count": 13,
      "outputs": [
        {
          "output_type": "stream",
          "name": "stdout",
          "text": [
            "Model: \"sequential\"\n",
            "_________________________________________________________________\n",
            "Layer (type)                 Output Shape              Param #   \n",
            "=================================================================\n",
            "dense (Dense)                (None, 1000)              17417000  \n",
            "_________________________________________________________________\n",
            "dense_1 (Dense)              (None, 500)               500500    \n",
            "_________________________________________________________________\n",
            "dense_2 (Dense)              (None, 100)               50100     \n",
            "_________________________________________________________________\n",
            "dense_3 (Dense)              (None, 100)               10100     \n",
            "=================================================================\n",
            "Total params: 17,977,700\n",
            "Trainable params: 17,977,700\n",
            "Non-trainable params: 0\n",
            "_________________________________________________________________\n"
          ]
        }
      ]
    },
    {
      "cell_type": "code",
      "metadata": {
        "colab": {
          "base_uri": "https://localhost:8080/"
        },
        "id": "LlSLLR0SK8q7",
        "outputId": "0d5d9db8-b9c7-4a1c-e51f-592c9c300995"
      },
      "source": [
        "model_concat_vect, history_concat_vect = Sequential_compile_train(X_train_concat_vect, y_train_concat_vect, (X_val_concat_vect, y_val_concat_vect), verbose=0,\n",
        "                                                                  Adam_learning_rate=0.0001, epochs=15)"
      ],
      "execution_count": 14,
      "outputs": [
        {
          "output_type": "stream",
          "name": "stdout",
          "text": [
            "Model: \"sequential_1\"\n",
            "_________________________________________________________________\n",
            "Layer (type)                 Output Shape              Param #   \n",
            "=================================================================\n",
            "dense_4 (Dense)              (None, 1000)              12008000  \n",
            "_________________________________________________________________\n",
            "dense_5 (Dense)              (None, 500)               500500    \n",
            "_________________________________________________________________\n",
            "dense_6 (Dense)              (None, 100)               50100     \n",
            "_________________________________________________________________\n",
            "dense_7 (Dense)              (None, 100)               10100     \n",
            "=================================================================\n",
            "Total params: 12,568,700\n",
            "Trainable params: 12,568,700\n",
            "Non-trainable params: 0\n",
            "_________________________________________________________________\n"
          ]
        }
      ]
    },
    {
      "cell_type": "code",
      "metadata": {
        "colab": {
          "base_uri": "https://localhost:8080/",
          "height": 350
        },
        "id": "2IeJmDlDMk-X",
        "outputId": "74303b2b-a71d-4e74-f523-dd5281e97527"
      },
      "source": [
        "plot_training_histroy(history_vect_concat)"
      ],
      "execution_count": 15,
      "outputs": [
        {
          "output_type": "display_data",
          "data": {
            "image/png": "[encoded data removed]",
            "text/plain": [
              "<Figure size 1080x360 with 2 Axes>"
            ]
          },
          "metadata": {
            "needs_background": "light"
          }
        }
      ]
    },
    {
      "cell_type": "code",
      "metadata": {
        "colab": {
          "base_uri": "https://localhost:8080/"
        },
        "id": "zvdoj5ByPPPs",
        "outputId": "cf2dda38-2b9c-4899-f921-d4c464dc7b82"
      },
      "source": [
        "predicted_prob = model_vect_concat.predict(X_val_vect_concat)\n",
        "predicted = predicted_prob.round()\n",
        "print_metrics(predicted, y_val_vect_concat)"
      ],
      "execution_count": 16,
      "outputs": [
        {
          "output_type": "stream",
          "name": "stdout",
          "text": [
            "Hamming Score ('Accuracy' by Keras):\t98.761\n",
            "Hamming Score (= 1 - Hamming Loss):\t98.761\n",
            "Exact match ratio (Subset Accuracy):\t17.915\n",
            "F1-Score Micro Averaged:\t\t38.638\n",
            "F1-Score Macro Averaged:\t\t15.647\n",
            "F1-Score Weighted Average:\t\t51.264\n",
            "Precision Score Micro Averaged:\t\t26.085\n",
            "Recall Score Micro Averaged:\t\t74.484\n"
          ]
        }
      ]
    },
    {
      "cell_type": "code",
      "metadata": {
        "colab": {
          "base_uri": "https://localhost:8080/",
          "height": 350
        },
        "id": "RCN9YAtPLhow",
        "outputId": "e4db1036-51df-459f-f746-15c9afab6bdf"
      },
      "source": [
        "plot_training_histroy(history_concat_vect)"
      ],
      "execution_count": 17,
      "outputs": [
        {
          "output_type": "display_data",
          "data": {
            "image/png": "[encoded data removed]",
            "text/plain": [
              "<Figure size 1080x360 with 2 Axes>"
            ]
          },
          "metadata": {
            "needs_background": "light"
          }
        }
      ]
    },
    {
      "cell_type": "code",
      "metadata": {
        "colab": {
          "base_uri": "https://localhost:8080/"
        },
        "id": "89worZCwP6_l",
        "outputId": "b2cad606-6585-4b67-9ca7-1fb4196c5074"
      },
      "source": [
        "predicted_prob = model_concat_vect.predict(X_val_concat_vect)\n",
        "predicted = predicted_prob.round()\n",
        "print_metrics(predicted, y_val_concat_vect)"
      ],
      "execution_count": 18,
      "outputs": [
        {
          "output_type": "stream",
          "name": "stdout",
          "text": [
            "Hamming Score ('Accuracy' by Keras):\t98.688\n",
            "Hamming Score (= 1 - Hamming Loss):\t98.688\n",
            "Exact match ratio (Subset Accuracy):\t12.928\n",
            "F1-Score Micro Averaged:\t\t30.401\n",
            "F1-Score Macro Averaged:\t\t6.583\n",
            "F1-Score Weighted Average:\t\t51.906\n",
            "Precision Score Micro Averaged:\t\t19.008\n",
            "Recall Score Micro Averaged:\t\t75.876\n"
          ]
        }
      ]
    },
    {
      "cell_type": "markdown",
      "metadata": {
        "id": "5tP0h2hkdgto"
      },
      "source": [
        "## Save models"
      ]
    },
    {
      "cell_type": "code",
      "metadata": {
        "id": "gE5G9taodb-6"
      },
      "source": [
        "model_vect_concat.save(project_path + 'models/model_nn_vect_concat.hdf5')\n",
        "model_concat_vect.save(project_path + 'models/model_nn_concat_vect.hdf5')"
      ],
      "execution_count": 19,
      "outputs": []
    }
  ]
}