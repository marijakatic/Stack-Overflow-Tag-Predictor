{
 "cells": [
  {
   "cell_type": "markdown",
   "id": "XatTrw2KVyAW",
   "metadata": {
    "id": "XatTrw2KVyAW"
   },
   "source": [
    "# Models - Transformation into binary classification"
   ]
  },
  {
   "cell_type": "markdown",
   "id": "FCT8r3BUYvjt",
   "metadata": {
    "id": "FCT8r3BUYvjt"
   },
   "source": [
    "**Transformation techniques used:**\n",
    "\n",
    "* Binary Relevance\n",
    "* Classification Chains, with classifier orders:\n",
    "    * Most frequent first\n",
    "    * Least frequent first\n",
    "    * Random order\n",
    "\n",
    "**Base classification models used:**\n",
    "\n",
    "* Logistic Regression\n",
    "* Multinomial Naive Bayes\n",
    "* Support Vector Machines"
   ]
  },
  {
   "cell_type": "markdown",
   "id": "MbyCupCjB3AF",
   "metadata": {
    "id": "MbyCupCjB3AF"
   },
   "source": [
    "## Necessary downloads and library imports"
   ]
  },
  {
   "cell_type": "code",
   "execution_count": 1,
   "id": "jp8DfrmODwlg",
   "metadata": {
    "colab": {
     "base_uri": "https://localhost:8080/"
    },
    "id": "jp8DfrmODwlg",
    "outputId": "db01568e-fb5b-4b55-aacf-c8adf1cff3f3"
   },
   "outputs": [
    {
     "name": "stdout",
     "output_type": "stream",
     "text": [
      "Drive already mounted at /content/drive; to attempt to forcibly remount, call drive.mount(\"/content/drive\", force_remount=True).\n"
     ]
    }
   ],
   "source": [
    "from google.colab import drive\n",
    "drive.mount('/content/drive')"
   ]
  },
  {
   "cell_type": "code",
   "execution_count": 2,
   "id": "syaBWbsVvpXm",
   "metadata": {
    "id": "syaBWbsVvpXm"
   },
   "outputs": [],
   "source": [
    "project_path = '/content/drive/My Drive/Colab Notebooks/MATF_ML_project/'"
   ]
  },
  {
   "cell_type": "code",
   "execution_count": 3,
   "id": "WYQ2KMM2D3sL",
   "metadata": {
    "colab": {
     "base_uri": "https://localhost:8080/"
    },
    "id": "WYQ2KMM2D3sL",
    "outputId": "f2e8e5fc-aa48-4039-a833-1b6479359aab"
   },
   "outputs": [
    {
     "name": "stdout",
     "output_type": "stream",
     "text": [
      "Requirement already satisfied: scikit-multilearn in /usr/local/lib/python3.7/dist-packages (0.2.0)\n",
      "Requirement already satisfied: ipynb in /usr/local/lib/python3.7/dist-packages (0.5.1)\n"
     ]
    }
   ],
   "source": [
    "!pip install scikit-multilearn\n",
    "!pip install ipynb"
   ]
  },
  {
   "cell_type": "code",
   "execution_count": 4,
   "id": "a7a0a7cd",
   "metadata": {
    "id": "a7a0a7cd"
   },
   "outputs": [],
   "source": [
    "from ipynb.fs.full.utility import *\n",
    "\n",
    "import pandas as pd\n",
    "import numpy as np\n",
    "import matplotlib.pyplot as plt\n",
    "import random\n",
    "\n",
    "import pickle\n",
    "import time\n",
    "import datetime\n",
    "import copy\n",
    "import warnings\n",
    "\n",
    "from scipy import sparse\n",
    "\n",
    "import skmultilearn\n",
    "from skmultilearn.model_selection import iterative_train_test_split\n",
    "from skmultilearn.problem_transform import BinaryRelevance\n",
    "from skmultilearn.problem_transform import ClassifierChain\n",
    "\n",
    "from sklearn.model_selection import GridSearchCV\n",
    "from sklearn.model_selection import ShuffleSplit\n",
    "from sklearn.model_selection import PredefinedSplit\n",
    "from sklearn.linear_model import LogisticRegression\n",
    "from sklearn.naive_bayes import MultinomialNB\n",
    "from sklearn.svm import SVC\n",
    "import sklearn.metrics as metrics\n",
    "from sklearn.metrics import make_scorer"
   ]
  },
  {
   "cell_type": "markdown",
   "id": "eBOSbwjxmkKn",
   "metadata": {
    "id": "eBOSbwjxmkKn"
   },
   "source": [
    "## Load data"
   ]
  },
  {
   "cell_type": "code",
   "execution_count": 5,
   "id": "AwGDMoBfmjhf",
   "metadata": {
    "id": "AwGDMoBfmjhf"
   },
   "outputs": [],
   "source": [
    "X_train_vect_concat = sparse.load_npz(project_path + 'data/X_train_vect_concat.npz')\n",
    "y_train_vect_concat = sparse.load_npz(project_path + 'data/y_train_vect_concat.npz')\n",
    "X_test_vect_concat = sparse.load_npz(project_path + 'data/X_test_vect_concat.npz')\n",
    "y_test_vect_concat = sparse.load_npz(project_path + 'data/y_test_vect_concat.npz')"
   ]
  },
  {
   "cell_type": "code",
   "execution_count": 6,
   "id": "7s1HiSRKkrjL",
   "metadata": {
    "id": "7s1HiSRKkrjL"
   },
   "outputs": [],
   "source": [
    "X_train_concat_vect = sparse.load_npz(project_path + 'data/X_train_concat_vect.npz')\n",
    "y_train_concat_vect = sparse.load_npz(project_path + 'data/y_train_concat_vect.npz')\n",
    "X_test_concat_vect = sparse.load_npz(project_path + 'data/X_test_concat_vect.npz')\n",
    "y_test_concat_vect = sparse.load_npz(project_path + 'data/y_test_concat_vect.npz')"
   ]
  },
  {
   "cell_type": "code",
   "execution_count": 7,
   "id": "2RwW1C1kpEkX",
   "metadata": {
    "colab": {
     "base_uri": "https://localhost:8080/"
    },
    "id": "2RwW1C1kpEkX",
    "outputId": "b6e0cbcd-96cc-4e94-eca4-3073ed84908d"
   },
   "outputs": [
    {
     "data": {
      "text/plain": [
       "((6058, 17416), (6058, 100), (1570, 17416), (1570, 100))"
      ]
     },
     "execution_count": 7,
     "metadata": {},
     "output_type": "execute_result"
    }
   ],
   "source": [
    "X_train_vect_concat.shape, y_train_vect_concat.shape, X_test_vect_concat.shape, y_test_vect_concat.shape"
   ]
  },
  {
   "cell_type": "code",
   "execution_count": 8,
   "id": "UF_gI6HEk_tC",
   "metadata": {
    "colab": {
     "base_uri": "https://localhost:8080/"
    },
    "id": "UF_gI6HEk_tC",
    "outputId": "ffbfe1f4-a4e2-43a9-d0e7-85eb73353054"
   },
   "outputs": [
    {
     "data": {
      "text/plain": [
       "((6058, 12007), (6058, 100), (1570, 12007), (1570, 100))"
      ]
     },
     "execution_count": 8,
     "metadata": {},
     "output_type": "execute_result"
    }
   ],
   "source": [
    "X_train_concat_vect.shape, y_train_concat_vect.shape, X_test_concat_vect.shape, y_test_concat_vect.shape"
   ]
  },
  {
   "cell_type": "code",
   "execution_count": 9,
   "id": "sdddLHd64k46",
   "metadata": {
    "colab": {
     "base_uri": "https://localhost:8080/"
    },
    "id": "sdddLHd64k46",
    "outputId": "a0b5d8d1-f0a8-47f3-ce06-57dda174c7c0"
   },
   "outputs": [
    {
     "data": {
      "text/plain": [
       "100"
      ]
     },
     "execution_count": 9,
     "metadata": {},
     "output_type": "execute_result"
    }
   ],
   "source": [
    "N_labels = y_train_vect_concat.shape[1]\n",
    "N_labels"
   ]
  },
  {
   "cell_type": "code",
   "execution_count": 10,
   "id": "hHsnO65A2Sx-",
   "metadata": {
    "id": "hHsnO65A2Sx-"
   },
   "outputs": [],
   "source": [
    "data_list = [(X_train_vect_concat, y_train_vect_concat), (X_train_concat_vect, y_train_concat_vect)]"
   ]
  },
  {
   "cell_type": "markdown",
   "id": "7c8e2465",
   "metadata": {
    "id": "7c8e2465"
   },
   "source": [
    "## Binary Relevance"
   ]
  },
  {
   "cell_type": "code",
   "execution_count": 11,
   "id": "K-x8XlV1N2yT",
   "metadata": {
    "id": "K-x8XlV1N2yT"
   },
   "outputs": [],
   "source": [
    "parameters = [\n",
    "    {\n",
    "        'classifier': [MultinomialNB()],\n",
    "    },\n",
    "    {\n",
    "        'classifier': [SVC()],\n",
    "        'classifier__kernel': ['linear'],\n",
    "        'classifier__verbose': [0],\n",
    "        'require_dense': [[False, True]],\n",
    "    },\n",
    "    {\n",
    "        'classifier': [LogisticRegression()],\n",
    "        'classifier__solver': ['lbfgs'],\n",
    "        'classifier__verbose': [0],\n",
    "        'require_dense': [[False, True]],\n",
    "    },\n",
    "]"
   ]
  },
  {
   "cell_type": "markdown",
   "id": "8Kh-tx37ljOD",
   "metadata": {
    "id": "8Kh-tx37ljOD"
   },
   "source": [
    "When true positive + false positive == 0, precision is undefined. When true positive + false negative == 0, recall is undefined. In such cases, by default the metric will be set to 0, as will f-score, and UndefinedMetricWarning will be raised. We will suppress this warning."
   ]
  },
  {
   "cell_type": "code",
   "execution_count": 12,
   "id": "yz_O-VV0zz7Q",
   "metadata": {
    "id": "yz_O-VV0zz7Q"
   },
   "outputs": [],
   "source": [
    "with warnings.catch_warnings():\n",
    "    warnings.simplefilter(\"ignore\")\n",
    "    result_binary_relevance = GridSearchCVMultipleFits(BinaryRelevance(), parameters, \n",
    "                              cv=ShuffleSplit(test_size=0.20, n_splits=1, random_state=0), \n",
    "                              scoring=['f1_weighted', 'f1_micro'],\n",
    "                              refit='f1_weighted', verbose=0,\n",
    "                              data_list=data_list)"
   ]
  },
  {
   "cell_type": "code",
   "execution_count": 13,
   "id": "SO9OSJ1x3fEQ",
   "metadata": {
    "colab": {
     "base_uri": "https://localhost:8080/"
    },
    "id": "SO9OSJ1x3fEQ",
    "outputId": "58b70722-2ddd-4bd1-ce22-08494e250775"
   },
   "outputs": [
    {
     "name": "stdout",
     "output_type": "stream",
     "text": [
      "{'mean_test_f1_micro': [0.0979631425800194, 0.5157314304249107, 0.408115489660554, 0.008243173621844409, 0.4787354158825744, 0.24944121591417073], 'mean_test_f1_weighted': [0.08975093197691675, 0.4928020027549865, 0.3752544096145575, 0.007722291226121143, 0.4343919861098135, 0.21771416730921878], 'best_score_': 0.4928020027549865, 'best_estimator_': BinaryRelevance(classifier=SVC(C=1.0, break_ties=False, cache_size=200,\n",
      "                               class_weight=None, coef0=0.0,\n",
      "                               decision_function_shape='ovr', degree=3,\n",
      "                               gamma='scale', kernel='linear', max_iter=-1,\n",
      "                               probability=False, random_state=None,\n",
      "                               shrinking=True, tol=0.001, verbose=0),\n",
      "                require_dense=[False, True])}\n"
     ]
    }
   ],
   "source": [
    "print(result_binary_relevance)"
   ]
  },
  {
   "cell_type": "code",
   "execution_count": 14,
   "id": "7uVJFfeuDlH1",
   "metadata": {
    "colab": {
     "base_uri": "https://localhost:8080/"
    },
    "id": "7uVJFfeuDlH1",
    "outputId": "3cdaa394-d5a8-4c62-da61-b5d474e2dffe"
   },
   "outputs": [
    {
     "name": "stdout",
     "output_type": "stream",
     "text": [
      "Best F1-score weighted: 0.4928020027549865\n"
     ]
    }
   ],
   "source": [
    "print(\"Best F1-score weighted:\", result_binary_relevance['best_score_'])"
   ]
  },
  {
   "cell_type": "code",
   "execution_count": 15,
   "id": "m4pPLt-e4bZm",
   "metadata": {
    "id": "m4pPLt-e4bZm"
   },
   "outputs": [],
   "source": [
    "names = ['Binary Relevance - Multinomial Naive Bayes, vectorization -> concatenate\\t%.3f',\n",
    "         'Binary Relevance - Support Vector Machines, vectorization -> concatenate\\t%.3f',\n",
    "         'Binary Relevance - Logistic Regression, vectorization -> concatenate\\t\\t%.3f',\n",
    "         'Binary Relevance - Multinomial Naive Bayes, concatenate -> vectorization\\t%.3f',\n",
    "         'Binary Relevance - Support Vector Machines, concatenate -> vectorization\\t%.3f',\n",
    "         'Binary Relevance - Logistic Regression, concatenate -> vectorization\\t\\t%.3f']"
   ]
  },
  {
   "cell_type": "code",
   "execution_count": 16,
   "id": "rHpdOFUd3z-u",
   "metadata": {
    "colab": {
     "base_uri": "https://localhost:8080/"
    },
    "id": "rHpdOFUd3z-u",
    "outputId": "78fd8a32-553d-4316-cfa5-3d35ab085041"
   },
   "outputs": [
    {
     "name": "stdout",
     "output_type": "stream",
     "text": [
      "--------------------------------------------\n",
      "F1-scores Micro averaged on validation data:\n",
      "--------------------------------------------\n",
      "Binary Relevance - Multinomial Naive Bayes, vectorization -> concatenate\t9.796\n",
      "Binary Relevance - Support Vector Machines, vectorization -> concatenate\t51.573\n",
      "Binary Relevance - Logistic Regression, vectorization -> concatenate\t\t40.812\n",
      "Binary Relevance - Multinomial Naive Bayes, concatenate -> vectorization\t0.824\n",
      "Binary Relevance - Support Vector Machines, concatenate -> vectorization\t47.874\n",
      "Binary Relevance - Logistic Regression, concatenate -> vectorization\t\t24.944\n",
      "\n",
      "--------------------------------------\n",
      "F1-scores Weighted on validation data:\n",
      "--------------------------------------\n",
      "Binary Relevance - Multinomial Naive Bayes, vectorization -> concatenate\t8.975\n",
      "Binary Relevance - Support Vector Machines, vectorization -> concatenate\t49.280\n",
      "Binary Relevance - Logistic Regression, vectorization -> concatenate\t\t37.525\n",
      "Binary Relevance - Multinomial Naive Bayes, concatenate -> vectorization\t0.772\n",
      "Binary Relevance - Support Vector Machines, concatenate -> vectorization\t43.439\n",
      "Binary Relevance - Logistic Regression, concatenate -> vectorization\t\t21.771\n"
     ]
    }
   ],
   "source": [
    "print(\"--------------------------------------------\")\n",
    "print(\"F1-scores Micro averaged on validation data:\")\n",
    "print(\"--------------------------------------------\")\n",
    "for i in range(len(names)):\n",
    "    print(names[i] % (100 * result_binary_relevance['mean_test_f1_micro'][i]))\n",
    "\n",
    "print()\n",
    "print(\"--------------------------------------\")\n",
    "print(\"F1-scores Weighted on validation data:\")\n",
    "print(\"--------------------------------------\")\n",
    "for i in range(len(names)):\n",
    "    print(names[i] % (100 * result_binary_relevance['mean_test_f1_weighted'][i]))"
   ]
  },
  {
   "cell_type": "markdown",
   "id": "g0fbWh8c8w_R",
   "metadata": {
    "id": "g0fbWh8c8w_R"
   },
   "source": [
    "## Classifier Chains"
   ]
  },
  {
   "cell_type": "code",
   "execution_count": 17,
   "id": "JzOF_wcKZuIq",
   "metadata": {
    "id": "JzOF_wcKZuIq"
   },
   "outputs": [],
   "source": [
    "order_freq_incr = list(range(N_labels))\n",
    "\n",
    "order_freq_decr = list(range(N_labels-1,-1,-1))\n",
    "\n",
    "order_random = copy.deepcopy(order_freq_incr)\n",
    "random.shuffle(order_random)"
   ]
  },
  {
   "cell_type": "code",
   "execution_count": 18,
   "id": "rDnYKwdyak5T",
   "metadata": {
    "id": "rDnYKwdyak5T"
   },
   "outputs": [],
   "source": [
    "parameters = [\n",
    "    {\n",
    "        'classifier': [SVC()],\n",
    "        'classifier__kernel': ['linear'],\n",
    "        'classifier__verbose': [0],\n",
    "        'order': [order_freq_decr, order_freq_incr, order_random],\n",
    "        'require_dense': [[False, True]],\n",
    "    },\n",
    "    {\n",
    "        'classifier': [LogisticRegression()],\n",
    "        'classifier__solver': ['lbfgs'],\n",
    "        'classifier__verbose': [0],\n",
    "        'order': [order_freq_decr, order_freq_incr, order_random],\n",
    "        'require_dense': [[False, True]],\n",
    "    },\n",
    "]"
   ]
  },
  {
   "cell_type": "markdown",
   "id": "ebHnvXsDqBeN",
   "metadata": {
    "id": "ebHnvXsDqBeN"
   },
   "source": [
    "When true positive + false positive == 0, precision is undefined. When true positive + false negative == 0, recall is undefined. In such cases, by default the metric will be set to 0, as will f-score, and UndefinedMetricWarning will be raised. We will suppress this warning."
   ]
  },
  {
   "cell_type": "code",
   "execution_count": 19,
   "id": "5Y52LviP2eJ7",
   "metadata": {
    "id": "5Y52LviP2eJ7"
   },
   "outputs": [],
   "source": [
    "with warnings.catch_warnings():\n",
    "    warnings.simplefilter(\"ignore\")\n",
    "    result_classifier_chain = GridSearchCVMultipleFits(ClassifierChain(), parameters, \n",
    "                              cv=ShuffleSplit(test_size=0.20, n_splits=1, random_state=0), \n",
    "                              scoring=['f1_weighted', 'f1_micro'],\n",
    "                              refit='f1_weighted', verbose=0,\n",
    "                              data_list=data_list)"
   ]
  },
  {
   "cell_type": "code",
   "execution_count": 20,
   "id": "E9JbjvjG3lhQ",
   "metadata": {
    "colab": {
     "base_uri": "https://localhost:8080/"
    },
    "id": "E9JbjvjG3lhQ",
    "outputId": "c11ac803-4f98-4cad-8ca3-65efbdc7b85e"
   },
   "outputs": [
    {
     "name": "stdout",
     "output_type": "stream",
     "text": [
      "{'mean_test_f1_micro': [0.010701920050361977, 0.5143769968051118, 0.012670256572695597, 0.008627450980392156, 0.4114906832298137, 0.0078125, 0.008743169398907104, 0.49926362297496313, 0.007272727272727273, 0.006200177147918512, 0.2492184010719071, 0.0026666666666666666], 'mean_test_f1_weighted': [0.008500626531863183, 0.4912067788355804, 0.009194326816866178, 0.0036331335865344757, 0.37920325436753, 0.006048715218993447, 0.0038371507863128626, 0.45530347243177727, 0.00504472102637848, 0.0017225407035095428, 0.21511021005097158, 0.002172377831974314], 'best_score_': 0.4912067788355804, 'best_estimator_': ClassifierChain(classifier=SVC(C=1.0, break_ties=False, cache_size=200,\n",
      "                               class_weight=None, coef0=0.0,\n",
      "                               decision_function_shape='ovr', degree=3,\n",
      "                               gamma='scale', kernel='linear', max_iter=-1,\n",
      "                               probability=False, random_state=None,\n",
      "                               shrinking=True, tol=0.001, verbose=0),\n",
      "                order=[0, 1, 2, 3, 4, 5, 6, 7, 8, 9, 10, 11, 12, 13, 14, 15, 16,\n",
      "                       17, 18, 19, 20, 21, 22, 23, 24, 25, 26, 27, 28, 29, ...],\n",
      "                require_dense=[False, True])}\n"
     ]
    }
   ],
   "source": [
    "print(result_classifier_chain)"
   ]
  },
  {
   "cell_type": "code",
   "execution_count": 21,
   "id": "2axWF5HpWTaL",
   "metadata": {
    "colab": {
     "base_uri": "https://localhost:8080/"
    },
    "id": "2axWF5HpWTaL",
    "outputId": "8c710769-2918-4df0-8a86-67f861ab9730"
   },
   "outputs": [
    {
     "name": "stdout",
     "output_type": "stream",
     "text": [
      "Best F1-score weighted: 0.4912067788355804\n"
     ]
    }
   ],
   "source": [
    "print(\"Best F1-score weighted:\", result_classifier_chain['best_score_'])"
   ]
  },
  {
   "cell_type": "code",
   "execution_count": 22,
   "id": "0QtWo8_i5xwJ",
   "metadata": {
    "id": "0QtWo8_i5xwJ"
   },
   "outputs": [],
   "source": [
    "names = ['Classifier Chains - Support Vector Machines, vectorization -> concatenate, order: Least frequent first\\t%.3f',\n",
    "         'Classifier Chains - Support Vector Machines, vectorization -> concatenate, order: Most frequent first\\t%.3f',\n",
    "         'Classifier Chains - Support Vector Machines, vectorization -> concatenate, order: Random order\\t\\t%.3f',\n",
    "         'Classifier Chains - Logistic Regression, vectorization -> concatenate, order: Least frequent first\\t%.3f',\n",
    "         'Classifier Chains - Logistic Regression, vectorization -> concatenate, order: Most frequent first\\t%.3f',\n",
    "         'Classifier Chains - Logistic Regression, vectorization -> concatenate, order: Random order\\t\\t%.3f',\n",
    "\n",
    "         'Classifier Chains - Support Vector Machines, concatenate -> vectorization, order: Least frequent first\\t%.3f',\n",
    "         'Classifier Chains - Support Vector Machines, concatenate -> vectorization, order: Most frequent first\\t%.3f',\n",
    "         'Classifier Chains - Support Vector Machines, concatenate -> vectorization, order: Random order\\t\\t%.3f',\n",
    "         'Classifier Chains - Logistic Regression, concatenate -> vectorization, order: Least frequent first\\t%.3f',\n",
    "         'Classifier Chains - Logistic Regression, concatenate -> vectorization, order: Most frequent first\\t%.3f',\n",
    "         'Classifier Chains - Logistic Regression, concatenate -> vectorization, order: Random order\\t\\t%.3f']"
   ]
  },
  {
   "cell_type": "code",
   "execution_count": 23,
   "id": "nuOjIFO55z9s",
   "metadata": {
    "colab": {
     "base_uri": "https://localhost:8080/"
    },
    "id": "nuOjIFO55z9s",
    "outputId": "85837983-d772-4d67-b8cc-adefb675b61a"
   },
   "outputs": [
    {
     "name": "stdout",
     "output_type": "stream",
     "text": [
      "--------------------------------------------\n",
      "F1-scores Micro averaged on validation data:\n",
      "--------------------------------------------\n",
      "Classifier Chains - Support Vector Machines, vectorization -> concatenate, order: Least frequent first\t1.070\n",
      "Classifier Chains - Support Vector Machines, vectorization -> concatenate, order: Most frequent first\t51.438\n",
      "Classifier Chains - Support Vector Machines, vectorization -> concatenate, order: Random order\t\t1.267\n",
      "Classifier Chains - Logistic Regression, vectorization -> concatenate, order: Least frequent first\t0.863\n",
      "Classifier Chains - Logistic Regression, vectorization -> concatenate, order: Most frequent first\t41.149\n",
      "Classifier Chains - Logistic Regression, vectorization -> concatenate, order: Random order\t\t0.781\n",
      "Classifier Chains - Support Vector Machines, concatenate -> vectorization, order: Least frequent first\t0.874\n",
      "Classifier Chains - Support Vector Machines, concatenate -> vectorization, order: Most frequent first\t49.926\n",
      "Classifier Chains - Support Vector Machines, concatenate -> vectorization, order: Random order\t\t0.727\n",
      "Classifier Chains - Logistic Regression, concatenate -> vectorization, order: Least frequent first\t0.620\n",
      "Classifier Chains - Logistic Regression, concatenate -> vectorization, order: Most frequent first\t24.922\n",
      "Classifier Chains - Logistic Regression, concatenate -> vectorization, order: Random order\t\t0.267\n",
      "\n",
      "--------------------------------------\n",
      "F1-scores Weighted on validation data:\n",
      "--------------------------------------\n",
      "Classifier Chains - Support Vector Machines, vectorization -> concatenate, order: Least frequent first\t0.850\n",
      "Classifier Chains - Support Vector Machines, vectorization -> concatenate, order: Most frequent first\t49.121\n",
      "Classifier Chains - Support Vector Machines, vectorization -> concatenate, order: Random order\t\t0.919\n",
      "Classifier Chains - Logistic Regression, vectorization -> concatenate, order: Least frequent first\t0.363\n",
      "Classifier Chains - Logistic Regression, vectorization -> concatenate, order: Most frequent first\t37.920\n",
      "Classifier Chains - Logistic Regression, vectorization -> concatenate, order: Random order\t\t0.605\n",
      "Classifier Chains - Support Vector Machines, concatenate -> vectorization, order: Least frequent first\t0.384\n",
      "Classifier Chains - Support Vector Machines, concatenate -> vectorization, order: Most frequent first\t45.530\n",
      "Classifier Chains - Support Vector Machines, concatenate -> vectorization, order: Random order\t\t0.504\n",
      "Classifier Chains - Logistic Regression, concatenate -> vectorization, order: Least frequent first\t0.172\n",
      "Classifier Chains - Logistic Regression, concatenate -> vectorization, order: Most frequent first\t21.511\n",
      "Classifier Chains - Logistic Regression, concatenate -> vectorization, order: Random order\t\t0.217\n"
     ]
    }
   ],
   "source": [
    "print(\"--------------------------------------------\")\n",
    "print(\"F1-scores Micro averaged on validation data:\")\n",
    "print(\"--------------------------------------------\")\n",
    "for i in range(len(names)):\n",
    "    print(names[i] % (100 * result_classifier_chain['mean_test_f1_micro'][i]))\n",
    "\n",
    "print()\n",
    "print(\"--------------------------------------\")\n",
    "print(\"F1-scores Weighted on validation data:\")\n",
    "print(\"--------------------------------------\")\n",
    "for i in range(len(names)):\n",
    "    print(names[i] % (100 * result_classifier_chain['mean_test_f1_weighted'][i]))"
   ]
  },
  {
   "cell_type": "markdown",
   "id": "1ThwOgnTcEJ6",
   "metadata": {
    "id": "1ThwOgnTcEJ6"
   },
   "source": [
    "## Save models"
   ]
  },
  {
   "cell_type": "code",
   "execution_count": 24,
   "id": "aJvwLwOnk2Th",
   "metadata": {
    "id": "aJvwLwOnk2Th"
   },
   "outputs": [],
   "source": [
    "with open(project_path + 'models/model_best_binary_relevance.pk', 'wb') as fin:\n",
    "    pickle.dump(result_binary_relevance['best_estimator_'], fin)\n",
    "with open(project_path + 'models/model_best_classifier_chain.pk', 'wb') as fin:\n",
    "    pickle.dump(result_classifier_chain['best_estimator_'], fin)"
   ]
  }
 ],
 "metadata": {
  "colab": {
   "collapsed_sections": [],
   "name": "04 Models - Transformation into binary classification.ipynb",
   "provenance": []
  },
  "kernelspec": {
   "display_name": "Python 3",
   "language": "python",
   "name": "python3"
  },
  "language_info": {
   "codemirror_mode": {
    "name": "ipython",
    "version": 3
   },
   "file_extension": ".py",
   "mimetype": "text/x-python",
   "name": "python",
   "nbconvert_exporter": "python",
   "pygments_lexer": "ipython3",
   "version": "3.7.11"
  }
 },
 "nbformat": 4,
 "nbformat_minor": 5
}
