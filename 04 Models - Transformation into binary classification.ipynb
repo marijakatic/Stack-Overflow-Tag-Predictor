{
 "cells": [
  {
   "cell_type": "markdown",
   "id": "XatTrw2KVyAW",
   "metadata": {
    "id": "XatTrw2KVyAW"
   },
   "source": [
    "# Models - Transformation into binary classification"
   ]
  },
  {
   "cell_type": "markdown",
   "id": "FCT8r3BUYvjt",
   "metadata": {
    "id": "FCT8r3BUYvjt"
   },
   "source": [
    "**Transformation techniques used:**\n",
    "\n",
    "* Binary Relevance\n",
    "* Classification Chains, with classifier orders:\n",
    "    * Most frequent first\n",
    "    * Least frequent first\n",
    "    * Random order\n",
    "\n",
    "**Base classification models used:**\n",
    "\n",
    "* Logistic Regression\n",
    "* Multinomial Naive Bayes\n",
    "* Support Vector Machines"
   ]
  },
  {
   "cell_type": "markdown",
   "id": "MbyCupCjB3AF",
   "metadata": {
    "id": "MbyCupCjB3AF"
   },
   "source": [
    "## Necessary downloads and library imports"
   ]
  },
  {
   "cell_type": "code",
   "execution_count": null,
   "id": "jp8DfrmODwlg",
   "metadata": {
    "colab": {
     "base_uri": "https://localhost:8080/"
    },
    "executionInfo": {
     "elapsed": 23965,
     "status": "ok",
     "timestamp": 1629539964663,
     "user": {
      "displayName": "Marija Katic",
      "photoUrl": "",
      "userId": "11819193703103552976"
     },
     "user_tz": -120
    },
    "id": "jp8DfrmODwlg",
    "outputId": "02bb2383-a6c8-4371-b5b6-69bfd9fb0708"
   },
   "outputs": [
    {
     "name": "stdout",
     "output_type": "stream",
     "text": [
      "Mounted at /content/drive\n"
     ]
    }
   ],
   "source": [
    "from google.colab import drive\n",
    "drive.mount('/content/drive')"
   ]
  },
  {
   "cell_type": "code",
   "execution_count": null,
   "id": "syaBWbsVvpXm",
   "metadata": {
    "id": "syaBWbsVvpXm"
   },
   "outputs": [],
   "source": [
    "project_path = '/content/drive/My Drive/Colab Notebooks/MATF_ML_project/'"
   ]
  },
  {
   "cell_type": "code",
   "execution_count": null,
   "id": "WYQ2KMM2D3sL",
   "metadata": {
    "colab": {
     "base_uri": "https://localhost:8080/"
    },
    "executionInfo": {
     "elapsed": 7361,
     "status": "ok",
     "timestamp": 1629539972014,
     "user": {
      "displayName": "Marija Katic",
      "photoUrl": "",
      "userId": "11819193703103552976"
     },
     "user_tz": -120
    },
    "id": "WYQ2KMM2D3sL",
    "outputId": "b48253cd-8a8f-4f38-a267-188dc99a3e17"
   },
   "outputs": [
    {
     "name": "stdout",
     "output_type": "stream",
     "text": [
      "Collecting scikit-multilearn\n",
      "  Downloading scikit_multilearn-0.2.0-py3-none-any.whl (89 kB)\n",
      "\u001b[?25l\r",
      "\u001b[K     |███▊                            | 10 kB 13.3 MB/s eta 0:00:01\r",
      "\u001b[K     |███████▍                        | 20 kB 19.2 MB/s eta 0:00:01\r",
      "\u001b[K     |███████████                     | 30 kB 18.0 MB/s eta 0:00:01\r",
      "\u001b[K     |██████████████▊                 | 40 kB 12.0 MB/s eta 0:00:01\r",
      "\u001b[K     |██████████████████▍             | 51 kB 5.5 MB/s eta 0:00:01\r",
      "\u001b[K     |██████████████████████          | 61 kB 5.6 MB/s eta 0:00:01\r",
      "\u001b[K     |█████████████████████████▊      | 71 kB 5.3 MB/s eta 0:00:01\r",
      "\u001b[K     |█████████████████████████████▍  | 81 kB 6.0 MB/s eta 0:00:01\r",
      "\u001b[K     |████████████████████████████████| 89 kB 3.6 MB/s \n",
      "\u001b[?25hInstalling collected packages: scikit-multilearn\n",
      "Successfully installed scikit-multilearn-0.2.0\n",
      "Collecting ipynb\n",
      "  Downloading ipynb-0.5.1-py3-none-any.whl (6.9 kB)\n",
      "Installing collected packages: ipynb\n",
      "Successfully installed ipynb-0.5.1\n"
     ]
    }
   ],
   "source": [
    "!pip install scikit-multilearn\n",
    "!pip install ipynb"
   ]
  },
  {
   "cell_type": "code",
   "execution_count": null,
   "id": "a7a0a7cd",
   "metadata": {
    "id": "a7a0a7cd"
   },
   "outputs": [],
   "source": [
    "from ipynb.fs.full.utility import *\n",
    "\n",
    "import pandas as pd\n",
    "import numpy as np\n",
    "import matplotlib.pyplot as plt\n",
    "import random\n",
    "\n",
    "import pickle\n",
    "import time\n",
    "import datetime\n",
    "import copy\n",
    "\n",
    "from scipy import sparse\n",
    "\n",
    "import skmultilearn\n",
    "from skmultilearn.model_selection import iterative_train_test_split\n",
    "from skmultilearn.problem_transform import BinaryRelevance\n",
    "from skmultilearn.problem_transform import ClassifierChain\n",
    "\n",
    "from sklearn.model_selection import GridSearchCV\n",
    "from sklearn.model_selection import ShuffleSplit\n",
    "from sklearn.model_selection import PredefinedSplit\n",
    "from sklearn.linear_model import LogisticRegression\n",
    "from sklearn.naive_bayes import MultinomialNB\n",
    "from sklearn.svm import SVC\n",
    "import sklearn.metrics as metrics"
   ]
  },
  {
   "cell_type": "markdown",
   "id": "eBOSbwjxmkKn",
   "metadata": {
    "id": "eBOSbwjxmkKn"
   },
   "source": [
    "## Load data"
   ]
  },
  {
   "cell_type": "code",
   "execution_count": null,
   "id": "AwGDMoBfmjhf",
   "metadata": {
    "id": "AwGDMoBfmjhf"
   },
   "outputs": [],
   "source": [
    "X_train_vect_concat = sparse.load_npz(project_path + 'data/X_train_vect_concat.npz')\n",
    "y_train_vect_concat = sparse.load_npz(project_path + 'data/y_train_vect_concat.npz')\n",
    "X_test_vect_concat = sparse.load_npz(project_path + 'data/X_test_vect_concat.npz')\n",
    "y_test_vect_concat = sparse.load_npz(project_path + 'data/y_test_vect_concat.npz')"
   ]
  },
  {
   "cell_type": "code",
   "execution_count": null,
   "id": "7s1HiSRKkrjL",
   "metadata": {
    "id": "7s1HiSRKkrjL"
   },
   "outputs": [],
   "source": [
    "X_train_concat_vect = sparse.load_npz(project_path + 'data/X_train_concat_vect.npz')\n",
    "y_train_concat_vect = sparse.load_npz(project_path + 'data/y_train_concat_vect.npz')\n",
    "X_test_concat_vect = sparse.load_npz(project_path + 'data/X_test_concat_vect.npz')\n",
    "y_test_concat_vect = sparse.load_npz(project_path + 'data/y_test_concat_vect.npz')"
   ]
  },
  {
   "cell_type": "code",
   "execution_count": null,
   "id": "2RwW1C1kpEkX",
   "metadata": {
    "colab": {
     "base_uri": "https://localhost:8080/"
    },
    "executionInfo": {
     "elapsed": 30,
     "status": "ok",
     "timestamp": 1629539978578,
     "user": {
      "displayName": "Marija Katic",
      "photoUrl": "",
      "userId": "11819193703103552976"
     },
     "user_tz": -120
    },
    "id": "2RwW1C1kpEkX",
    "outputId": "657e37d8-51ae-4e00-c66c-ea2269e051df"
   },
   "outputs": [
    {
     "data": {
      "text/plain": [
       "((6051, 15348), (6051, 100), (1577, 15348), (1577, 100))"
      ]
     },
     "execution_count": 7,
     "metadata": {},
     "output_type": "execute_result"
    }
   ],
   "source": [
    "X_train_vect_concat.shape, y_train_vect_concat.shape, X_test_vect_concat.shape, y_test_vect_concat.shape"
   ]
  },
  {
   "cell_type": "code",
   "execution_count": null,
   "id": "UF_gI6HEk_tC",
   "metadata": {
    "colab": {
     "base_uri": "https://localhost:8080/"
    },
    "executionInfo": {
     "elapsed": 22,
     "status": "ok",
     "timestamp": 1629539978579,
     "user": {
      "displayName": "Marija Katic",
      "photoUrl": "",
      "userId": "11819193703103552976"
     },
     "user_tz": -120
    },
    "id": "UF_gI6HEk_tC",
    "outputId": "aed37e12-1614-4a46-e570-6d80fa11789b"
   },
   "outputs": [
    {
     "data": {
      "text/plain": [
       "((6062, 9110), (6062, 100), (1566, 9110), (1566, 100))"
      ]
     },
     "execution_count": 8,
     "metadata": {},
     "output_type": "execute_result"
    }
   ],
   "source": [
    "X_train_concat_vect.shape, y_train_concat_vect.shape, X_test_concat_vect.shape, y_test_concat_vect.shape"
   ]
  },
  {
   "cell_type": "code",
   "execution_count": null,
   "id": "sdddLHd64k46",
   "metadata": {
    "colab": {
     "base_uri": "https://localhost:8080/"
    },
    "executionInfo": {
     "elapsed": 19,
     "status": "ok",
     "timestamp": 1629539978580,
     "user": {
      "displayName": "Marija Katic",
      "photoUrl": "",
      "userId": "11819193703103552976"
     },
     "user_tz": -120
    },
    "id": "sdddLHd64k46",
    "outputId": "848d50fc-1218-463b-e030-ba3b61dc2ecb"
   },
   "outputs": [
    {
     "data": {
      "text/plain": [
       "100"
      ]
     },
     "execution_count": 9,
     "metadata": {},
     "output_type": "execute_result"
    }
   ],
   "source": [
    "N_labels = y_train_vect_concat.shape[1]\n",
    "N_labels"
   ]
  },
  {
   "cell_type": "code",
   "execution_count": null,
   "id": "hHsnO65A2Sx-",
   "metadata": {
    "id": "hHsnO65A2Sx-"
   },
   "outputs": [],
   "source": [
    "data_list = [(X_train_vect_concat, y_train_vect_concat), (X_train_concat_vect, y_train_concat_vect)]"
   ]
  },
  {
   "cell_type": "markdown",
   "id": "7c8e2465",
   "metadata": {
    "id": "7c8e2465"
   },
   "source": [
    "## Binary Relevance"
   ]
  },
  {
   "cell_type": "code",
   "execution_count": null,
   "id": "K-x8XlV1N2yT",
   "metadata": {
    "id": "K-x8XlV1N2yT"
   },
   "outputs": [],
   "source": [
    "parameters = [\n",
    "    {\n",
    "        'classifier': [MultinomialNB()],\n",
    "    },\n",
    "    {\n",
    "        'classifier': [SVC()],\n",
    "        'classifier__kernel': ['linear'],\n",
    "        'classifier__verbose': [0],\n",
    "        'require_dense': [[False, True]],\n",
    "    },\n",
    "    {\n",
    "        'classifier': [LogisticRegression()],\n",
    "        'classifier__solver': ['lbfgs'],\n",
    "        'classifier__verbose': [0],\n",
    "        'require_dense': [[False, True]],\n",
    "    },\n",
    "]"
   ]
  },
  {
   "cell_type": "code",
   "execution_count": null,
   "id": "yz_O-VV0zz7Q",
   "metadata": {
    "id": "yz_O-VV0zz7Q"
   },
   "outputs": [],
   "source": [
    "result = GridSearchCVMultipleFits(BinaryRelevance(), parameters, \n",
    "                              cv=ShuffleSplit(test_size=0.20, n_splits=1, random_state=0), \n",
    "                              scoring=['f1_weighted', 'f1_micro'],\n",
    "                              refit='f1_weighted', verbose=0,\n",
    "                              data_list=data_list)"
   ]
  },
  {
   "cell_type": "code",
   "execution_count": null,
   "id": "SO9OSJ1x3fEQ",
   "metadata": {
    "colab": {
     "base_uri": "https://localhost:8080/"
    },
    "executionInfo": {
     "elapsed": 33,
     "status": "ok",
     "timestamp": 1629540741774,
     "user": {
      "displayName": "Marija Katic",
      "photoUrl": "",
      "userId": "11819193703103552976"
     },
     "user_tz": -120
    },
    "id": "SO9OSJ1x3fEQ",
    "outputId": "3af0f003-6e7e-419a-9867-ac7748d3316c"
   },
   "outputs": [
    {
     "name": "stdout",
     "output_type": "stream",
     "text": [
      "{'mean_test_f1_micro': [0.12464319695528069, 0.5054151624548736, 0.4045831687080205, 0.015368852459016393, 0.46258503401360535, 0.2506690454950937], 'mean_test_f1_weighted': [0.11299516660530481, 0.49058426992079085, 0.37579481442693113, 0.013725937531791767, 0.417152690093167, 0.21969465213710476], 'best_score_': 0.49058426992079085, 'best_estimator_': BinaryRelevance(classifier=SVC(C=1.0, break_ties=False, cache_size=200,\n",
      "                               class_weight=None, coef0=0.0,\n",
      "                               decision_function_shape='ovr', degree=3,\n",
      "                               gamma='scale', kernel='linear', max_iter=-1,\n",
      "                               probability=False, random_state=None,\n",
      "                               shrinking=True, tol=0.001, verbose=0),\n",
      "                require_dense=[False, True])}\n"
     ]
    }
   ],
   "source": [
    "print(result)"
   ]
  },
  {
   "cell_type": "code",
   "execution_count": null,
   "id": "7uVJFfeuDlH1",
   "metadata": {
    "colab": {
     "base_uri": "https://localhost:8080/"
    },
    "executionInfo": {
     "elapsed": 25,
     "status": "ok",
     "timestamp": 1629540741775,
     "user": {
      "displayName": "Marija Katic",
      "photoUrl": "",
      "userId": "11819193703103552976"
     },
     "user_tz": -120
    },
    "id": "7uVJFfeuDlH1",
    "outputId": "c9776074-9549-4942-bea0-f953d2350460"
   },
   "outputs": [
    {
     "name": "stdout",
     "output_type": "stream",
     "text": [
      "Best F1-score weighted: 0.49058426992079085\n"
     ]
    }
   ],
   "source": [
    "print(\"Best F1-score weighted:\", result['best_score_'])"
   ]
  },
  {
   "cell_type": "code",
   "execution_count": null,
   "id": "m4pPLt-e4bZm",
   "metadata": {
    "id": "m4pPLt-e4bZm"
   },
   "outputs": [],
   "source": [
    "names = ['Binary Relevance - Multinomial Naive Bayes, vectorization -> concatenate\\t%.3f',\n",
    "         'Binary Relevance - Support Vector Machines, vectorization -> concatenate\\t%.3f',\n",
    "         'Binary Relevance - Logistic Regression, vectorization -> concatenate\\t\\t%.3f',\n",
    "         'Binary Relevance - Multinomial Naive Bayes, concatenate -> vectorization\\t%.3f',\n",
    "         'Binary Relevance - Support Vector Machines, concatenate -> vectorization\\t%.3f',\n",
    "         'Binary Relevance - Logistic Regression, concatenate -> vectorization\\t\\t%.3f']"
   ]
  },
  {
   "cell_type": "code",
   "execution_count": null,
   "id": "rHpdOFUd3z-u",
   "metadata": {
    "colab": {
     "base_uri": "https://localhost:8080/"
    },
    "executionInfo": {
     "elapsed": 23,
     "status": "ok",
     "timestamp": 1629540741778,
     "user": {
      "displayName": "Marija Katic",
      "photoUrl": "",
      "userId": "11819193703103552976"
     },
     "user_tz": -120
    },
    "id": "rHpdOFUd3z-u",
    "outputId": "547a6d55-1ff0-41f7-f4d9-313b87eb6802"
   },
   "outputs": [
    {
     "name": "stdout",
     "output_type": "stream",
     "text": [
      "--------------------------------------------\n",
      "F1-scores Micro averaged on validation data:\n",
      "--------------------------------------------\n",
      "Binary Relevance - Multinomial Naive Bayes, vectorization -> concatenate\t12.464\n",
      "Binary Relevance - Support Vector Machines, vectorization -> concatenate\t50.542\n",
      "Binary Relevance - Logistic Regression, vectorization -> concatenate\t\t40.458\n",
      "Binary Relevance - Multinomial Naive Bayes, concatenate -> vectorization\t1.537\n",
      "Binary Relevance - Support Vector Machines, concatenate -> vectorization\t46.259\n",
      "Binary Relevance - Logistic Regression, concatenate -> vectorization\t\t25.067\n",
      "\n",
      "--------------------------------------\n",
      "F1-scores Weighted on validation data:\n",
      "--------------------------------------\n",
      "Binary Relevance - Multinomial Naive Bayes, vectorization -> concatenate\t11.300\n",
      "Binary Relevance - Support Vector Machines, vectorization -> concatenate\t49.058\n",
      "Binary Relevance - Logistic Regression, vectorization -> concatenate\t\t37.579\n",
      "Binary Relevance - Multinomial Naive Bayes, concatenate -> vectorization\t1.373\n",
      "Binary Relevance - Support Vector Machines, concatenate -> vectorization\t41.715\n",
      "Binary Relevance - Logistic Regression, concatenate -> vectorization\t\t21.969\n"
     ]
    }
   ],
   "source": [
    "print(\"--------------------------------------------\")\n",
    "print(\"F1-scores Micro averaged on validation data:\")\n",
    "print(\"--------------------------------------------\")\n",
    "for i in range(len(names)):\n",
    "    print(names[i] % (100 * result['mean_test_f1_micro'][i]))\n",
    "\n",
    "print()\n",
    "print(\"--------------------------------------\")\n",
    "print(\"F1-scores Weighted on validation data:\")\n",
    "print(\"--------------------------------------\")\n",
    "for i in range(len(names)):\n",
    "    print(names[i] % (100 * result['mean_test_f1_weighted'][i]))"
   ]
  },
  {
   "cell_type": "markdown",
   "id": "g0fbWh8c8w_R",
   "metadata": {
    "id": "g0fbWh8c8w_R"
   },
   "source": [
    "## Classifier Chains"
   ]
  },
  {
   "cell_type": "code",
   "execution_count": null,
   "id": "JzOF_wcKZuIq",
   "metadata": {
    "id": "JzOF_wcKZuIq"
   },
   "outputs": [],
   "source": [
    "order_freq_incr = list(range(N_labels))\n",
    "\n",
    "order_freq_decr = list(range(N_labels-1,-1,-1))\n",
    "\n",
    "order_random = copy.deepcopy(order_freq_incr)\n",
    "random.shuffle(order_random)"
   ]
  },
  {
   "cell_type": "code",
   "execution_count": null,
   "id": "rDnYKwdyak5T",
   "metadata": {
    "id": "rDnYKwdyak5T"
   },
   "outputs": [],
   "source": [
    "parameters = [\n",
    "    {\n",
    "        'classifier': [SVC()],\n",
    "        'classifier__kernel': ['linear'],\n",
    "        'classifier__verbose': [0],\n",
    "        'order': [order_freq_decr, order_freq_incr, order_random],\n",
    "        'require_dense': [[False, True]],\n",
    "    },\n",
    "    {\n",
    "        'classifier': [LogisticRegression()],\n",
    "        'classifier__solver': ['lbfgs'],\n",
    "        'classifier__verbose': [0],\n",
    "        'order': [order_freq_decr, order_freq_incr, order_random],\n",
    "        'require_dense': [[False, True]],\n",
    "    },\n",
    "]"
   ]
  },
  {
   "cell_type": "code",
   "execution_count": null,
   "id": "5Y52LviP2eJ7",
   "metadata": {
    "id": "5Y52LviP2eJ7"
   },
   "outputs": [],
   "source": [
    "result = GridSearchCVMultipleFits(ClassifierChain(), parameters, \n",
    "                              cv=ShuffleSplit(test_size=0.20, n_splits=1, random_state=0), \n",
    "                              scoring=['f1_weighted', 'f1_micro'],\n",
    "                              refit='f1_weighted', verbose=0,\n",
    "                              data_list=data_list)"
   ]
  },
  {
   "cell_type": "code",
   "execution_count": null,
   "id": "E9JbjvjG3lhQ",
   "metadata": {
    "colab": {
     "base_uri": "https://localhost:8080/"
    },
    "executionInfo": {
     "elapsed": 32,
     "status": "ok",
     "timestamp": 1629542090872,
     "user": {
      "displayName": "Marija Katic",
      "photoUrl": "",
      "userId": "11819193703103552976"
     },
     "user_tz": -120
    },
    "id": "E9JbjvjG3lhQ",
    "outputId": "0c427c89-e40b-4976-99fb-d0b6416d7aa1"
   },
   "outputs": [
    {
     "name": "stdout",
     "output_type": "stream",
     "text": [
      "{'mean_test_f1_micro': [0.006981910504601713, 0.509778775248477, 0.012763241863433313, 0.006329113924050632, 0.40456513183785914, 0.007889546351084813, 0.00885282183696053, 0.48807339449541287, 0.0036643459142543062, 0.006208425720620843, 0.25963668586619404, 0.003525782282944028], 'mean_test_f1_weighted': [0.004737152697258611, 0.49291218051463515, 0.00826308589067634, 0.002252857741337004, 0.3759615058062378, 0.0034054753518418302, 0.00375022156077076, 0.4460137318089905, 0.0013143002679248067, 0.0014148231085193684, 0.2247720182738548, 0.0003983047978537032], 'best_score_': 0.49291218051463515, 'best_estimator_': ClassifierChain(classifier=SVC(C=1.0, break_ties=False, cache_size=200,\n",
      "                               class_weight=None, coef0=0.0,\n",
      "                               decision_function_shape='ovr', degree=3,\n",
      "                               gamma='scale', kernel='linear', max_iter=-1,\n",
      "                               probability=False, random_state=None,\n",
      "                               shrinking=True, tol=0.001, verbose=0),\n",
      "                order=[0, 1, 2, 3, 4, 5, 6, 7, 8, 9, 10, 11, 12, 13, 14, 15, 16,\n",
      "                       17, 18, 19, 20, 21, 22, 23, 24, 25, 26, 27, 28, 29, ...],\n",
      "                require_dense=[False, True])}\n"
     ]
    }
   ],
   "source": [
    "print(result)"
   ]
  },
  {
   "cell_type": "code",
   "execution_count": null,
   "id": "2axWF5HpWTaL",
   "metadata": {
    "colab": {
     "base_uri": "https://localhost:8080/"
    },
    "executionInfo": {
     "elapsed": 28,
     "status": "ok",
     "timestamp": 1629542090874,
     "user": {
      "displayName": "Marija Katic",
      "photoUrl": "",
      "userId": "11819193703103552976"
     },
     "user_tz": -120
    },
    "id": "2axWF5HpWTaL",
    "outputId": "f6e4b45b-f65c-4229-de61-b6e45d1f0f3b"
   },
   "outputs": [
    {
     "name": "stdout",
     "output_type": "stream",
     "text": [
      "Best F1-score weighted: 0.49291218051463515\n"
     ]
    }
   ],
   "source": [
    "print(\"Best F1-score weighted:\", result['best_score_'])"
   ]
  },
  {
   "cell_type": "code",
   "execution_count": null,
   "id": "0QtWo8_i5xwJ",
   "metadata": {
    "id": "0QtWo8_i5xwJ"
   },
   "outputs": [],
   "source": [
    "names = ['Classifier Chains - Support Vector Machines, vectorization -> concatenate, order: Least frequent first\\t%.3f',\n",
    "         'Classifier Chains - Support Vector Machines, vectorization -> concatenate, order: Most frequent first\\t%.3f',\n",
    "         'Classifier Chains - Support Vector Machines, vectorization -> concatenate, order: Random order\\t\\t%.3f',\n",
    "         'Classifier Chains - Logistic Regression, vectorization -> concatenate, order: Least frequent first\\t%.3f',\n",
    "         'Classifier Chains - Logistic Regression, vectorization -> concatenate, order: Most frequent first\\t%.3f',\n",
    "         'Classifier Chains - Logistic Regression, vectorization -> concatenate, order: Random order\\t\\t%.3f',\n",
    "\n",
    "         'Classifier Chains - Support Vector Machines, concatenate -> vectorization, order: Least frequent first\\t%.3f',\n",
    "         'Classifier Chains - Support Vector Machines, concatenate -> vectorization, order: Most frequent first\\t%.3f',\n",
    "         'Classifier Chains - Support Vector Machines, concatenate -> vectorization, order: Random order\\t\\t%.3f',\n",
    "         'Classifier Chains - Logistic Regression, concatenate -> vectorization, order: Least frequent first\\t%.3f',\n",
    "         'Classifier Chains - Logistic Regression, concatenate -> vectorization, order: Most frequent first\\t%.3f',\n",
    "         'Classifier Chains - Logistic Regression, concatenate -> vectorization, order: Random order\\t\\t%.3f']"
   ]
  },
  {
   "cell_type": "code",
   "execution_count": null,
   "id": "nuOjIFO55z9s",
   "metadata": {
    "colab": {
     "base_uri": "https://localhost:8080/"
    },
    "executionInfo": {
     "elapsed": 25,
     "status": "ok",
     "timestamp": 1629542090876,
     "user": {
      "displayName": "Marija Katic",
      "photoUrl": "",
      "userId": "11819193703103552976"
     },
     "user_tz": -120
    },
    "id": "nuOjIFO55z9s",
    "outputId": "d6580e38-16ad-4bca-f08a-65655a9a3a01"
   },
   "outputs": [
    {
     "name": "stdout",
     "output_type": "stream",
     "text": [
      "--------------------------------------------\n",
      "F1-scores Micro averaged on validation data:\n",
      "--------------------------------------------\n",
      "Classifier Chains - Support Vector Machines, vectorization -> concatenate, order: Least frequent first\t0.698\n",
      "Classifier Chains - Support Vector Machines, vectorization -> concatenate, order: Most frequent first\t50.978\n",
      "Classifier Chains - Support Vector Machines, vectorization -> concatenate, order: Random order\t\t1.276\n",
      "Classifier Chains - Logistic Regression, vectorization -> concatenate, order: Least frequent first\t0.633\n",
      "Classifier Chains - Logistic Regression, vectorization -> concatenate, order: Most frequent first\t40.457\n",
      "Classifier Chains - Logistic Regression, vectorization -> concatenate, order: Random order\t\t0.789\n",
      "Classifier Chains - Support Vector Machines, concatenate -> vectorization, order: Least frequent first\t0.885\n",
      "Classifier Chains - Support Vector Machines, concatenate -> vectorization, order: Most frequent first\t48.807\n",
      "Classifier Chains - Support Vector Machines, concatenate -> vectorization, order: Random order\t\t0.366\n",
      "Classifier Chains - Logistic Regression, concatenate -> vectorization, order: Least frequent first\t0.621\n",
      "Classifier Chains - Logistic Regression, concatenate -> vectorization, order: Most frequent first\t25.964\n",
      "Classifier Chains - Logistic Regression, concatenate -> vectorization, order: Random order\t\t0.353\n",
      "\n",
      "--------------------------------------\n",
      "F1-scores Weighted on validation data:\n",
      "--------------------------------------\n",
      "Classifier Chains - Support Vector Machines, vectorization -> concatenate, order: Least frequent first\t0.474\n",
      "Classifier Chains - Support Vector Machines, vectorization -> concatenate, order: Most frequent first\t49.291\n",
      "Classifier Chains - Support Vector Machines, vectorization -> concatenate, order: Random order\t\t0.826\n",
      "Classifier Chains - Logistic Regression, vectorization -> concatenate, order: Least frequent first\t0.225\n",
      "Classifier Chains - Logistic Regression, vectorization -> concatenate, order: Most frequent first\t37.596\n",
      "Classifier Chains - Logistic Regression, vectorization -> concatenate, order: Random order\t\t0.341\n",
      "Classifier Chains - Support Vector Machines, concatenate -> vectorization, order: Least frequent first\t0.375\n",
      "Classifier Chains - Support Vector Machines, concatenate -> vectorization, order: Most frequent first\t44.601\n",
      "Classifier Chains - Support Vector Machines, concatenate -> vectorization, order: Random order\t\t0.131\n",
      "Classifier Chains - Logistic Regression, concatenate -> vectorization, order: Least frequent first\t0.141\n",
      "Classifier Chains - Logistic Regression, concatenate -> vectorization, order: Most frequent first\t22.477\n",
      "Classifier Chains - Logistic Regression, concatenate -> vectorization, order: Random order\t\t0.040\n"
     ]
    }
   ],
   "source": [
    "print(\"--------------------------------------------\")\n",
    "print(\"F1-scores Micro averaged on validation data:\")\n",
    "print(\"--------------------------------------------\")\n",
    "for i in range(len(names)):\n",
    "    print(names[i] % (100 * result['mean_test_f1_micro'][i]))\n",
    "\n",
    "print()\n",
    "print(\"--------------------------------------\")\n",
    "print(\"F1-scores Weighted on validation data:\")\n",
    "print(\"--------------------------------------\")\n",
    "for i in range(len(names)):\n",
    "    print(names[i] % (100 * result['mean_test_f1_weighted'][i]))"
   ]
  },
  {
   "cell_type": "code",
   "execution_count": null,
   "id": "Ld9oC9zb7Vc2",
   "metadata": {
    "id": "Ld9oC9zb7Vc2"
   },
   "outputs": [],
   "source": []
  }
 ],
 "metadata": {
  "colab": {
   "collapsed_sections": [],
   "name": "04 Models - Transformation into binary classification.ipynb",
   "provenance": []
  },
  "kernelspec": {
   "display_name": "Python 3",
   "language": "python",
   "name": "python3"
  },
  "language_info": {
   "codemirror_mode": {
    "name": "ipython",
    "version": 3
   },
   "file_extension": ".py",
   "mimetype": "text/x-python",
   "name": "python",
   "nbconvert_exporter": "python",
   "pygments_lexer": "ipython3",
   "version": "3.7.11"
  }
 },
 "nbformat": 4,
 "nbformat_minor": 5
}
