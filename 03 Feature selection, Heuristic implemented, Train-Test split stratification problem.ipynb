{
  "nbformat": 4,
  "nbformat_minor": 5,
  "metadata": {
    "kernelspec": {
      "display_name": "Python 3",
      "language": "python",
      "name": "python3"
    },
    "language_info": {
      "codemirror_mode": {
        "name": "ipython",
        "version": 3
      },
      "file_extension": ".py",
      "mimetype": "text/x-python",
      "name": "python",
      "nbconvert_exporter": "python",
      "pygments_lexer": "ipython3",
      "version": "3.7.11"
    },
    "colab": {
      "name": "03 Feature selection, Heuristic implemented, Train-Test split stratification problem.ipynb",
      "provenance": [],
      "collapsed_sections": []
    },
    "accelerator": "TPU"
  },
  "cells": [
    {
      "cell_type": "markdown",
      "metadata": {
        "id": "3QCJlp4yTNmQ"
      },
      "source": [
        "# <center> Feature selection </center>\n"
      ],
      "id": "3QCJlp4yTNmQ"
    },
    {
      "cell_type": "markdown",
      "metadata": {
        "id": "MbyCupCjB3AF"
      },
      "source": [
        "## Necessary downloads and library imports"
      ],
      "id": "MbyCupCjB3AF"
    },
    {
      "cell_type": "code",
      "metadata": {
        "colab": {
          "base_uri": "https://localhost:8080/"
        },
        "id": "A-f7eocpTH9U",
        "outputId": "ff375538-a434-4208-d316-c9596f55677d"
      },
      "source": [
        "from google.colab import drive\n",
        "drive.mount('/content/drive')"
      ],
      "id": "A-f7eocpTH9U",
      "execution_count": 1,
      "outputs": [
        {
          "output_type": "stream",
          "name": "stdout",
          "text": [
            "Drive already mounted at /content/drive; to attempt to forcibly remount, call drive.mount(\"/content/drive\", force_remount=True).\n"
          ]
        }
      ]
    },
    {
      "cell_type": "code",
      "metadata": {
        "id": "syaBWbsVvpXm"
      },
      "source": [
        "project_path = '/content/drive/My Drive/Colab Notebooks/MATF_ML_project/'"
      ],
      "id": "syaBWbsVvpXm",
      "execution_count": 2,
      "outputs": []
    },
    {
      "cell_type": "code",
      "metadata": {
        "colab": {
          "base_uri": "https://localhost:8080/"
        },
        "id": "IkNA7YsZUDGL",
        "outputId": "c3b21371-4fcd-430b-a945-ef7307763712"
      },
      "source": [
        "!pip install scikit-multilearn\n",
        "!pip install ipynb"
      ],
      "id": "IkNA7YsZUDGL",
      "execution_count": 3,
      "outputs": [
        {
          "output_type": "stream",
          "name": "stdout",
          "text": [
            "Requirement already satisfied: scikit-multilearn in /usr/local/lib/python3.7/dist-packages (0.2.0)\n",
            "Requirement already satisfied: ipynb in /usr/local/lib/python3.7/dist-packages (0.5.1)\n"
          ]
        }
      ]
    },
    {
      "cell_type": "code",
      "metadata": {
        "id": "984efaeb"
      },
      "source": [
        "from ipynb.fs.full.utility import *\n",
        "\n",
        "import pandas as pd\n",
        "import numpy as np\n",
        "import matplotlib.pyplot as plt\n",
        "\n",
        "import pickle\n",
        "\n",
        "import skmultilearn\n",
        "from skmultilearn.model_selection import iterative_train_test_split\n",
        "\n",
        "from scipy import sparse\n",
        "\n",
        "from sklearn import feature_extraction\n",
        "from sklearn.model_selection import train_test_split\n",
        "from sklearn.feature_extraction.text import CountVectorizer\n",
        "from sklearn.feature_extraction.text import TfidfVectorizer"
      ],
      "id": "984efaeb",
      "execution_count": 4,
      "outputs": []
    },
    {
      "cell_type": "markdown",
      "metadata": {
        "id": "c2TPBaT2LlBc"
      },
      "source": [
        "## Load data"
      ],
      "id": "c2TPBaT2LlBc"
    },
    {
      "cell_type": "code",
      "metadata": {
        "id": "ffd0aaee"
      },
      "source": [
        "file = open(project_path + \"data/data_preprocessed.csv\", \"rb\")\n",
        "data = pickle.load(file)\n",
        "file.close()"
      ],
      "id": "ffd0aaee",
      "execution_count": 5,
      "outputs": []
    },
    {
      "cell_type": "code",
      "metadata": {
        "id": "sSQOqkPBA--9"
      },
      "source": [
        "file = open(project_path + \"data/tags_preprocessed.csv\", \"rb\")\n",
        "tags_preprocessed = pickle.load(file)\n",
        "file.close()"
      ],
      "id": "sSQOqkPBA--9",
      "execution_count": 6,
      "outputs": []
    },
    {
      "cell_type": "code",
      "metadata": {
        "id": "093622da",
        "colab": {
          "base_uri": "https://localhost:8080/",
          "height": 206
        },
        "outputId": "1cba2a7c-cd40-41eb-829d-0f2b146ffd8c"
      },
      "source": [
        "data.head()"
      ],
      "id": "093622da",
      "execution_count": 7,
      "outputs": [
        {
          "output_type": "execute_result",
          "data": {
            "text/html": [
              "<div>\n",
              "<style scoped>\n",
              "    .dataframe tbody tr th:only-of-type {\n",
              "        vertical-align: middle;\n",
              "    }\n",
              "\n",
              "    .dataframe tbody tr th {\n",
              "        vertical-align: top;\n",
              "    }\n",
              "\n",
              "    .dataframe thead th {\n",
              "        text-align: right;\n",
              "    }\n",
              "</style>\n",
              "<table border=\"1\" class=\"dataframe\">\n",
              "  <thead>\n",
              "    <tr style=\"text-align: right;\">\n",
              "      <th></th>\n",
              "      <th>Id</th>\n",
              "      <th>Title</th>\n",
              "      <th>Body</th>\n",
              "      <th>Tags</th>\n",
              "    </tr>\n",
              "  </thead>\n",
              "  <tbody>\n",
              "    <tr>\n",
              "      <th>0</th>\n",
              "      <td>1</td>\n",
              "      <td>[how, check, upload, file, imag, without, mime...</td>\n",
              "      <td>[like, check, upload, file, imag, file, e, .g,...</td>\n",
              "      <td>[php]</td>\n",
              "    </tr>\n",
              "    <tr>\n",
              "      <th>1</th>\n",
              "      <td>2</td>\n",
              "      <td>[how, prevent, firefox, close, press, ctrl-w]</td>\n",
              "      <td>[favorit, editor, vim, regular, use, ctrl-w, e...</td>\n",
              "      <td>[firefox]</td>\n",
              "    </tr>\n",
              "    <tr>\n",
              "      <th>2</th>\n",
              "      <td>3</td>\n",
              "      <td>[r, error, invalid, type, list, variabl]</td>\n",
              "      <td>[import, matlab, file, construct, data, frame,...</td>\n",
              "      <td>[r]</td>\n",
              "    </tr>\n",
              "    <tr>\n",
              "      <th>3</th>\n",
              "      <td>4</td>\n",
              "      <td>[how, replac, special, charact, url]</td>\n",
              "      <td>[probabl, simpl, simpli, cannot, find, answer,...</td>\n",
              "      <td>[c#]</td>\n",
              "    </tr>\n",
              "    <tr>\n",
              "      <th>4</th>\n",
              "      <td>5</td>\n",
              "      <td>[how, modifi, whoi, contact, detail]</td>\n",
              "      <td>[function, modifi, mcontact, file_get_cont, ui...</td>\n",
              "      <td>[php, api]</td>\n",
              "    </tr>\n",
              "  </tbody>\n",
              "</table>\n",
              "</div>"
            ],
            "text/plain": [
              "   Id  ...        Tags\n",
              "0   1  ...       [php]\n",
              "1   2  ...   [firefox]\n",
              "2   3  ...         [r]\n",
              "3   4  ...        [c#]\n",
              "4   5  ...  [php, api]\n",
              "\n",
              "[5 rows x 4 columns]"
            ]
          },
          "metadata": {},
          "execution_count": 7
        }
      ]
    },
    {
      "cell_type": "code",
      "metadata": {
        "id": "7387134c",
        "colab": {
          "base_uri": "https://localhost:8080/"
        },
        "outputId": "8806a88d-1219-4ae5-8491-db8d1635a5fd"
      },
      "source": [
        "data.shape"
      ],
      "id": "7387134c",
      "execution_count": 8,
      "outputs": [
        {
          "output_type": "execute_result",
          "data": {
            "text/plain": [
              "(7628, 4)"
            ]
          },
          "metadata": {},
          "execution_count": 8
        }
      ]
    },
    {
      "cell_type": "code",
      "metadata": {
        "id": "c0b57903"
      },
      "source": [
        "X = data[['Title', 'Body']]\n",
        "y = data['Tags']"
      ],
      "id": "c0b57903",
      "execution_count": 9,
      "outputs": []
    },
    {
      "cell_type": "code",
      "metadata": {
        "id": "r6MZzCbIBEyS",
        "colab": {
          "base_uri": "https://localhost:8080/"
        },
        "outputId": "a51a8c25-a463-4bbb-faaf-458c6b8291cb"
      },
      "source": [
        "tags_preprocessed.head()"
      ],
      "id": "r6MZzCbIBEyS",
      "execution_count": 10,
      "outputs": [
        {
          "output_type": "execute_result",
          "data": {
            "text/plain": [
              "0         [php]\n",
              "1     [firefox]\n",
              "2           [r]\n",
              "3          [c#]\n",
              "4    [php, api]\n",
              "Name: Tags, dtype: object"
            ]
          },
          "metadata": {},
          "execution_count": 10
        }
      ]
    },
    {
      "cell_type": "markdown",
      "metadata": {
        "id": "VEtwaHy888uM"
      },
      "source": [
        "## Tag vectorization"
      ],
      "id": "VEtwaHy888uM"
    },
    {
      "cell_type": "code",
      "metadata": {
        "id": "LzuIsysWXk3L"
      },
      "source": [
        "def tokenizer_none (x):\n",
        "    return x\n",
        "    \n",
        "def preprocessor_none (x):\n",
        "    return x"
      ],
      "id": "LzuIsysWXk3L",
      "execution_count": 12,
      "outputs": []
    },
    {
      "cell_type": "code",
      "metadata": {
        "id": "MlEZ9CJV88uN",
        "colab": {
          "base_uri": "https://localhost:8080/"
        },
        "outputId": "be806f5c-3aa7-4c2c-ce9d-2e4cc44c3ada"
      },
      "source": [
        "tags_vectorizer = CountVectorizer(analyzer='word', tokenizer=tokenizer_none, \n",
        "                                    preprocessor=preprocessor_none, token_pattern=None)\n",
        "tags_vectorizer.fit(y)"
      ],
      "id": "MlEZ9CJV88uN",
      "execution_count": 13,
      "outputs": [
        {
          "output_type": "execute_result",
          "data": {
            "text/plain": [
              "CountVectorizer(analyzer='word', binary=False, decode_error='strict',\n",
              "                dtype=<class 'numpy.int64'>, encoding='utf-8', input='content',\n",
              "                lowercase=True, max_df=1.0, max_features=None, min_df=1,\n",
              "                ngram_range=(1, 1),\n",
              "                preprocessor=<function preprocessor_none at 0x7ff89fb0de60>,\n",
              "                stop_words=None, strip_accents=None, token_pattern=None,\n",
              "                tokenizer=<function tokenizer_none at 0x7ff8a1d888c0>,\n",
              "                vocabulary=None)"
            ]
          },
          "metadata": {},
          "execution_count": 13
        }
      ]
    },
    {
      "cell_type": "code",
      "metadata": {
        "id": "vAT1wv5488uR"
      },
      "source": [
        "y_vectors = tags_vectorizer.transform(y)"
      ],
      "id": "vAT1wv5488uR",
      "execution_count": 14,
      "outputs": []
    },
    {
      "cell_type": "code",
      "metadata": {
        "id": "lHmc3IQV88uR",
        "colab": {
          "base_uri": "https://localhost:8080/"
        },
        "outputId": "14f9c814-898e-42d9-8490-ea4436b44650"
      },
      "source": [
        "y_vectors"
      ],
      "id": "lHmc3IQV88uR",
      "execution_count": 15,
      "outputs": [
        {
          "output_type": "execute_result",
          "data": {
            "text/plain": [
              "<7628x100 sparse matrix of type '<class 'numpy.int64'>'\n",
              "\twith 12148 stored elements in Compressed Sparse Row format>"
            ]
          },
          "metadata": {},
          "execution_count": 15
        }
      ]
    },
    {
      "cell_type": "code",
      "metadata": {
        "id": "JY_srQwq88uU",
        "colab": {
          "base_uri": "https://localhost:8080/"
        },
        "outputId": "8233faac-6072-472c-9008-dfb28aa5981c"
      },
      "source": [
        "y_vectors.shape"
      ],
      "id": "JY_srQwq88uU",
      "execution_count": 16,
      "outputs": [
        {
          "output_type": "execute_result",
          "data": {
            "text/plain": [
              "(7628, 100)"
            ]
          },
          "metadata": {},
          "execution_count": 16
        }
      ]
    },
    {
      "cell_type": "markdown",
      "metadata": {
        "id": "447yJMSc_hxr"
      },
      "source": [
        "## Train-Test split"
      ],
      "id": "447yJMSc_hxr"
    },
    {
      "cell_type": "code",
      "metadata": {
        "id": "oowEmjNB_Djf"
      },
      "source": [
        "X_train, y_train, X_test, y_test = iterative_train_test_split(X.to_numpy(), y_vectors.toarray(), \n",
        "                                                              test_size = 0.2)"
      ],
      "id": "oowEmjNB_Djf",
      "execution_count": 17,
      "outputs": []
    },
    {
      "cell_type": "code",
      "metadata": {
        "colab": {
          "base_uri": "https://localhost:8080/"
        },
        "id": "8PferKslK1HS",
        "outputId": "2269e29e-84a6-4894-86b3-cf08e2575bc9"
      },
      "source": [
        "X_train.shape, y_train.shape, X_test.shape, y_test.shape"
      ],
      "id": "8PferKslK1HS",
      "execution_count": 18,
      "outputs": [
        {
          "output_type": "execute_result",
          "data": {
            "text/plain": [
              "((6053, 2), (6053, 100), (1575, 2), (1575, 100))"
            ]
          },
          "metadata": {},
          "execution_count": 18
        }
      ]
    },
    {
      "cell_type": "markdown",
      "metadata": {
        "id": "xqVzJdUchED5"
      },
      "source": [
        "## Text Vectorization"
      ],
      "id": "xqVzJdUchED5"
    },
    {
      "cell_type": "markdown",
      "metadata": {
        "id": "JWFjuMFLgumr"
      },
      "source": [
        "For the text vectorization we choose **Tf-Idf** and **Bag-of-Words** vectorizations. \n",
        "\n",
        "**How to combine title and body?** The title seems to be an important feature because it is concise and contains the most important information about question. So we will try to exploit it wisely.\n",
        "\n",
        "---------\n",
        "\n",
        "We examined two approaches:\n",
        "\n",
        "1. **Vectorize -> Concatenate** (My idea)\n",
        "\n",
        "  Vectorize title (0-1 Bag-of-Words), Vectorize body (Tf-Idf) -> Concatenate vectors\n",
        "\n",
        "  It seems that the frequency is not important, but only the appearance of the words in the title (for example, you probably won't repeat \"in c#\" many times in question, but this token is very important for predicting the 'c#' tag).\n",
        "  On the other hand, it is useful to \"extract context\" from the body because of tags such as 'design' that don't appear explicitly in the text. So we will use Tf-Idf (or some better approach in the future :D)\n",
        "\n",
        "\n",
        "2. **Concatenate -> Vectorize** (Idea taken from blog <a href=\"https://medium.datadriveninvestor.com/predicting-tags-for-the-questions-in-stack-overflow-29438367261e\">Predicting Tags for the Questions in Stack Overflow</a>)\n",
        "\n",
        "  Concatenate body and 3 times repeated title -> Vectorize that text\n",
        "\n",
        "----------\n"
      ],
      "id": "JWFjuMFLgumr"
    },
    {
      "cell_type": "code",
      "metadata": {
        "id": "SzuvsvkdYSau"
      },
      "source": [
        "X_train_titles = X_train[:, 0]\n",
        "X_test_titles = X_test[:, 0]\n",
        "X_train_bodies = X_train[:, 1]\n",
        "X_test_bodies = X_test[:, 1]"
      ],
      "id": "SzuvsvkdYSau",
      "execution_count": 19,
      "outputs": []
    },
    {
      "cell_type": "markdown",
      "metadata": {
        "id": "XYHI0BZ7-W0S"
      },
      "source": [
        "### 1. Vectorize -> Concatenate"
      ],
      "id": "XYHI0BZ7-W0S"
    },
    {
      "cell_type": "markdown",
      "metadata": {
        "id": "0888588f"
      },
      "source": [
        "#### Title vectorization"
      ],
      "id": "0888588f"
    },
    {
      "cell_type": "code",
      "metadata": {
        "id": "bd2d4854",
        "colab": {
          "base_uri": "https://localhost:8080/"
        },
        "outputId": "e4c6c3b2-a106-4f4a-b0f5-f8d0cfe98f5f"
      },
      "source": [
        "title_vectorizer = CountVectorizer(analyzer='word', binary=True, tokenizer=tokenizer_none, \n",
        "                                    preprocessor=preprocessor_none, token_pattern=None, \n",
        "                                    min_df=1)\n",
        "title_vectorizer.fit(X_train_titles)"
      ],
      "id": "bd2d4854",
      "execution_count": 20,
      "outputs": [
        {
          "output_type": "execute_result",
          "data": {
            "text/plain": [
              "CountVectorizer(analyzer='word', binary=True, decode_error='strict',\n",
              "                dtype=<class 'numpy.int64'>, encoding='utf-8', input='content',\n",
              "                lowercase=True, max_df=1.0, max_features=None, min_df=1,\n",
              "                ngram_range=(1, 1),\n",
              "                preprocessor=<function preprocessor_none at 0x7ff89fb0de60>,\n",
              "                stop_words=None, strip_accents=None, token_pattern=None,\n",
              "                tokenizer=<function tokenizer_none at 0x7ff8a1d888c0>,\n",
              "                vocabulary=None)"
            ]
          },
          "metadata": {},
          "execution_count": 20
        }
      ]
    },
    {
      "cell_type": "code",
      "metadata": {
        "id": "ed2eb958"
      },
      "source": [
        "title_vectors_train = title_vectorizer.transform(X_train_titles)\n",
        "title_vectors_test = title_vectorizer.transform(X_test_titles)"
      ],
      "id": "ed2eb958",
      "execution_count": 21,
      "outputs": []
    },
    {
      "cell_type": "code",
      "metadata": {
        "id": "afbabdfd",
        "colab": {
          "base_uri": "https://localhost:8080/"
        },
        "outputId": "96b6d217-baef-49fc-a2ce-d6aaebb70051"
      },
      "source": [
        "title_vectors_train.shape, title_vectors_test.shape"
      ],
      "id": "afbabdfd",
      "execution_count": 22,
      "outputs": [
        {
          "output_type": "execute_result",
          "data": {
            "text/plain": [
              "((6053, 5581), (1575, 5581))"
            ]
          },
          "metadata": {},
          "execution_count": 22
        }
      ]
    },
    {
      "cell_type": "code",
      "metadata": {
        "id": "e612bf05",
        "colab": {
          "base_uri": "https://localhost:8080/"
        },
        "outputId": "517651d5-61d2-49a0-ebec-bd7d7e5b9b81"
      },
      "source": [
        "print(np.unique(title_vectors_train.toarray(), return_counts=True))\n",
        "print(np.unique(title_vectors_test.toarray(), return_counts=True))"
      ],
      "id": "e612bf05",
      "execution_count": 23,
      "outputs": [
        {
          "output_type": "stream",
          "name": "stdout",
          "text": [
            "(array([0, 1]), array([33746225,    35568]))\n",
            "(array([0, 1]), array([8781555,    8520]))\n"
          ]
        }
      ]
    },
    {
      "cell_type": "markdown",
      "metadata": {
        "id": "ad04a72b"
      },
      "source": [
        "#### Body vectorization"
      ],
      "id": "ad04a72b"
    },
    {
      "cell_type": "code",
      "metadata": {
        "id": "dc4460a7",
        "colab": {
          "base_uri": "https://localhost:8080/"
        },
        "outputId": "57edd387-4156-406c-8d6c-3a9215b5b46a"
      },
      "source": [
        "body_vectorizer = TfidfVectorizer(analyzer='word', tokenizer=tokenizer_none, \n",
        "                                    preprocessor=preprocessor_none, token_pattern=None,\n",
        "                                    min_df=0.0003)\n",
        "body_vectorizer.fit(X_train_bodies)"
      ],
      "id": "dc4460a7",
      "execution_count": 24,
      "outputs": [
        {
          "output_type": "execute_result",
          "data": {
            "text/plain": [
              "TfidfVectorizer(analyzer='word', binary=False, decode_error='strict',\n",
              "                dtype=<class 'numpy.float64'>, encoding='utf-8',\n",
              "                input='content', lowercase=True, max_df=1.0, max_features=None,\n",
              "                min_df=0.0003, ngram_range=(1, 1), norm='l2',\n",
              "                preprocessor=<function preprocessor_none at 0x7ff89fb0de60>,\n",
              "                smooth_idf=True, stop_words=None, strip_accents=None,\n",
              "                sublinear_tf=False, token_pattern=None,\n",
              "                tokenizer=<function tokenizer_none at 0x7ff8a1d888c0>,\n",
              "                use_idf=True, vocabulary=None)"
            ]
          },
          "metadata": {},
          "execution_count": 24
        }
      ]
    },
    {
      "cell_type": "code",
      "metadata": {
        "id": "8341ed52"
      },
      "source": [
        "body_vectors_train = body_vectorizer.transform(X_train_bodies)\n",
        "body_vectors_test = body_vectorizer.transform(X_test_bodies)"
      ],
      "id": "8341ed52",
      "execution_count": 25,
      "outputs": []
    },
    {
      "cell_type": "code",
      "metadata": {
        "id": "201d5a0d",
        "colab": {
          "base_uri": "https://localhost:8080/"
        },
        "outputId": "e67bb303-afaa-4e1c-b2d6-9acca4f04b74"
      },
      "source": [
        "body_vectors_train.shape, body_vectors_test.shape"
      ],
      "id": "201d5a0d",
      "execution_count": 26,
      "outputs": [
        {
          "output_type": "execute_result",
          "data": {
            "text/plain": [
              "((6053, 11819), (1575, 11819))"
            ]
          },
          "metadata": {},
          "execution_count": 26
        }
      ]
    },
    {
      "cell_type": "markdown",
      "metadata": {
        "id": "ukrlZpz_BmkQ"
      },
      "source": [
        "#### Concatenate vectors"
      ],
      "id": "ukrlZpz_BmkQ"
    },
    {
      "cell_type": "code",
      "metadata": {
        "id": "dcd20ea3"
      },
      "source": [
        "X_train_concat = sparse.hstack([body_vectors_train, title_vectors_train])\n",
        "X_test_concat = sparse.hstack([body_vectors_test, title_vectors_test])"
      ],
      "id": "dcd20ea3",
      "execution_count": 27,
      "outputs": []
    },
    {
      "cell_type": "code",
      "metadata": {
        "id": "3vmTuvF19bRf",
        "colab": {
          "base_uri": "https://localhost:8080/"
        },
        "outputId": "c273e69f-5b0f-4da4-9df1-8c94c5e20c35"
      },
      "source": [
        "X_train_concat.shape, X_test_concat.shape"
      ],
      "id": "3vmTuvF19bRf",
      "execution_count": 28,
      "outputs": [
        {
          "output_type": "execute_result",
          "data": {
            "text/plain": [
              "((6053, 17400), (1575, 17400))"
            ]
          },
          "metadata": {},
          "execution_count": 28
        }
      ]
    },
    {
      "cell_type": "markdown",
      "metadata": {
        "id": "SGJDdOVzENyY"
      },
      "source": [
        "#### Save data"
      ],
      "id": "SGJDdOVzENyY"
    },
    {
      "cell_type": "code",
      "metadata": {
        "id": "odEcqLfGENya"
      },
      "source": [
        "sparse.save_npz(project_path + \"data/X_train_vect_concat.npz\", sparse.coo_matrix(X_train_concat))\n",
        "sparse.save_npz(project_path + \"data/y_train_vect_concat.npz\", sparse.coo_matrix(y_train))\n",
        "sparse.save_npz(project_path + \"data/X_test_vect_concat.npz\", sparse.coo_matrix(X_test_concat))\n",
        "sparse.save_npz(project_path + \"data/y_test_vect_concat.npz\", sparse.coo_matrix(y_test))"
      ],
      "id": "odEcqLfGENya",
      "execution_count": 29,
      "outputs": []
    },
    {
      "cell_type": "markdown",
      "metadata": {
        "id": "z9-b-RPq_HtQ"
      },
      "source": [
        "### 2. Concatenate -> Vectorize"
      ],
      "id": "z9-b-RPq_HtQ"
    },
    {
      "cell_type": "markdown",
      "metadata": {
        "id": "J1Byh5pC1JMg"
      },
      "source": [
        "#### Question vectorisation"
      ],
      "id": "J1Byh5pC1JMg"
    },
    {
      "cell_type": "code",
      "metadata": {
        "id": "bM4n9qjv4hj8"
      },
      "source": [
        "X_train_question = X_train_bodies + 3 * X_train_titles\n",
        "X_test_question = X_test_bodies + 3 * X_test_titles"
      ],
      "id": "bM4n9qjv4hj8",
      "execution_count": 30,
      "outputs": []
    },
    {
      "cell_type": "code",
      "metadata": {
        "id": "5CENjpah1JA-",
        "colab": {
          "base_uri": "https://localhost:8080/"
        },
        "outputId": "8480de69-96a3-46c9-9779-4a3c77dfebd2"
      },
      "source": [
        "question_vectorizer = TfidfVectorizer(analyzer='word', tokenizer=tokenizer_none, \n",
        "                                    preprocessor=preprocessor_none, token_pattern=None,\n",
        "                                    min_df=0.0003)\n",
        "question_vectorizer.fit(X_train_question)"
      ],
      "id": "5CENjpah1JA-",
      "execution_count": 31,
      "outputs": [
        {
          "output_type": "execute_result",
          "data": {
            "text/plain": [
              "TfidfVectorizer(analyzer='word', binary=False, decode_error='strict',\n",
              "                dtype=<class 'numpy.float64'>, encoding='utf-8',\n",
              "                input='content', lowercase=True, max_df=1.0, max_features=None,\n",
              "                min_df=0.0003, ngram_range=(1, 1), norm='l2',\n",
              "                preprocessor=<function preprocessor_none at 0x7ff89fb0de60>,\n",
              "                smooth_idf=True, stop_words=None, strip_accents=None,\n",
              "                sublinear_tf=False, token_pattern=None,\n",
              "                tokenizer=<function tokenizer_none at 0x7ff8a1d888c0>,\n",
              "                use_idf=True, vocabulary=None)"
            ]
          },
          "metadata": {},
          "execution_count": 31
        }
      ]
    },
    {
      "cell_type": "code",
      "metadata": {
        "id": "F13mCMYY1I_B"
      },
      "source": [
        "question_train_vectors = question_vectorizer.transform(X_train_question)\n",
        "question_test_vectors = question_vectorizer.transform(X_test_question)"
      ],
      "id": "F13mCMYY1I_B",
      "execution_count": 32,
      "outputs": []
    },
    {
      "cell_type": "code",
      "metadata": {
        "id": "rSL1TI8B1I9G",
        "colab": {
          "base_uri": "https://localhost:8080/"
        },
        "outputId": "6a00ac5c-717d-48b1-e715-2ecddda6e75e"
      },
      "source": [
        "question_train_vectors.shape, question_test_vectors.shape"
      ],
      "id": "rSL1TI8B1I9G",
      "execution_count": 33,
      "outputs": [
        {
          "output_type": "execute_result",
          "data": {
            "text/plain": [
              "((6053, 11992), (1575, 11992))"
            ]
          },
          "metadata": {},
          "execution_count": 33
        }
      ]
    },
    {
      "cell_type": "markdown",
      "metadata": {
        "id": "z9BZDD-WEagh"
      },
      "source": [
        "#### Save data"
      ],
      "id": "z9BZDD-WEagh"
    },
    {
      "cell_type": "code",
      "metadata": {
        "id": "3M-VFOzjEagh"
      },
      "source": [
        "sparse.save_npz(project_path + \"data/X_train_concat_vect.npz\", sparse.coo_matrix(question_train_vectors))\n",
        "sparse.save_npz(project_path + \"data/y_train_concat_vect.npz\", sparse.coo_matrix(y_train))\n",
        "sparse.save_npz(project_path + \"data/X_test_concat_vect.npz\", sparse.coo_matrix(question_test_vectors))\n",
        "sparse.save_npz(project_path + \"data/y_test_concat_vect.npz\", sparse.coo_matrix(y_test))"
      ],
      "id": "3M-VFOzjEagh",
      "execution_count": 34,
      "outputs": []
    },
    {
      "cell_type": "markdown",
      "metadata": {
        "id": "0I1IqWjt5HtX"
      },
      "source": [
        "# <center>The Heuristic (Count Tags in text)</center>"
      ],
      "id": "0I1IqWjt5HtX"
    },
    {
      "cell_type": "markdown",
      "metadata": {
        "id": "adXrD2xYLvLz"
      },
      "source": [
        "Tags such as 'c#', 'java', 'android', file extensions, etc. usually appear in the text. \n",
        "So our baseline (heuristic) approach will be counting tag appearances in the text."
      ],
      "id": "adXrD2xYLvLz"
    },
    {
      "cell_type": "code",
      "metadata": {
        "id": "MrBwARVl5QVo",
        "colab": {
          "base_uri": "https://localhost:8080/"
        },
        "outputId": "0f2b9fd6-86b1-42bf-890d-cd987067952f"
      },
      "source": [
        "tag_counter = CountVectorizer(analyzer='word', tokenizer=tokenizer_none, \n",
        "                                    preprocessor=preprocessor_none, token_pattern=None)\n",
        "tag_counter.fit(tags_preprocessed)"
      ],
      "id": "MrBwARVl5QVo",
      "execution_count": 35,
      "outputs": [
        {
          "output_type": "execute_result",
          "data": {
            "text/plain": [
              "CountVectorizer(analyzer='word', binary=False, decode_error='strict',\n",
              "                dtype=<class 'numpy.int64'>, encoding='utf-8', input='content',\n",
              "                lowercase=True, max_df=1.0, max_features=None, min_df=1,\n",
              "                ngram_range=(1, 1),\n",
              "                preprocessor=<function preprocessor_none at 0x7ff89fb0de60>,\n",
              "                stop_words=None, strip_accents=None, token_pattern=None,\n",
              "                tokenizer=<function tokenizer_none at 0x7ff8a1d888c0>,\n",
              "                vocabulary=None)"
            ]
          },
          "metadata": {},
          "execution_count": 35
        }
      ]
    },
    {
      "cell_type": "code",
      "metadata": {
        "id": "_tRcJ-ac5QRP"
      },
      "source": [
        "tags_in_question = tag_counter.transform(X['Title'] + X['Body'])"
      ],
      "id": "_tRcJ-ac5QRP",
      "execution_count": 36,
      "outputs": []
    },
    {
      "cell_type": "code",
      "metadata": {
        "id": "R4YQi27G5QOp",
        "colab": {
          "base_uri": "https://localhost:8080/"
        },
        "outputId": "1fa8c457-a7f5-450c-dd1d-c0cf768105e6"
      },
      "source": [
        "tag_counts = [sum(vect>0) for vect in tags_in_question.toarray()]\n",
        "print(\"Average number of tags predicted from a question: %.3f\" % (sum(tag_counts)/len(tag_counts)))\n",
        "print(\"Max number of tags predicted from a question:\", max(tag_counts))"
      ],
      "id": "R4YQi27G5QOp",
      "execution_count": 37,
      "outputs": [
        {
          "output_type": "stream",
          "name": "stdout",
          "text": [
            "Average number of tags predicted from a question: 2.183\n",
            "Max number of tags predicted from a question: 13\n"
          ]
        }
      ]
    },
    {
      "cell_type": "code",
      "metadata": {
        "id": "WUBZY5NoE0yo"
      },
      "source": [
        "predicated = [[1 if c > 0 else 0 for c in vect] for vect in tags_in_question.toarray()]"
      ],
      "id": "WUBZY5NoE0yo",
      "execution_count": 38,
      "outputs": []
    },
    {
      "cell_type": "code",
      "metadata": {
        "id": "INeM8LxtJVkY",
        "colab": {
          "base_uri": "https://localhost:8080/"
        },
        "outputId": "ebad17b8-9e6f-4c49-d33e-239fd659b751"
      },
      "source": [
        "print_metrics(y_vectors.toarray(), predicated)"
      ],
      "id": "INeM8LxtJVkY",
      "execution_count": 39,
      "outputs": [
        {
          "output_type": "stream",
          "name": "stdout",
          "text": [
            "Hamming Score ('Accuracy' by Keras):\t97.852\n",
            "Hamming Score (= 1 - Hamming Loss):\t97.852\n",
            "Exact match ratio (Subset Accuracy):\t12.389\n",
            "F1-Score Micro Averaged:\t\t43.101\n",
            "F1-Score Macro Averaged:\t\t40.638\n",
            "F1-Score Weighted Average:\t\t48.195\n",
            "Precision Score Micro Averaged:\t\t37.270\n",
            "Recall Score Micro Averaged:\t\t51.095\n"
          ]
        }
      ]
    },
    {
      "cell_type": "markdown",
      "metadata": {
        "id": "ys_aiReVOotO"
      },
      "source": [
        "Surprisingly good results!"
      ],
      "id": "ys_aiReVOotO"
    },
    {
      "cell_type": "markdown",
      "metadata": {
        "id": "TY6jiljwLuXP"
      },
      "source": [
        "# Save vectorizers"
      ],
      "id": "TY6jiljwLuXP"
    },
    {
      "cell_type": "code",
      "metadata": {
        "id": "Kz1hgMo6L7i9"
      },
      "source": [
        "with open(project_path + 'models/vectorizer_tag.pk', 'wb') as fin:\n",
        "    pickle.dump(tags_vectorizer, fin)\n",
        "with open(project_path + 'models/vectorizer_title.pk', 'wb') as fin:\n",
        "    pickle.dump(title_vectorizer, fin)\n",
        "with open(project_path + 'models/vectorizer_body.pk', 'wb') as fin:\n",
        "    pickle.dump(body_vectorizer, fin)\n",
        "with open(project_path + 'models/vectorizer_question.pk', 'wb') as fin:\n",
        "    pickle.dump(question_vectorizer, fin)\n",
        "with open(project_path + 'models/vectorizer_heuristic_tag_counter.pk', 'wb') as fin:\n",
        "    pickle.dump(tag_counter, fin)"
      ],
      "id": "Kz1hgMo6L7i9",
      "execution_count": 40,
      "outputs": []
    },
    {
      "cell_type": "markdown",
      "metadata": {
        "id": "4571dfbe"
      },
      "source": [
        "# <center> Experiment: Train-Test Split - Stratification problem </center>"
      ],
      "id": "4571dfbe"
    },
    {
      "cell_type": "markdown",
      "metadata": {
        "id": "FT3dwAABQBy9"
      },
      "source": [
        "In <a href=\"http://scikit.ml/stratification.html\">Multi-label data stratification - Scikit-Multilearn</a> it is illustrated how `skmultilearn.model_selection.iterative_train_test_split()`, which is adapted to the problem of multi-label classification, preserves the ratio of counts of label combinations in train and test sets. We are curious to illustrate how it preserves the counts of each label.\n",
        "\n"
      ],
      "id": "FT3dwAABQBy9"
    },
    {
      "cell_type": "markdown",
      "metadata": {
        "id": "784ba934"
      },
      "source": [
        "#### Testing scikit-multilearn method for train-test split (with stratification)"
      ],
      "id": "784ba934"
    },
    {
      "cell_type": "code",
      "metadata": {
        "id": "hTyXJkgFjjmV"
      },
      "source": [
        "X_train, y_train, X_test, y_test = iterative_train_test_split(X.to_numpy(), y_vectors.toarray(), \n",
        "                                                              test_size = 0.5)"
      ],
      "id": "hTyXJkgFjjmV",
      "execution_count": 41,
      "outputs": []
    },
    {
      "cell_type": "code",
      "metadata": {
        "id": "3b08847f"
      },
      "source": [
        "tag_counts_train = sum(y_train)\n",
        "tag_counts_test = sum(y_test)"
      ],
      "id": "3b08847f",
      "execution_count": 42,
      "outputs": []
    },
    {
      "cell_type": "code",
      "metadata": {
        "id": "64f84171",
        "colab": {
          "base_uri": "https://localhost:8080/"
        },
        "outputId": "be11c19d-26a0-4186-878e-55c2e513edda"
      },
      "source": [
        "print(tag_counts_train)"
      ],
      "id": "64f84171",
      "execution_count": 43,
      "outputs": [
        {
          "output_type": "stream",
          "name": "stdout",
          "text": [
            "[ 20 151  33  53  31 259  22  21  19  44 154  51  26  27  92 389 167  21\n",
            "  16  22  23  20 113  57  31  36  25  27  19  20  40  17  18  16  30  21\n",
            "  20  23  25  22 140  32  19  24 121  26 150 352 312 252  18  31  17  33\n",
            " 104  16  38  19 139  38 102  28  40  16  38  18 350 150  25  24  21  43\n",
            "  71 103  36  19  26  23 128  65  16  27  16  29  17  20  27  37  22  30\n",
            "  29  25  88  40  17  26  24  57  41  59]\n"
          ]
        }
      ]
    },
    {
      "cell_type": "code",
      "metadata": {
        "id": "fb07016d",
        "colab": {
          "base_uri": "https://localhost:8080/"
        },
        "outputId": "25aed748-0540-4084-9b16-44f8f791b97e"
      },
      "source": [
        "print(tag_counts_test)"
      ],
      "id": "fb07016d",
      "execution_count": 44,
      "outputs": [
        {
          "output_type": "stream",
          "name": "stdout",
          "text": [
            "[ 20 151  32  54  30 259  22  20  19  44 155  52  27  28  92 389 166  20\n",
            "  16  22  24  20 113  56  32  36  25  28  20  21  40  16  19  16  30  21\n",
            "  20  22  24  21 140  32  19  25 121  25 150 351 312 252  18  30  16  32\n",
            " 104  17  37  14 139  37 102  29  40  17  38  17 351 150  25  23  20  43\n",
            "  70 104  37  19  26  22 128  65  20  27  17  30  17  19  26  37  22  30\n",
            "  29  24  87  40  18  29  25  57  42  58]\n"
          ]
        }
      ]
    },
    {
      "cell_type": "code",
      "metadata": {
        "id": "f03a0b89",
        "colab": {
          "base_uri": "https://localhost:8080/"
        },
        "outputId": "5c41551a-9c19-4b15-d797-c2e12053c1d4"
      },
      "source": [
        "print(list(zip(tag_counts_train, tag_counts_test))[0:15])"
      ],
      "id": "f03a0b89",
      "execution_count": 45,
      "outputs": [
        {
          "output_type": "stream",
          "name": "stdout",
          "text": [
            "[(20, 20), (151, 151), (33, 32), (53, 54), (31, 30), (259, 259), (22, 22), (21, 20), (19, 19), (44, 44), (154, 155), (51, 52), (26, 27), (27, 28), (92, 92)]\n"
          ]
        }
      ]
    },
    {
      "cell_type": "code",
      "metadata": {
        "id": "1ce4dd97"
      },
      "source": [
        "# differences between counts of tag in train and test sets\n",
        "diff = [abs(ttrain - ttest) for ttrain, ttest in zip(tag_counts_train, tag_counts_test)]"
      ],
      "id": "1ce4dd97",
      "execution_count": 46,
      "outputs": []
    },
    {
      "cell_type": "code",
      "metadata": {
        "id": "99d9b740",
        "colab": {
          "base_uri": "https://localhost:8080/"
        },
        "outputId": "9556abfc-8f33-4f3a-d4da-f1a9ac4e6c26"
      },
      "source": [
        "print(\"Max difference: \", max(diff))\n",
        "print(\"Avg. difference: \", np.average(diff))"
      ],
      "id": "99d9b740",
      "execution_count": 47,
      "outputs": [
        {
          "output_type": "stream",
          "name": "stdout",
          "text": [
            "Max difference:  5\n",
            "Avg. difference:  0.62\n"
          ]
        }
      ]
    },
    {
      "cell_type": "code",
      "metadata": {
        "id": "PGrt9-S5K2Zc",
        "colab": {
          "base_uri": "https://localhost:8080/"
        },
        "outputId": "ee24ac8f-3299-4a1c-848d-6d666db5d887"
      },
      "source": [
        "print(\"%.3f %%\" % (100 * max(diff) / np.average(tag_counts_train)))"
      ],
      "id": "PGrt9-S5K2Zc",
      "execution_count": 48,
      "outputs": [
        {
          "output_type": "stream",
          "name": "stdout",
          "text": [
            "8.230 %\n"
          ]
        }
      ]
    },
    {
      "cell_type": "markdown",
      "metadata": {
        "id": "DGZ-dCIlkqtn"
      },
      "source": [
        "#### Testing scikit-learn method for train-test split with no stratification\n",
        "\n"
      ],
      "id": "DGZ-dCIlkqtn"
    },
    {
      "cell_type": "code",
      "metadata": {
        "id": "7zqgB09tjw_f"
      },
      "source": [
        "X_train, X_test, y_train, y_test = train_test_split(X.to_numpy(), y_vectors.toarray(), \n",
        "                                                              test_size = 0.5)"
      ],
      "id": "7zqgB09tjw_f",
      "execution_count": 49,
      "outputs": []
    },
    {
      "cell_type": "code",
      "metadata": {
        "id": "v5i8AyH3J9jK",
        "colab": {
          "base_uri": "https://localhost:8080/"
        },
        "outputId": "6611b881-1a06-4dde-be88-3dd87e17b475"
      },
      "source": [
        "y_train.shape"
      ],
      "id": "v5i8AyH3J9jK",
      "execution_count": 50,
      "outputs": [
        {
          "output_type": "execute_result",
          "data": {
            "text/plain": [
              "(3814, 100)"
            ]
          },
          "metadata": {},
          "execution_count": 50
        }
      ]
    },
    {
      "cell_type": "code",
      "metadata": {
        "id": "SAPXieAflGt3"
      },
      "source": [
        "tag_counts_train = sum(y_train)\n",
        "tag_counts_test = sum(y_test)"
      ],
      "id": "SAPXieAflGt3",
      "execution_count": 51,
      "outputs": []
    },
    {
      "cell_type": "code",
      "metadata": {
        "id": "L9Yurvc9lGg1",
        "colab": {
          "base_uri": "https://localhost:8080/"
        },
        "outputId": "37ad42ec-edb1-4ca8-a5ec-2de9f5afd1c0"
      },
      "source": [
        "print(tag_counts_train)"
      ],
      "id": "L9Yurvc9lGg1",
      "execution_count": 52,
      "outputs": [
        {
          "output_type": "stream",
          "name": "stdout",
          "text": [
            "[ 20 173  32  47  26 253  19  19  22  42 149  53  27  29  89 402 165  21\n",
            "  16  21  25  22 116  59  30  32  27  33  19  19  42  15  20  13  29  20\n",
            "  19  24  30  21 148  34  21  28 104  29 150 339 321 250  20  38  21  38\n",
            " 112  23  39  21 147  41  88  22  35  21  33  15 379 147  30  30  24  52\n",
            "  69  97  36  19  26  26 117  68  18  17  21  38  21  16  26  35  14  31\n",
            "  20  22  87  36  17  29  30  60  33  60]\n"
          ]
        }
      ]
    },
    {
      "cell_type": "code",
      "metadata": {
        "id": "0Bsmz4GrJGYx",
        "colab": {
          "base_uri": "https://localhost:8080/"
        },
        "outputId": "f8da197c-39de-4c4c-fff1-e8aa63851655"
      },
      "source": [
        "print(tag_counts_test)"
      ],
      "id": "0Bsmz4GrJGYx",
      "execution_count": 53,
      "outputs": [
        {
          "output_type": "stream",
          "name": "stdout",
          "text": [
            "[ 20 129  33  60  35 265  25  22  16  46 160  50  26  26  95 376 168  20\n",
            "  16  23  22  18 110  54  33  40  23  22  20  22  38  18  17  19  31  22\n",
            "  21  21  19  22 132  30  17  21 138  22 150 364 303 254  16  23  12  27\n",
            "  96  10  36  12 131  34 116  35  45  12  43  20 322 153  20  17  17  34\n",
            "  72 110  37  19  26  19 139  62  18  37  12  21  13  23  27  39  30  29\n",
            "  38  27  88  44  18  26  19  54  50  57]\n"
          ]
        }
      ]
    },
    {
      "cell_type": "code",
      "metadata": {
        "id": "fWiUSFo1JGWv",
        "colab": {
          "base_uri": "https://localhost:8080/"
        },
        "outputId": "c3b28bf3-9b84-44b1-d0ce-b4f3fa6dd4fa"
      },
      "source": [
        "print(list(zip(tag_counts_train, tag_counts_test))[0:15])"
      ],
      "id": "fWiUSFo1JGWv",
      "execution_count": 54,
      "outputs": [
        {
          "output_type": "stream",
          "name": "stdout",
          "text": [
            "[(20, 20), (173, 129), (32, 33), (47, 60), (26, 35), (253, 265), (19, 25), (19, 22), (22, 16), (42, 46), (149, 160), (53, 50), (27, 26), (29, 26), (89, 95)]\n"
          ]
        }
      ]
    },
    {
      "cell_type": "code",
      "metadata": {
        "id": "pKfM4umgJGSd"
      },
      "source": [
        "# differences between counts of tag in train and test sets\n",
        "diff = [abs(ttrain - ttest) for ttrain, ttest in zip(tag_counts_train, tag_counts_test)]"
      ],
      "id": "pKfM4umgJGSd",
      "execution_count": 55,
      "outputs": []
    },
    {
      "cell_type": "code",
      "metadata": {
        "id": "_dd2RHZwJGQJ",
        "colab": {
          "base_uri": "https://localhost:8080/"
        },
        "outputId": "dde473c8-8c5e-4f30-e7cf-2f8b0d51c298"
      },
      "source": [
        "print(\"Max difference: \", max(diff))\n",
        "print(\"Avg. difference: \", np.average(diff))"
      ],
      "id": "_dd2RHZwJGQJ",
      "execution_count": 56,
      "outputs": [
        {
          "output_type": "stream",
          "name": "stdout",
          "text": [
            "Max difference:  57\n",
            "Avg. difference:  8.56\n"
          ]
        }
      ]
    },
    {
      "cell_type": "code",
      "metadata": {
        "id": "2XK6iSiqJGNc",
        "colab": {
          "base_uri": "https://localhost:8080/"
        },
        "outputId": "44a439bd-9699-4f06-fa64-1f70fb262c38"
      },
      "source": [
        "print(\"%.3f %%\" % (100 * max(diff) / np.average(tag_counts_train)))"
      ],
      "id": "2XK6iSiqJGNc",
      "execution_count": 57,
      "outputs": [
        {
          "output_type": "stream",
          "name": "stdout",
          "text": [
            "93.000 %\n"
          ]
        }
      ]
    }
  ]
}