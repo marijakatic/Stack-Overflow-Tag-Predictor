{
 "cells": [
  {
   "cell_type": "markdown",
   "id": "3QCJlp4yTNmQ",
   "metadata": {
    "id": "3QCJlp4yTNmQ"
   },
   "source": [
    "# Feature selection\n"
   ]
  },
  {
   "cell_type": "markdown",
   "id": "MbyCupCjB3AF",
   "metadata": {
    "id": "MbyCupCjB3AF"
   },
   "source": [
    "## Necessary downloads and library imports"
   ]
  },
  {
   "cell_type": "code",
   "execution_count": 1,
   "id": "A-f7eocpTH9U",
   "metadata": {
    "colab": {
     "base_uri": "https://localhost:8080/"
    },
    "id": "A-f7eocpTH9U",
    "outputId": "ff375538-a434-4208-d316-c9596f55677d"
   },
   "outputs": [
    {
     "name": "stdout",
     "output_type": "stream",
     "text": [
      "Drive already mounted at /content/drive; to attempt to forcibly remount, call drive.mount(\"/content/drive\", force_remount=True).\n"
     ]
    }
   ],
   "source": [
    "from google.colab import drive\n",
    "drive.mount('/content/drive')"
   ]
  },
  {
   "cell_type": "code",
   "execution_count": 2,
   "id": "syaBWbsVvpXm",
   "metadata": {
    "id": "syaBWbsVvpXm"
   },
   "outputs": [],
   "source": [
    "project_path = '/content/drive/My Drive/Colab Notebooks/MATF_ML_project/'"
   ]
  },
  {
   "cell_type": "code",
   "execution_count": 3,
   "id": "IkNA7YsZUDGL",
   "metadata": {
    "colab": {
     "base_uri": "https://localhost:8080/"
    },
    "id": "IkNA7YsZUDGL",
    "outputId": "c3b21371-4fcd-430b-a945-ef7307763712"
   },
   "outputs": [
    {
     "name": "stdout",
     "output_type": "stream",
     "text": [
      "Requirement already satisfied: scikit-multilearn in /usr/local/lib/python3.7/dist-packages (0.2.0)\n",
      "Requirement already satisfied: ipynb in /usr/local/lib/python3.7/dist-packages (0.5.1)\n"
     ]
    }
   ],
   "source": [
    "!pip install scikit-multilearn\n",
    "!pip install ipynb"
   ]
  },
  {
   "cell_type": "code",
   "execution_count": 4,
   "id": "984efaeb",
   "metadata": {
    "id": "984efaeb"
   },
   "outputs": [],
   "source": [
    "from ipynb.fs.full.utility import *\n",
    "\n",
    "import pandas as pd\n",
    "import numpy as np\n",
    "import matplotlib.pyplot as plt\n",
    "\n",
    "import pickle\n",
    "\n",
    "import skmultilearn\n",
    "from skmultilearn.model_selection import iterative_train_test_split\n",
    "\n",
    "from scipy import sparse\n",
    "\n",
    "from sklearn import feature_extraction\n",
    "from sklearn.model_selection import train_test_split\n",
    "from sklearn.feature_extraction.text import CountVectorizer\n",
    "from sklearn.feature_extraction.text import TfidfVectorizer"
   ]
  },
  {
   "cell_type": "markdown",
   "id": "c2TPBaT2LlBc",
   "metadata": {
    "id": "c2TPBaT2LlBc"
   },
   "source": [
    "## Load data"
   ]
  },
  {
   "cell_type": "code",
   "execution_count": 5,
   "id": "ffd0aaee",
   "metadata": {
    "id": "ffd0aaee"
   },
   "outputs": [],
   "source": [
    "file = open(project_path + \"data/data_preprocessed.csv\", \"rb\")\n",
    "data = pickle.load(file)\n",
    "file.close()"
   ]
  },
  {
   "cell_type": "code",
   "execution_count": 6,
   "id": "sSQOqkPBA--9",
   "metadata": {
    "id": "sSQOqkPBA--9"
   },
   "outputs": [],
   "source": [
    "file = open(project_path + \"data/tags_preprocessed.csv\", \"rb\")\n",
    "tags_preprocessed = pickle.load(file)\n",
    "file.close()"
   ]
  },
  {
   "cell_type": "code",
   "execution_count": 7,
   "id": "093622da",
   "metadata": {
    "colab": {
     "base_uri": "https://localhost:8080/",
     "height": 206
    },
    "id": "093622da",
    "outputId": "1cba2a7c-cd40-41eb-829d-0f2b146ffd8c"
   },
   "outputs": [
    {
     "data": {
      "text/html": [
       "<div>\n",
       "<style scoped>\n",
       "    .dataframe tbody tr th:only-of-type {\n",
       "        vertical-align: middle;\n",
       "    }\n",
       "\n",
       "    .dataframe tbody tr th {\n",
       "        vertical-align: top;\n",
       "    }\n",
       "\n",
       "    .dataframe thead th {\n",
       "        text-align: right;\n",
       "    }\n",
       "</style>\n",
       "<table border=\"1\" class=\"dataframe\">\n",
       "  <thead>\n",
       "    <tr style=\"text-align: right;\">\n",
       "      <th></th>\n",
       "      <th>Id</th>\n",
       "      <th>Title</th>\n",
       "      <th>Body</th>\n",
       "      <th>Tags</th>\n",
       "    </tr>\n",
       "  </thead>\n",
       "  <tbody>\n",
       "    <tr>\n",
       "      <th>0</th>\n",
       "      <td>1</td>\n",
       "      <td>[how, check, upload, file, imag, without, mime...</td>\n",
       "      <td>[like, check, upload, file, imag, file, e, .g,...</td>\n",
       "      <td>[php]</td>\n",
       "    </tr>\n",
       "    <tr>\n",
       "      <th>1</th>\n",
       "      <td>2</td>\n",
       "      <td>[how, prevent, firefox, close, press, ctrl-w]</td>\n",
       "      <td>[favorit, editor, vim, regular, use, ctrl-w, e...</td>\n",
       "      <td>[firefox]</td>\n",
       "    </tr>\n",
       "    <tr>\n",
       "      <th>2</th>\n",
       "      <td>3</td>\n",
       "      <td>[r, error, invalid, type, list, variabl]</td>\n",
       "      <td>[import, matlab, file, construct, data, frame,...</td>\n",
       "      <td>[r]</td>\n",
       "    </tr>\n",
       "    <tr>\n",
       "      <th>3</th>\n",
       "      <td>4</td>\n",
       "      <td>[how, replac, special, charact, url]</td>\n",
       "      <td>[probabl, simpl, simpli, cannot, find, answer,...</td>\n",
       "      <td>[c#]</td>\n",
       "    </tr>\n",
       "    <tr>\n",
       "      <th>4</th>\n",
       "      <td>5</td>\n",
       "      <td>[how, modifi, whoi, contact, detail]</td>\n",
       "      <td>[function, modifi, mcontact, file_get_cont, ui...</td>\n",
       "      <td>[php, api]</td>\n",
       "    </tr>\n",
       "  </tbody>\n",
       "</table>\n",
       "</div>"
      ],
      "text/plain": [
       "   Id  ...        Tags\n",
       "0   1  ...       [php]\n",
       "1   2  ...   [firefox]\n",
       "2   3  ...         [r]\n",
       "3   4  ...        [c#]\n",
       "4   5  ...  [php, api]\n",
       "\n",
       "[5 rows x 4 columns]"
      ]
     },
     "execution_count": 7,
     "metadata": {},
     "output_type": "execute_result"
    }
   ],
   "source": [
    "data.head()"
   ]
  },
  {
   "cell_type": "code",
   "execution_count": 8,
   "id": "7387134c",
   "metadata": {
    "colab": {
     "base_uri": "https://localhost:8080/"
    },
    "id": "7387134c",
    "outputId": "8806a88d-1219-4ae5-8491-db8d1635a5fd"
   },
   "outputs": [
    {
     "data": {
      "text/plain": [
       "(7628, 4)"
      ]
     },
     "execution_count": 8,
     "metadata": {},
     "output_type": "execute_result"
    }
   ],
   "source": [
    "data.shape"
   ]
  },
  {
   "cell_type": "code",
   "execution_count": 9,
   "id": "c0b57903",
   "metadata": {
    "id": "c0b57903"
   },
   "outputs": [],
   "source": [
    "X = data[['Title', 'Body']]\n",
    "y = data['Tags']"
   ]
  },
  {
   "cell_type": "code",
   "execution_count": 10,
   "id": "r6MZzCbIBEyS",
   "metadata": {
    "colab": {
     "base_uri": "https://localhost:8080/"
    },
    "id": "r6MZzCbIBEyS",
    "outputId": "a51a8c25-a463-4bbb-faaf-458c6b8291cb"
   },
   "outputs": [
    {
     "data": {
      "text/plain": [
       "0         [php]\n",
       "1     [firefox]\n",
       "2           [r]\n",
       "3          [c#]\n",
       "4    [php, api]\n",
       "Name: Tags, dtype: object"
      ]
     },
     "execution_count": 10,
     "metadata": {},
     "output_type": "execute_result"
    }
   ],
   "source": [
    "tags_preprocessed.head()"
   ]
  },
  {
   "cell_type": "markdown",
   "id": "VEtwaHy888uM",
   "metadata": {
    "id": "VEtwaHy888uM"
   },
   "source": [
    "## Tag vectorization"
   ]
  },
  {
   "cell_type": "code",
   "execution_count": 12,
   "id": "LzuIsysWXk3L",
   "metadata": {
    "id": "LzuIsysWXk3L"
   },
   "outputs": [],
   "source": [
    "def tokenizer_none (x):\n",
    "    return x\n",
    "    \n",
    "def preprocessor_none (x):\n",
    "    return x"
   ]
  },
  {
   "cell_type": "code",
   "execution_count": 13,
   "id": "MlEZ9CJV88uN",
   "metadata": {
    "colab": {
     "base_uri": "https://localhost:8080/"
    },
    "id": "MlEZ9CJV88uN",
    "outputId": "be806f5c-3aa7-4c2c-ce9d-2e4cc44c3ada"
   },
   "outputs": [
    {
     "data": {
      "text/plain": [
       "CountVectorizer(analyzer='word', binary=False, decode_error='strict',\n",
       "                dtype=<class 'numpy.int64'>, encoding='utf-8', input='content',\n",
       "                lowercase=True, max_df=1.0, max_features=None, min_df=1,\n",
       "                ngram_range=(1, 1),\n",
       "                preprocessor=<function preprocessor_none at 0x7ff89fb0de60>,\n",
       "                stop_words=None, strip_accents=None, token_pattern=None,\n",
       "                tokenizer=<function tokenizer_none at 0x7ff8a1d888c0>,\n",
       "                vocabulary=None)"
      ]
     },
     "execution_count": 13,
     "metadata": {},
     "output_type": "execute_result"
    }
   ],
   "source": [
    "tags_vectorizer = CountVectorizer(analyzer='word', tokenizer=tokenizer_none, \n",
    "                                    preprocessor=preprocessor_none, token_pattern=None)\n",
    "tags_vectorizer.fit(y)"
   ]
  },
  {
   "cell_type": "code",
   "execution_count": 14,
   "id": "vAT1wv5488uR",
   "metadata": {
    "id": "vAT1wv5488uR"
   },
   "outputs": [],
   "source": [
    "y_vectors = tags_vectorizer.transform(y)"
   ]
  },
  {
   "cell_type": "code",
   "execution_count": 15,
   "id": "lHmc3IQV88uR",
   "metadata": {
    "colab": {
     "base_uri": "https://localhost:8080/"
    },
    "id": "lHmc3IQV88uR",
    "outputId": "14f9c814-898e-42d9-8490-ea4436b44650"
   },
   "outputs": [
    {
     "data": {
      "text/plain": [
       "<7628x100 sparse matrix of type '<class 'numpy.int64'>'\n",
       "\twith 12148 stored elements in Compressed Sparse Row format>"
      ]
     },
     "execution_count": 15,
     "metadata": {},
     "output_type": "execute_result"
    }
   ],
   "source": [
    "y_vectors"
   ]
  },
  {
   "cell_type": "code",
   "execution_count": 16,
   "id": "JY_srQwq88uU",
   "metadata": {
    "colab": {
     "base_uri": "https://localhost:8080/"
    },
    "id": "JY_srQwq88uU",
    "outputId": "8233faac-6072-472c-9008-dfb28aa5981c"
   },
   "outputs": [
    {
     "data": {
      "text/plain": [
       "(7628, 100)"
      ]
     },
     "execution_count": 16,
     "metadata": {},
     "output_type": "execute_result"
    }
   ],
   "source": [
    "y_vectors.shape"
   ]
  },
  {
   "cell_type": "markdown",
   "id": "447yJMSc_hxr",
   "metadata": {
    "id": "447yJMSc_hxr"
   },
   "source": [
    "## Train-Test split"
   ]
  },
  {
   "cell_type": "code",
   "execution_count": 17,
   "id": "oowEmjNB_Djf",
   "metadata": {
    "id": "oowEmjNB_Djf"
   },
   "outputs": [],
   "source": [
    "X_train, y_train, X_test, y_test = iterative_train_test_split(X.to_numpy(), y_vectors.toarray(), \n",
    "                                                              test_size = 0.2)"
   ]
  },
  {
   "cell_type": "code",
   "execution_count": 18,
   "id": "8PferKslK1HS",
   "metadata": {
    "colab": {
     "base_uri": "https://localhost:8080/"
    },
    "id": "8PferKslK1HS",
    "outputId": "2269e29e-84a6-4894-86b3-cf08e2575bc9"
   },
   "outputs": [
    {
     "data": {
      "text/plain": [
       "((6053, 2), (6053, 100), (1575, 2), (1575, 100))"
      ]
     },
     "execution_count": 18,
     "metadata": {},
     "output_type": "execute_result"
    }
   ],
   "source": [
    "X_train.shape, y_train.shape, X_test.shape, y_test.shape"
   ]
  },
  {
   "cell_type": "markdown",
   "id": "xqVzJdUchED5",
   "metadata": {
    "id": "xqVzJdUchED5"
   },
   "source": [
    "## Text Vectorization"
   ]
  },
  {
   "cell_type": "markdown",
   "id": "JWFjuMFLgumr",
   "metadata": {
    "id": "JWFjuMFLgumr"
   },
   "source": [
    "For the text vectorization we choose **Tf-Idf** and **Bag-of-Words** vectorizations. \n",
    "\n",
    "**How to combine title and body?** The title seems to be an important feature because it is concise and contains the most important information about question. So we will try to exploit it wisely.\n",
    "\n",
    "---------\n",
    "\n",
    "We examined two approaches:\n",
    "\n",
    "1. **Vectorize -> Concatenate** (My idea)\n",
    "\n",
    "  Vectorize title (0-1 Bag-of-Words), Vectorize body (Tf-Idf) -> Concatenate vectors\n",
    "\n",
    "  It seems that the frequency is not important, but only the appearance of the words in the title (for example, you probably won't repeat \"in c#\" many times in question, but this token is very important for predicting the 'c#' tag).\n",
    "  On the other hand, it is useful to \"extract context\" from the body because of tags such as 'design' that don't appear explicitly in the text. So we will use Tf-Idf (or some better approach in the future :D)\n",
    "\n",
    "\n",
    "2. **Concatenate -> Vectorize** (Idea taken from blog <a href=\"https://medium.datadriveninvestor.com/predicting-tags-for-the-questions-in-stack-overflow-29438367261e\">Predicting Tags for the Questions in Stack Overflow</a>)\n",
    "\n",
    "  Concatenate body and 3 times repeated title -> Vectorize that text\n",
    "\n",
    "----------\n"
   ]
  },
  {
   "cell_type": "code",
   "execution_count": 19,
   "id": "SzuvsvkdYSau",
   "metadata": {
    "id": "SzuvsvkdYSau"
   },
   "outputs": [],
   "source": [
    "X_train_titles = X_train[:, 0]\n",
    "X_test_titles = X_test[:, 0]\n",
    "X_train_bodies = X_train[:, 1]\n",
    "X_test_bodies = X_test[:, 1]"
   ]
  },
  {
   "cell_type": "markdown",
   "id": "XYHI0BZ7-W0S",
   "metadata": {
    "id": "XYHI0BZ7-W0S"
   },
   "source": [
    "### 1. Vectorize -> Concatenate"
   ]
  },
  {
   "cell_type": "markdown",
   "id": "0888588f",
   "metadata": {
    "id": "0888588f"
   },
   "source": [
    "#### Title vectorization"
   ]
  },
  {
   "cell_type": "code",
   "execution_count": 20,
   "id": "bd2d4854",
   "metadata": {
    "colab": {
     "base_uri": "https://localhost:8080/"
    },
    "id": "bd2d4854",
    "outputId": "e4c6c3b2-a106-4f4a-b0f5-f8d0cfe98f5f"
   },
   "outputs": [
    {
     "data": {
      "text/plain": [
       "CountVectorizer(analyzer='word', binary=True, decode_error='strict',\n",
       "                dtype=<class 'numpy.int64'>, encoding='utf-8', input='content',\n",
       "                lowercase=True, max_df=1.0, max_features=None, min_df=1,\n",
       "                ngram_range=(1, 1),\n",
       "                preprocessor=<function preprocessor_none at 0x7ff89fb0de60>,\n",
       "                stop_words=None, strip_accents=None, token_pattern=None,\n",
       "                tokenizer=<function tokenizer_none at 0x7ff8a1d888c0>,\n",
       "                vocabulary=None)"
      ]
     },
     "execution_count": 20,
     "metadata": {},
     "output_type": "execute_result"
    }
   ],
   "source": [
    "title_vectorizer = CountVectorizer(analyzer='word', binary=True, tokenizer=tokenizer_none, \n",
    "                                    preprocessor=preprocessor_none, token_pattern=None, \n",
    "                                    min_df=1)\n",
    "title_vectorizer.fit(X_train_titles)"
   ]
  },
  {
   "cell_type": "code",
   "execution_count": 21,
   "id": "ed2eb958",
   "metadata": {
    "id": "ed2eb958"
   },
   "outputs": [],
   "source": [
    "title_vectors_train = title_vectorizer.transform(X_train_titles)\n",
    "title_vectors_test = title_vectorizer.transform(X_test_titles)"
   ]
  },
  {
   "cell_type": "code",
   "execution_count": 22,
   "id": "afbabdfd",
   "metadata": {
    "colab": {
     "base_uri": "https://localhost:8080/"
    },
    "id": "afbabdfd",
    "outputId": "96b6d217-baef-49fc-a2ce-d6aaebb70051"
   },
   "outputs": [
    {
     "data": {
      "text/plain": [
       "((6053, 5581), (1575, 5581))"
      ]
     },
     "execution_count": 22,
     "metadata": {},
     "output_type": "execute_result"
    }
   ],
   "source": [
    "title_vectors_train.shape, title_vectors_test.shape"
   ]
  },
  {
   "cell_type": "code",
   "execution_count": 23,
   "id": "e612bf05",
   "metadata": {
    "colab": {
     "base_uri": "https://localhost:8080/"
    },
    "id": "e612bf05",
    "outputId": "517651d5-61d2-49a0-ebec-bd7d7e5b9b81"
   },
   "outputs": [
    {
     "name": "stdout",
     "output_type": "stream",
     "text": [
      "(array([0, 1]), array([33746225,    35568]))\n",
      "(array([0, 1]), array([8781555,    8520]))\n"
     ]
    }
   ],
   "source": [
    "print(np.unique(title_vectors_train.toarray(), return_counts=True))\n",
    "print(np.unique(title_vectors_test.toarray(), return_counts=True))"
   ]
  },
  {
   "cell_type": "markdown",
   "id": "ad04a72b",
   "metadata": {
    "id": "ad04a72b"
   },
   "source": [
    "#### Body vectorization"
   ]
  },
  {
   "cell_type": "code",
   "execution_count": 24,
   "id": "dc4460a7",
   "metadata": {
    "colab": {
     "base_uri": "https://localhost:8080/"
    },
    "id": "dc4460a7",
    "outputId": "57edd387-4156-406c-8d6c-3a9215b5b46a"
   },
   "outputs": [
    {
     "data": {
      "text/plain": [
       "TfidfVectorizer(analyzer='word', binary=False, decode_error='strict',\n",
       "                dtype=<class 'numpy.float64'>, encoding='utf-8',\n",
       "                input='content', lowercase=True, max_df=1.0, max_features=None,\n",
       "                min_df=0.0003, ngram_range=(1, 1), norm='l2',\n",
       "                preprocessor=<function preprocessor_none at 0x7ff89fb0de60>,\n",
       "                smooth_idf=True, stop_words=None, strip_accents=None,\n",
       "                sublinear_tf=False, token_pattern=None,\n",
       "                tokenizer=<function tokenizer_none at 0x7ff8a1d888c0>,\n",
       "                use_idf=True, vocabulary=None)"
      ]
     },
     "execution_count": 24,
     "metadata": {},
     "output_type": "execute_result"
    }
   ],
   "source": [
    "body_vectorizer = TfidfVectorizer(analyzer='word', tokenizer=tokenizer_none, \n",
    "                                    preprocessor=preprocessor_none, token_pattern=None,\n",
    "                                    min_df=0.0003)\n",
    "body_vectorizer.fit(X_train_bodies)"
   ]
  },
  {
   "cell_type": "code",
   "execution_count": 25,
   "id": "8341ed52",
   "metadata": {
    "id": "8341ed52"
   },
   "outputs": [],
   "source": [
    "body_vectors_train = body_vectorizer.transform(X_train_bodies)\n",
    "body_vectors_test = body_vectorizer.transform(X_test_bodies)"
   ]
  },
  {
   "cell_type": "code",
   "execution_count": 26,
   "id": "201d5a0d",
   "metadata": {
    "colab": {
     "base_uri": "https://localhost:8080/"
    },
    "id": "201d5a0d",
    "outputId": "e67bb303-afaa-4e1c-b2d6-9acca4f04b74"
   },
   "outputs": [
    {
     "data": {
      "text/plain": [
       "((6053, 11819), (1575, 11819))"
      ]
     },
     "execution_count": 26,
     "metadata": {},
     "output_type": "execute_result"
    }
   ],
   "source": [
    "body_vectors_train.shape, body_vectors_test.shape"
   ]
  },
  {
   "cell_type": "markdown",
   "id": "ukrlZpz_BmkQ",
   "metadata": {
    "id": "ukrlZpz_BmkQ"
   },
   "source": [
    "#### Concatenate vectors"
   ]
  },
  {
   "cell_type": "code",
   "execution_count": 27,
   "id": "dcd20ea3",
   "metadata": {
    "id": "dcd20ea3"
   },
   "outputs": [],
   "source": [
    "X_train_concat = sparse.hstack([body_vectors_train, title_vectors_train])\n",
    "X_test_concat = sparse.hstack([body_vectors_test, title_vectors_test])"
   ]
  },
  {
   "cell_type": "code",
   "execution_count": 28,
   "id": "3vmTuvF19bRf",
   "metadata": {
    "colab": {
     "base_uri": "https://localhost:8080/"
    },
    "id": "3vmTuvF19bRf",
    "outputId": "c273e69f-5b0f-4da4-9df1-8c94c5e20c35"
   },
   "outputs": [
    {
     "data": {
      "text/plain": [
       "((6053, 17400), (1575, 17400))"
      ]
     },
     "execution_count": 28,
     "metadata": {},
     "output_type": "execute_result"
    }
   ],
   "source": [
    "X_train_concat.shape, X_test_concat.shape"
   ]
  },
  {
   "cell_type": "markdown",
   "id": "SGJDdOVzENyY",
   "metadata": {
    "id": "SGJDdOVzENyY"
   },
   "source": [
    "#### Save data"
   ]
  },
  {
   "cell_type": "code",
   "execution_count": 29,
   "id": "odEcqLfGENya",
   "metadata": {
    "id": "odEcqLfGENya"
   },
   "outputs": [],
   "source": [
    "sparse.save_npz(project_path + \"data/X_train_vect_concat.npz\", sparse.coo_matrix(X_train_concat))\n",
    "sparse.save_npz(project_path + \"data/y_train_vect_concat.npz\", sparse.coo_matrix(y_train))\n",
    "sparse.save_npz(project_path + \"data/X_test_vect_concat.npz\", sparse.coo_matrix(X_test_concat))\n",
    "sparse.save_npz(project_path + \"data/y_test_vect_concat.npz\", sparse.coo_matrix(y_test))"
   ]
  },
  {
   "cell_type": "markdown",
   "id": "z9-b-RPq_HtQ",
   "metadata": {
    "id": "z9-b-RPq_HtQ"
   },
   "source": [
    "### 2. Concatenate -> Vectorize"
   ]
  },
  {
   "cell_type": "markdown",
   "id": "J1Byh5pC1JMg",
   "metadata": {
    "id": "J1Byh5pC1JMg"
   },
   "source": [
    "#### Question vectorisation"
   ]
  },
  {
   "cell_type": "code",
   "execution_count": 30,
   "id": "bM4n9qjv4hj8",
   "metadata": {
    "id": "bM4n9qjv4hj8"
   },
   "outputs": [],
   "source": [
    "X_train_question = X_train_bodies + 3 * X_train_titles\n",
    "X_test_question = X_test_bodies + 3 * X_test_titles"
   ]
  },
  {
   "cell_type": "code",
   "execution_count": 31,
   "id": "5CENjpah1JA-",
   "metadata": {
    "colab": {
     "base_uri": "https://localhost:8080/"
    },
    "id": "5CENjpah1JA-",
    "outputId": "8480de69-96a3-46c9-9779-4a3c77dfebd2"
   },
   "outputs": [
    {
     "data": {
      "text/plain": [
       "TfidfVectorizer(analyzer='word', binary=False, decode_error='strict',\n",
       "                dtype=<class 'numpy.float64'>, encoding='utf-8',\n",
       "                input='content', lowercase=True, max_df=1.0, max_features=None,\n",
       "                min_df=0.0003, ngram_range=(1, 1), norm='l2',\n",
       "                preprocessor=<function preprocessor_none at 0x7ff89fb0de60>,\n",
       "                smooth_idf=True, stop_words=None, strip_accents=None,\n",
       "                sublinear_tf=False, token_pattern=None,\n",
       "                tokenizer=<function tokenizer_none at 0x7ff8a1d888c0>,\n",
       "                use_idf=True, vocabulary=None)"
      ]
     },
     "execution_count": 31,
     "metadata": {},
     "output_type": "execute_result"
    }
   ],
   "source": [
    "question_vectorizer = TfidfVectorizer(analyzer='word', tokenizer=tokenizer_none, \n",
    "                                    preprocessor=preprocessor_none, token_pattern=None,\n",
    "                                    min_df=0.0003)\n",
    "question_vectorizer.fit(X_train_question)"
   ]
  },
  {
   "cell_type": "code",
   "execution_count": 32,
   "id": "F13mCMYY1I_B",
   "metadata": {
    "id": "F13mCMYY1I_B"
   },
   "outputs": [],
   "source": [
    "question_train_vectors = question_vectorizer.transform(X_train_question)\n",
    "question_test_vectors = question_vectorizer.transform(X_test_question)"
   ]
  },
  {
   "cell_type": "code",
   "execution_count": 33,
   "id": "rSL1TI8B1I9G",
   "metadata": {
    "colab": {
     "base_uri": "https://localhost:8080/"
    },
    "id": "rSL1TI8B1I9G",
    "outputId": "6a00ac5c-717d-48b1-e715-2ecddda6e75e"
   },
   "outputs": [
    {
     "data": {
      "text/plain": [
       "((6053, 11992), (1575, 11992))"
      ]
     },
     "execution_count": 33,
     "metadata": {},
     "output_type": "execute_result"
    }
   ],
   "source": [
    "question_train_vectors.shape, question_test_vectors.shape"
   ]
  },
  {
   "cell_type": "markdown",
   "id": "z9BZDD-WEagh",
   "metadata": {
    "id": "z9BZDD-WEagh"
   },
   "source": [
    "#### Save data"
   ]
  },
  {
   "cell_type": "code",
   "execution_count": 34,
   "id": "3M-VFOzjEagh",
   "metadata": {
    "id": "3M-VFOzjEagh"
   },
   "outputs": [],
   "source": [
    "sparse.save_npz(project_path + \"data/X_train_concat_vect.npz\", sparse.coo_matrix(question_train_vectors))\n",
    "sparse.save_npz(project_path + \"data/y_train_concat_vect.npz\", sparse.coo_matrix(y_train))\n",
    "sparse.save_npz(project_path + \"data/X_test_concat_vect.npz\", sparse.coo_matrix(question_test_vectors))\n",
    "sparse.save_npz(project_path + \"data/y_test_concat_vect.npz\", sparse.coo_matrix(y_test))"
   ]
  },
  {
   "cell_type": "markdown",
   "id": "0I1IqWjt5HtX",
   "metadata": {
    "id": "0I1IqWjt5HtX"
   },
   "source": [
    "# The Heuristic (Count Tags in text)"
   ]
  },
  {
   "cell_type": "markdown",
   "id": "adXrD2xYLvLz",
   "metadata": {
    "id": "adXrD2xYLvLz"
   },
   "source": [
    "Tags such as 'c#', 'java', 'android', file extensions, etc. usually appear in the text. \n",
    "So our baseline (heuristic) approach will be counting tag appearances in the text."
   ]
  },
  {
   "cell_type": "code",
   "execution_count": 35,
   "id": "MrBwARVl5QVo",
   "metadata": {
    "colab": {
     "base_uri": "https://localhost:8080/"
    },
    "id": "MrBwARVl5QVo",
    "outputId": "0f2b9fd6-86b1-42bf-890d-cd987067952f"
   },
   "outputs": [
    {
     "data": {
      "text/plain": [
       "CountVectorizer(analyzer='word', binary=False, decode_error='strict',\n",
       "                dtype=<class 'numpy.int64'>, encoding='utf-8', input='content',\n",
       "                lowercase=True, max_df=1.0, max_features=None, min_df=1,\n",
       "                ngram_range=(1, 1),\n",
       "                preprocessor=<function preprocessor_none at 0x7ff89fb0de60>,\n",
       "                stop_words=None, strip_accents=None, token_pattern=None,\n",
       "                tokenizer=<function tokenizer_none at 0x7ff8a1d888c0>,\n",
       "                vocabulary=None)"
      ]
     },
     "execution_count": 35,
     "metadata": {},
     "output_type": "execute_result"
    }
   ],
   "source": [
    "tag_counter = CountVectorizer(analyzer='word', tokenizer=tokenizer_none, \n",
    "                                    preprocessor=preprocessor_none, token_pattern=None)\n",
    "tag_counter.fit(tags_preprocessed)"
   ]
  },
  {
   "cell_type": "code",
   "execution_count": 36,
   "id": "_tRcJ-ac5QRP",
   "metadata": {
    "id": "_tRcJ-ac5QRP"
   },
   "outputs": [],
   "source": [
    "tags_in_question = tag_counter.transform(X['Title'] + X['Body'])"
   ]
  },
  {
   "cell_type": "code",
   "execution_count": 37,
   "id": "R4YQi27G5QOp",
   "metadata": {
    "colab": {
     "base_uri": "https://localhost:8080/"
    },
    "id": "R4YQi27G5QOp",
    "outputId": "1fa8c457-a7f5-450c-dd1d-c0cf768105e6"
   },
   "outputs": [
    {
     "name": "stdout",
     "output_type": "stream",
     "text": [
      "Average number of tags predicted from a question: 2.183\n",
      "Max number of tags predicted from a question: 13\n"
     ]
    }
   ],
   "source": [
    "tag_counts = [sum(vect>0) for vect in tags_in_question.toarray()]\n",
    "print(\"Average number of tags predicted from a question: %.3f\" % (sum(tag_counts)/len(tag_counts)))\n",
    "print(\"Max number of tags predicted from a question:\", max(tag_counts))"
   ]
  },
  {
   "cell_type": "code",
   "execution_count": 38,
   "id": "WUBZY5NoE0yo",
   "metadata": {
    "id": "WUBZY5NoE0yo"
   },
   "outputs": [],
   "source": [
    "predicated = [[1 if c > 0 else 0 for c in vect] for vect in tags_in_question.toarray()]"
   ]
  },
  {
   "cell_type": "code",
   "execution_count": 39,
   "id": "INeM8LxtJVkY",
   "metadata": {
    "colab": {
     "base_uri": "https://localhost:8080/"
    },
    "id": "INeM8LxtJVkY",
    "outputId": "ebad17b8-9e6f-4c49-d33e-239fd659b751"
   },
   "outputs": [
    {
     "name": "stdout",
     "output_type": "stream",
     "text": [
      "Hamming Score ('Accuracy' by Keras):\t97.852\n",
      "Hamming Score (= 1 - Hamming Loss):\t97.852\n",
      "Exact match ratio (Subset Accuracy):\t12.389\n",
      "F1-Score Micro Averaged:\t\t43.101\n",
      "F1-Score Macro Averaged:\t\t40.638\n",
      "F1-Score Weighted Average:\t\t48.195\n",
      "Precision Score Micro Averaged:\t\t37.270\n",
      "Recall Score Micro Averaged:\t\t51.095\n"
     ]
    }
   ],
   "source": [
    "print_metrics(y_vectors.toarray(), predicated)"
   ]
  },
  {
   "cell_type": "markdown",
   "id": "ys_aiReVOotO",
   "metadata": {
    "id": "ys_aiReVOotO"
   },
   "source": [
    "Surprisingly good results!"
   ]
  },
  {
   "cell_type": "markdown",
   "id": "TY6jiljwLuXP",
   "metadata": {
    "id": "TY6jiljwLuXP"
   },
   "source": [
    "# Save vectorizers"
   ]
  },
  {
   "cell_type": "code",
   "execution_count": 40,
   "id": "Kz1hgMo6L7i9",
   "metadata": {
    "id": "Kz1hgMo6L7i9"
   },
   "outputs": [],
   "source": [
    "with open(project_path + 'models/vectorizer_tag.pk', 'wb') as fin:\n",
    "    pickle.dump(tags_vectorizer, fin)\n",
    "with open(project_path + 'models/vectorizer_title.pk', 'wb') as fin:\n",
    "    pickle.dump(title_vectorizer, fin)\n",
    "with open(project_path + 'models/vectorizer_body.pk', 'wb') as fin:\n",
    "    pickle.dump(body_vectorizer, fin)\n",
    "with open(project_path + 'models/vectorizer_question.pk', 'wb') as fin:\n",
    "    pickle.dump(question_vectorizer, fin)\n",
    "with open(project_path + 'models/vectorizer_heuristic_tag_counter.pk', 'wb') as fin:\n",
    "    pickle.dump(tag_counter, fin)"
   ]
  },
  {
   "cell_type": "markdown",
   "id": "4571dfbe",
   "metadata": {
    "id": "4571dfbe"
   },
   "source": [
    "# Experiment: Train-Test Split - Stratification problem"
   ]
  },
  {
   "cell_type": "markdown",
   "id": "FT3dwAABQBy9",
   "metadata": {
    "id": "FT3dwAABQBy9"
   },
   "source": [
    "In <a href=\"http://scikit.ml/stratification.html\">Multi-label data stratification - Scikit-Multilearn</a> it is illustrated how `skmultilearn.model_selection.iterative_train_test_split()`, which is adapted to the problem of multi-label classification, preserves the ratio of counts of label combinations in train and test sets. We are curious to illustrate how it preserves the counts of each label.\n",
    "\n"
   ]
  },
  {
   "cell_type": "markdown",
   "id": "784ba934",
   "metadata": {
    "id": "784ba934"
   },
   "source": [
    "#### Testing scikit-multilearn method for train-test split (with stratification)"
   ]
  },
  {
   "cell_type": "code",
   "execution_count": 41,
   "id": "hTyXJkgFjjmV",
   "metadata": {
    "id": "hTyXJkgFjjmV"
   },
   "outputs": [],
   "source": [
    "X_train, y_train, X_test, y_test = iterative_train_test_split(X.to_numpy(), y_vectors.toarray(), \n",
    "                                                              test_size = 0.5)"
   ]
  },
  {
   "cell_type": "code",
   "execution_count": 42,
   "id": "3b08847f",
   "metadata": {
    "id": "3b08847f"
   },
   "outputs": [],
   "source": [
    "tag_counts_train = sum(y_train)\n",
    "tag_counts_test = sum(y_test)"
   ]
  },
  {
   "cell_type": "code",
   "execution_count": 43,
   "id": "64f84171",
   "metadata": {
    "colab": {
     "base_uri": "https://localhost:8080/"
    },
    "id": "64f84171",
    "outputId": "be11c19d-26a0-4186-878e-55c2e513edda"
   },
   "outputs": [
    {
     "name": "stdout",
     "output_type": "stream",
     "text": [
      "[ 20 151  33  53  31 259  22  21  19  44 154  51  26  27  92 389 167  21\n",
      "  16  22  23  20 113  57  31  36  25  27  19  20  40  17  18  16  30  21\n",
      "  20  23  25  22 140  32  19  24 121  26 150 352 312 252  18  31  17  33\n",
      " 104  16  38  19 139  38 102  28  40  16  38  18 350 150  25  24  21  43\n",
      "  71 103  36  19  26  23 128  65  16  27  16  29  17  20  27  37  22  30\n",
      "  29  25  88  40  17  26  24  57  41  59]\n"
     ]
    }
   ],
   "source": [
    "print(tag_counts_train)"
   ]
  },
  {
   "cell_type": "code",
   "execution_count": 44,
   "id": "fb07016d",
   "metadata": {
    "colab": {
     "base_uri": "https://localhost:8080/"
    },
    "id": "fb07016d",
    "outputId": "25aed748-0540-4084-9b16-44f8f791b97e"
   },
   "outputs": [
    {
     "name": "stdout",
     "output_type": "stream",
     "text": [
      "[ 20 151  32  54  30 259  22  20  19  44 155  52  27  28  92 389 166  20\n",
      "  16  22  24  20 113  56  32  36  25  28  20  21  40  16  19  16  30  21\n",
      "  20  22  24  21 140  32  19  25 121  25 150 351 312 252  18  30  16  32\n",
      " 104  17  37  14 139  37 102  29  40  17  38  17 351 150  25  23  20  43\n",
      "  70 104  37  19  26  22 128  65  20  27  17  30  17  19  26  37  22  30\n",
      "  29  24  87  40  18  29  25  57  42  58]\n"
     ]
    }
   ],
   "source": [
    "print(tag_counts_test)"
   ]
  },
  {
   "cell_type": "code",
   "execution_count": 45,
   "id": "f03a0b89",
   "metadata": {
    "colab": {
     "base_uri": "https://localhost:8080/"
    },
    "id": "f03a0b89",
    "outputId": "5c41551a-9c19-4b15-d797-c2e12053c1d4"
   },
   "outputs": [
    {
     "name": "stdout",
     "output_type": "stream",
     "text": [
      "[(20, 20), (151, 151), (33, 32), (53, 54), (31, 30), (259, 259), (22, 22), (21, 20), (19, 19), (44, 44), (154, 155), (51, 52), (26, 27), (27, 28), (92, 92)]\n"
     ]
    }
   ],
   "source": [
    "print(list(zip(tag_counts_train, tag_counts_test))[0:15])"
   ]
  },
  {
   "cell_type": "code",
   "execution_count": 46,
   "id": "1ce4dd97",
   "metadata": {
    "id": "1ce4dd97"
   },
   "outputs": [],
   "source": [
    "# differences between counts of tag in train and test sets\n",
    "diff = [abs(ttrain - ttest) for ttrain, ttest in zip(tag_counts_train, tag_counts_test)]"
   ]
  },
  {
   "cell_type": "code",
   "execution_count": 47,
   "id": "99d9b740",
   "metadata": {
    "colab": {
     "base_uri": "https://localhost:8080/"
    },
    "id": "99d9b740",
    "outputId": "9556abfc-8f33-4f3a-d4da-f1a9ac4e6c26"
   },
   "outputs": [
    {
     "name": "stdout",
     "output_type": "stream",
     "text": [
      "Max difference:  5\n",
      "Avg. difference:  0.62\n"
     ]
    }
   ],
   "source": [
    "print(\"Max difference: \", max(diff))\n",
    "print(\"Avg. difference: \", np.average(diff))"
   ]
  },
  {
   "cell_type": "code",
   "execution_count": 48,
   "id": "PGrt9-S5K2Zc",
   "metadata": {
    "colab": {
     "base_uri": "https://localhost:8080/"
    },
    "id": "PGrt9-S5K2Zc",
    "outputId": "ee24ac8f-3299-4a1c-848d-6d666db5d887"
   },
   "outputs": [
    {
     "name": "stdout",
     "output_type": "stream",
     "text": [
      "8.230 %\n"
     ]
    }
   ],
   "source": [
    "print(\"%.3f %%\" % (100 * max(diff) / np.average(tag_counts_train)))"
   ]
  },
  {
   "cell_type": "markdown",
   "id": "DGZ-dCIlkqtn",
   "metadata": {
    "id": "DGZ-dCIlkqtn"
   },
   "source": [
    "#### Testing scikit-learn method for train-test split with no stratification\n",
    "\n"
   ]
  },
  {
   "cell_type": "code",
   "execution_count": 49,
   "id": "7zqgB09tjw_f",
   "metadata": {
    "id": "7zqgB09tjw_f"
   },
   "outputs": [],
   "source": [
    "X_train, X_test, y_train, y_test = train_test_split(X.to_numpy(), y_vectors.toarray(), \n",
    "                                                              test_size = 0.5)"
   ]
  },
  {
   "cell_type": "code",
   "execution_count": 50,
   "id": "v5i8AyH3J9jK",
   "metadata": {
    "colab": {
     "base_uri": "https://localhost:8080/"
    },
    "id": "v5i8AyH3J9jK",
    "outputId": "6611b881-1a06-4dde-be88-3dd87e17b475"
   },
   "outputs": [
    {
     "data": {
      "text/plain": [
       "(3814, 100)"
      ]
     },
     "execution_count": 50,
     "metadata": {},
     "output_type": "execute_result"
    }
   ],
   "source": [
    "y_train.shape"
   ]
  },
  {
   "cell_type": "code",
   "execution_count": 51,
   "id": "SAPXieAflGt3",
   "metadata": {
    "id": "SAPXieAflGt3"
   },
   "outputs": [],
   "source": [
    "tag_counts_train = sum(y_train)\n",
    "tag_counts_test = sum(y_test)"
   ]
  },
  {
   "cell_type": "code",
   "execution_count": 52,
   "id": "L9Yurvc9lGg1",
   "metadata": {
    "colab": {
     "base_uri": "https://localhost:8080/"
    },
    "id": "L9Yurvc9lGg1",
    "outputId": "37ad42ec-edb1-4ca8-a5ec-2de9f5afd1c0"
   },
   "outputs": [
    {
     "name": "stdout",
     "output_type": "stream",
     "text": [
      "[ 20 173  32  47  26 253  19  19  22  42 149  53  27  29  89 402 165  21\n",
      "  16  21  25  22 116  59  30  32  27  33  19  19  42  15  20  13  29  20\n",
      "  19  24  30  21 148  34  21  28 104  29 150 339 321 250  20  38  21  38\n",
      " 112  23  39  21 147  41  88  22  35  21  33  15 379 147  30  30  24  52\n",
      "  69  97  36  19  26  26 117  68  18  17  21  38  21  16  26  35  14  31\n",
      "  20  22  87  36  17  29  30  60  33  60]\n"
     ]
    }
   ],
   "source": [
    "print(tag_counts_train)"
   ]
  },
  {
   "cell_type": "code",
   "execution_count": 53,
   "id": "0Bsmz4GrJGYx",
   "metadata": {
    "colab": {
     "base_uri": "https://localhost:8080/"
    },
    "id": "0Bsmz4GrJGYx",
    "outputId": "f8da197c-39de-4c4c-fff1-e8aa63851655"
   },
   "outputs": [
    {
     "name": "stdout",
     "output_type": "stream",
     "text": [
      "[ 20 129  33  60  35 265  25  22  16  46 160  50  26  26  95 376 168  20\n",
      "  16  23  22  18 110  54  33  40  23  22  20  22  38  18  17  19  31  22\n",
      "  21  21  19  22 132  30  17  21 138  22 150 364 303 254  16  23  12  27\n",
      "  96  10  36  12 131  34 116  35  45  12  43  20 322 153  20  17  17  34\n",
      "  72 110  37  19  26  19 139  62  18  37  12  21  13  23  27  39  30  29\n",
      "  38  27  88  44  18  26  19  54  50  57]\n"
     ]
    }
   ],
   "source": [
    "print(tag_counts_test)"
   ]
  },
  {
   "cell_type": "code",
   "execution_count": 54,
   "id": "fWiUSFo1JGWv",
   "metadata": {
    "colab": {
     "base_uri": "https://localhost:8080/"
    },
    "id": "fWiUSFo1JGWv",
    "outputId": "c3b28bf3-9b84-44b1-d0ce-b4f3fa6dd4fa"
   },
   "outputs": [
    {
     "name": "stdout",
     "output_type": "stream",
     "text": [
      "[(20, 20), (173, 129), (32, 33), (47, 60), (26, 35), (253, 265), (19, 25), (19, 22), (22, 16), (42, 46), (149, 160), (53, 50), (27, 26), (29, 26), (89, 95)]\n"
     ]
    }
   ],
   "source": [
    "print(list(zip(tag_counts_train, tag_counts_test))[0:15])"
   ]
  },
  {
   "cell_type": "code",
   "execution_count": 55,
   "id": "pKfM4umgJGSd",
   "metadata": {
    "id": "pKfM4umgJGSd"
   },
   "outputs": [],
   "source": [
    "# differences between counts of tag in train and test sets\n",
    "diff = [abs(ttrain - ttest) for ttrain, ttest in zip(tag_counts_train, tag_counts_test)]"
   ]
  },
  {
   "cell_type": "code",
   "execution_count": 56,
   "id": "_dd2RHZwJGQJ",
   "metadata": {
    "colab": {
     "base_uri": "https://localhost:8080/"
    },
    "id": "_dd2RHZwJGQJ",
    "outputId": "dde473c8-8c5e-4f30-e7cf-2f8b0d51c298"
   },
   "outputs": [
    {
     "name": "stdout",
     "output_type": "stream",
     "text": [
      "Max difference:  57\n",
      "Avg. difference:  8.56\n"
     ]
    }
   ],
   "source": [
    "print(\"Max difference: \", max(diff))\n",
    "print(\"Avg. difference: \", np.average(diff))"
   ]
  },
  {
   "cell_type": "code",
   "execution_count": 57,
   "id": "2XK6iSiqJGNc",
   "metadata": {
    "colab": {
     "base_uri": "https://localhost:8080/"
    },
    "id": "2XK6iSiqJGNc",
    "outputId": "44a439bd-9699-4f06-fa64-1f70fb262c38"
   },
   "outputs": [
    {
     "name": "stdout",
     "output_type": "stream",
     "text": [
      "93.000 %\n"
     ]
    }
   ],
   "source": [
    "print(\"%.3f %%\" % (100 * max(diff) / np.average(tag_counts_train)))"
   ]
  }
 ],
 "metadata": {
  "accelerator": "TPU",
  "colab": {
   "collapsed_sections": [],
   "name": "03 Feature selection, Heuristic implemented, Train-Test split stratification problem.ipynb",
   "provenance": []
  },
  "kernelspec": {
   "display_name": "Python 3",
   "language": "python",
   "name": "python3"
  },
  "language_info": {
   "codemirror_mode": {
    "name": "ipython",
    "version": 3
   },
   "file_extension": ".py",
   "mimetype": "text/x-python",
   "name": "python",
   "nbconvert_exporter": "python",
   "pygments_lexer": "ipython3",
   "version": "3.7.11"
  }
 },
 "nbformat": 4,
 "nbformat_minor": 5
}
