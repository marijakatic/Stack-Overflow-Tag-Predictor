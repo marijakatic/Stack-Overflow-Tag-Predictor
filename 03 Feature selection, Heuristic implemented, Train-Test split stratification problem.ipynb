{
 "cells": [
  {
   "cell_type": "markdown",
   "id": "3QCJlp4yTNmQ",
   "metadata": {
    "id": "3QCJlp4yTNmQ"
   },
   "source": [
    "# Feature selection\n"
   ]
  },
  {
   "cell_type": "markdown",
   "id": "MbyCupCjB3AF",
   "metadata": {
    "id": "MbyCupCjB3AF"
   },
   "source": [
    "## Necessary downloads and library imports"
   ]
  },
  {
   "cell_type": "code",
   "execution_count": null,
   "id": "A-f7eocpTH9U",
   "metadata": {
    "colab": {
     "base_uri": "https://localhost:8080/"
    },
    "executionInfo": {
     "elapsed": 1165,
     "status": "ok",
     "timestamp": 1629501229133,
     "user": {
      "displayName": "Marija Katic",
      "photoUrl": "",
      "userId": "11819193703103552976"
     },
     "user_tz": -120
    },
    "id": "A-f7eocpTH9U",
    "outputId": "0fc02b22-9ae2-4751-fa6e-686db2ba06fb"
   },
   "outputs": [
    {
     "name": "stdout",
     "output_type": "stream",
     "text": [
      "Drive already mounted at /content/drive; to attempt to forcibly remount, call drive.mount(\"/content/drive\", force_remount=True).\n"
     ]
    }
   ],
   "source": [
    "from google.colab import drive\n",
    "drive.mount('/content/drive')"
   ]
  },
  {
   "cell_type": "code",
   "execution_count": null,
   "id": "syaBWbsVvpXm",
   "metadata": {
    "id": "syaBWbsVvpXm"
   },
   "outputs": [],
   "source": [
    "project_path = '/content/drive/My Drive/Colab Notebooks/MATF_ML_project/'"
   ]
  },
  {
   "cell_type": "code",
   "execution_count": null,
   "id": "IkNA7YsZUDGL",
   "metadata": {
    "colab": {
     "base_uri": "https://localhost:8080/"
    },
    "executionInfo": {
     "elapsed": 5049,
     "status": "ok",
     "timestamp": 1629501234658,
     "user": {
      "displayName": "Marija Katic",
      "photoUrl": "",
      "userId": "11819193703103552976"
     },
     "user_tz": -120
    },
    "id": "IkNA7YsZUDGL",
    "outputId": "83ad2c79-d201-44af-c957-9b8da9140e67"
   },
   "outputs": [
    {
     "name": "stdout",
     "output_type": "stream",
     "text": [
      "Requirement already satisfied: scikit-multilearn in /usr/local/lib/python3.7/dist-packages (0.2.0)\n",
      "Requirement already satisfied: ipynb in /usr/local/lib/python3.7/dist-packages (0.5.1)\n"
     ]
    }
   ],
   "source": [
    "!pip install scikit-multilearn\n",
    "!pip install ipynb"
   ]
  },
  {
   "cell_type": "code",
   "execution_count": null,
   "id": "984efaeb",
   "metadata": {
    "id": "984efaeb"
   },
   "outputs": [],
   "source": [
    "from ipynb.fs.full.utility import *\n",
    "\n",
    "import pandas as pd\n",
    "import numpy as np\n",
    "import matplotlib.pyplot as plt\n",
    "\n",
    "import pickle\n",
    "\n",
    "import skmultilearn\n",
    "from skmultilearn.model_selection import iterative_train_test_split\n",
    "\n",
    "from scipy import sparse\n",
    "\n",
    "from sklearn import feature_extraction\n",
    "from sklearn.model_selection import train_test_split\n",
    "from sklearn.feature_extraction.text import CountVectorizer\n",
    "from sklearn.feature_extraction.text import TfidfVectorizer"
   ]
  },
  {
   "cell_type": "markdown",
   "id": "c2TPBaT2LlBc",
   "metadata": {
    "id": "c2TPBaT2LlBc"
   },
   "source": [
    "## Load data"
   ]
  },
  {
   "cell_type": "code",
   "execution_count": null,
   "id": "ffd0aaee",
   "metadata": {
    "id": "ffd0aaee"
   },
   "outputs": [],
   "source": [
    "file = open(project_path + \"data/data_preprocessed.csv\", \"rb\")\n",
    "data = pickle.load(file)\n",
    "file.close()"
   ]
  },
  {
   "cell_type": "code",
   "execution_count": null,
   "id": "sSQOqkPBA--9",
   "metadata": {
    "id": "sSQOqkPBA--9"
   },
   "outputs": [],
   "source": [
    "file = open(project_path + \"data/tags_preprocessed.csv\", \"rb\")\n",
    "tags_preprocessed = pickle.load(file)\n",
    "file.close()"
   ]
  },
  {
   "cell_type": "code",
   "execution_count": null,
   "id": "093622da",
   "metadata": {
    "colab": {
     "base_uri": "https://localhost:8080/",
     "height": 204
    },
    "executionInfo": {
     "elapsed": 51,
     "status": "ok",
     "timestamp": 1629501239606,
     "user": {
      "displayName": "Marija Katic",
      "photoUrl": "",
      "userId": "11819193703103552976"
     },
     "user_tz": -120
    },
    "id": "093622da",
    "outputId": "a953c246-9b5b-4980-8b97-63d89968f2cd"
   },
   "outputs": [
    {
     "data": {
      "text/html": [
       "<div>\n",
       "<style scoped>\n",
       "    .dataframe tbody tr th:only-of-type {\n",
       "        vertical-align: middle;\n",
       "    }\n",
       "\n",
       "    .dataframe tbody tr th {\n",
       "        vertical-align: top;\n",
       "    }\n",
       "\n",
       "    .dataframe thead th {\n",
       "        text-align: right;\n",
       "    }\n",
       "</style>\n",
       "<table border=\"1\" class=\"dataframe\">\n",
       "  <thead>\n",
       "    <tr style=\"text-align: right;\">\n",
       "      <th></th>\n",
       "      <th>Id</th>\n",
       "      <th>Title</th>\n",
       "      <th>Body</th>\n",
       "      <th>Tags</th>\n",
       "    </tr>\n",
       "  </thead>\n",
       "  <tbody>\n",
       "    <tr>\n",
       "      <th>0</th>\n",
       "      <td>1</td>\n",
       "      <td>[how, check, upload, file, imag, without, mime...</td>\n",
       "      <td>[like, check, upload, file, imag, file, e, .g,...</td>\n",
       "      <td>[php]</td>\n",
       "    </tr>\n",
       "    <tr>\n",
       "      <th>1</th>\n",
       "      <td>2</td>\n",
       "      <td>[how, prevent, firefox, close, press, ctrl-w]</td>\n",
       "      <td>[favorit, editor, vim, regular, use, ctrl-w, e...</td>\n",
       "      <td>[firefox]</td>\n",
       "    </tr>\n",
       "    <tr>\n",
       "      <th>2</th>\n",
       "      <td>3</td>\n",
       "      <td>[r, error, invalid, type, list, variabl]</td>\n",
       "      <td>[import, matlab, file, construct, data, frame,...</td>\n",
       "      <td>[r]</td>\n",
       "    </tr>\n",
       "    <tr>\n",
       "      <th>3</th>\n",
       "      <td>4</td>\n",
       "      <td>[how, replac, special, charact, url]</td>\n",
       "      <td>[probabl, simpl, simpli, cannot, find, answer,...</td>\n",
       "      <td>[c#]</td>\n",
       "    </tr>\n",
       "    <tr>\n",
       "      <th>4</th>\n",
       "      <td>5</td>\n",
       "      <td>[how, modifi, whoi, contact, detail]</td>\n",
       "      <td>[function, modifi, mcontact, file_get_cont, ui...</td>\n",
       "      <td>[php, api]</td>\n",
       "    </tr>\n",
       "  </tbody>\n",
       "</table>\n",
       "</div>"
      ],
      "text/plain": [
       "   Id  ...        Tags\n",
       "0   1  ...       [php]\n",
       "1   2  ...   [firefox]\n",
       "2   3  ...         [r]\n",
       "3   4  ...        [c#]\n",
       "4   5  ...  [php, api]\n",
       "\n",
       "[5 rows x 4 columns]"
      ]
     },
     "execution_count": 7,
     "metadata": {},
     "output_type": "execute_result"
    }
   ],
   "source": [
    "data.head()"
   ]
  },
  {
   "cell_type": "code",
   "execution_count": null,
   "id": "7387134c",
   "metadata": {
    "colab": {
     "base_uri": "https://localhost:8080/"
    },
    "executionInfo": {
     "elapsed": 51,
     "status": "ok",
     "timestamp": 1629501239608,
     "user": {
      "displayName": "Marija Katic",
      "photoUrl": "",
      "userId": "11819193703103552976"
     },
     "user_tz": -120
    },
    "id": "7387134c",
    "outputId": "678f0bf6-9411-49c1-845d-73068b60abf4"
   },
   "outputs": [
    {
     "data": {
      "text/plain": [
       "(7628, 4)"
      ]
     },
     "execution_count": 8,
     "metadata": {},
     "output_type": "execute_result"
    }
   ],
   "source": [
    "data.shape"
   ]
  },
  {
   "cell_type": "code",
   "execution_count": null,
   "id": "c0b57903",
   "metadata": {
    "id": "c0b57903"
   },
   "outputs": [],
   "source": [
    "X = data[['Title', 'Body']]\n",
    "y = data['Tags']"
   ]
  },
  {
   "cell_type": "code",
   "execution_count": null,
   "id": "r6MZzCbIBEyS",
   "metadata": {
    "colab": {
     "base_uri": "https://localhost:8080/"
    },
    "executionInfo": {
     "elapsed": 48,
     "status": "ok",
     "timestamp": 1629501239612,
     "user": {
      "displayName": "Marija Katic",
      "photoUrl": "",
      "userId": "11819193703103552976"
     },
     "user_tz": -120
    },
    "id": "r6MZzCbIBEyS",
    "outputId": "6cacebf3-a625-44ec-d745-3be679ae6d08"
   },
   "outputs": [
    {
     "data": {
      "text/plain": [
       "0         [php]\n",
       "1     [firefox]\n",
       "2           [r]\n",
       "3          [c#]\n",
       "4    [php, api]\n",
       "Name: Tags, dtype: object"
      ]
     },
     "execution_count": 10,
     "metadata": {},
     "output_type": "execute_result"
    }
   ],
   "source": [
    "tags_preprocessed.head()"
   ]
  },
  {
   "cell_type": "markdown",
   "id": "VEtwaHy888uM",
   "metadata": {
    "id": "VEtwaHy888uM"
   },
   "source": [
    "## Tag vectorization"
   ]
  },
  {
   "cell_type": "code",
   "execution_count": null,
   "id": "MlEZ9CJV88uN",
   "metadata": {
    "colab": {
     "base_uri": "https://localhost:8080/"
    },
    "executionInfo": {
     "elapsed": 42,
     "status": "ok",
     "timestamp": 1629501239614,
     "user": {
      "displayName": "Marija Katic",
      "photoUrl": "",
      "userId": "11819193703103552976"
     },
     "user_tz": -120
    },
    "id": "MlEZ9CJV88uN",
    "outputId": "753e659c-3a58-434c-e29c-9df4d5365b8a"
   },
   "outputs": [
    {
     "data": {
      "text/plain": [
       "CountVectorizer(analyzer='word', binary=False, decode_error='strict',\n",
       "                dtype=<class 'numpy.int64'>, encoding='utf-8', input='content',\n",
       "                lowercase=True, max_df=1.0, max_features=None, min_df=1,\n",
       "                ngram_range=(1, 1),\n",
       "                preprocessor=<function <lambda> at 0x7f590a689c20>,\n",
       "                stop_words=None, strip_accents=None, token_pattern=None,\n",
       "                tokenizer=<function <lambda> at 0x7f590a689b90>,\n",
       "                vocabulary=None)"
      ]
     },
     "execution_count": 11,
     "metadata": {},
     "output_type": "execute_result"
    }
   ],
   "source": [
    "tags_vectorizer = CountVectorizer(analyzer='word', tokenizer=lambda x : x, \n",
    "                                    preprocessor=lambda x : x, token_pattern=None)\n",
    "tags_vectorizer.fit(y)"
   ]
  },
  {
   "cell_type": "code",
   "execution_count": null,
   "id": "vAT1wv5488uR",
   "metadata": {
    "id": "vAT1wv5488uR"
   },
   "outputs": [],
   "source": [
    "y_vectors = tags_vectorizer.transform(y)"
   ]
  },
  {
   "cell_type": "code",
   "execution_count": null,
   "id": "lHmc3IQV88uR",
   "metadata": {
    "colab": {
     "base_uri": "https://localhost:8080/"
    },
    "executionInfo": {
     "elapsed": 36,
     "status": "ok",
     "timestamp": 1629501239617,
     "user": {
      "displayName": "Marija Katic",
      "photoUrl": "",
      "userId": "11819193703103552976"
     },
     "user_tz": -120
    },
    "id": "lHmc3IQV88uR",
    "outputId": "5e228f3f-b8a3-4b98-b210-5da7dea2e579"
   },
   "outputs": [
    {
     "data": {
      "text/plain": [
       "<7628x100 sparse matrix of type '<class 'numpy.int64'>'\n",
       "\twith 12148 stored elements in Compressed Sparse Row format>"
      ]
     },
     "execution_count": 13,
     "metadata": {},
     "output_type": "execute_result"
    }
   ],
   "source": [
    "y_vectors"
   ]
  },
  {
   "cell_type": "code",
   "execution_count": null,
   "id": "JY_srQwq88uU",
   "metadata": {
    "colab": {
     "base_uri": "https://localhost:8080/"
    },
    "executionInfo": {
     "elapsed": 31,
     "status": "ok",
     "timestamp": 1629501239621,
     "user": {
      "displayName": "Marija Katic",
      "photoUrl": "",
      "userId": "11819193703103552976"
     },
     "user_tz": -120
    },
    "id": "JY_srQwq88uU",
    "outputId": "120b7a91-300c-4ea3-8d5b-fc68a024334f"
   },
   "outputs": [
    {
     "data": {
      "text/plain": [
       "(7628, 100)"
      ]
     },
     "execution_count": 14,
     "metadata": {},
     "output_type": "execute_result"
    }
   ],
   "source": [
    "y_vectors.shape"
   ]
  },
  {
   "cell_type": "markdown",
   "id": "xqVzJdUchED5",
   "metadata": {
    "id": "xqVzJdUchED5"
   },
   "source": [
    "## Text Vectorization"
   ]
  },
  {
   "cell_type": "markdown",
   "id": "JWFjuMFLgumr",
   "metadata": {
    "id": "JWFjuMFLgumr"
   },
   "source": [
    "For the text vectorization we choose **Tf-Idf** and **Bag-of-Words** vectorizations. \n",
    "\n",
    "**How to combine title and body?** The title seems to be an important feature because it is concise and contains the most important information about question. So we will try to exploit it wisely.\n",
    "\n",
    "---------\n",
    "\n",
    "We examined two approaches:\n",
    "\n",
    "1. **Vectorize -> Concatenate** (My idea)\n",
    "\n",
    "  Vectorize title (0-1 Bag-of-Words), Vectorize body (Tf-Idf) -> Concatenate vectors\n",
    "\n",
    "  It seems that the frequency is not important, but only the appearance of the words in the title (for example, you probably won't repeat \"in c#\" many times in question, but this token is very important for predicting the 'c#' tag).\n",
    "  On the other hand, it is useful to \"extract context\" from the body because of tags such as 'design' that don't appear explicitly in the text. So we will use Tf-Idf (or some better approach in the future :D)\n",
    "\n",
    "\n",
    "2. **Concatenate -> Vectorize** (Idea taken from blog <a href=\"https://medium.datadriveninvestor.com/predicting-tags-for-the-questions-in-stack-overflow-29438367261e\">Predicting Tags for the Questions in Stack Overflow</a>)\n",
    "\n",
    "  Concatenate body and 3 times repeated title -> Vectorize that text\n",
    "\n",
    "----------\n"
   ]
  },
  {
   "cell_type": "markdown",
   "id": "XYHI0BZ7-W0S",
   "metadata": {
    "id": "XYHI0BZ7-W0S"
   },
   "source": [
    "### 1. Vectorize -> Concatenate"
   ]
  },
  {
   "cell_type": "markdown",
   "id": "0888588f",
   "metadata": {
    "id": "0888588f"
   },
   "source": [
    "#### Title vectorization"
   ]
  },
  {
   "cell_type": "code",
   "execution_count": null,
   "id": "bd2d4854",
   "metadata": {
    "colab": {
     "base_uri": "https://localhost:8080/"
    },
    "executionInfo": {
     "elapsed": 372,
     "status": "ok",
     "timestamp": 1629501239966,
     "user": {
      "displayName": "Marija Katic",
      "photoUrl": "",
      "userId": "11819193703103552976"
     },
     "user_tz": -120
    },
    "id": "bd2d4854",
    "outputId": "a91919d4-8dbb-425e-8428-a272af966460"
   },
   "outputs": [
    {
     "data": {
      "text/plain": [
       "CountVectorizer(analyzer='word', binary=True, decode_error='strict',\n",
       "                dtype=<class 'numpy.int64'>, encoding='utf-8', input='content',\n",
       "                lowercase=True, max_df=1.0, max_features=None, min_df=1,\n",
       "                ngram_range=(1, 1),\n",
       "                preprocessor=<function <lambda> at 0x7f590a636440>,\n",
       "                stop_words=None, strip_accents=None, token_pattern=None,\n",
       "                tokenizer=<function <lambda> at 0x7f590a636320>,\n",
       "                vocabulary=None)"
      ]
     },
     "execution_count": 15,
     "metadata": {},
     "output_type": "execute_result"
    }
   ],
   "source": [
    "title_vectorizer = CountVectorizer(analyzer='word', binary=True, tokenizer=lambda x : x, \n",
    "                                    preprocessor=lambda x : x, token_pattern=None, \n",
    "                                    min_df=1)\n",
    "title_vectorizer.fit(X['Title'])"
   ]
  },
  {
   "cell_type": "code",
   "execution_count": null,
   "id": "ed2eb958",
   "metadata": {
    "id": "ed2eb958"
   },
   "outputs": [],
   "source": [
    "title_vectors = title_vectorizer.transform(X['Title'])"
   ]
  },
  {
   "cell_type": "code",
   "execution_count": null,
   "id": "afbabdfd",
   "metadata": {
    "colab": {
     "base_uri": "https://localhost:8080/"
    },
    "executionInfo": {
     "elapsed": 11,
     "status": "ok",
     "timestamp": 1629501239969,
     "user": {
      "displayName": "Marija Katic",
      "photoUrl": "",
      "userId": "11819193703103552976"
     },
     "user_tz": -120
    },
    "id": "afbabdfd",
    "outputId": "3e53d9b2-070e-48c4-d5e2-197b568cc65b"
   },
   "outputs": [
    {
     "data": {
      "text/plain": [
       "(7628, 6372)"
      ]
     },
     "execution_count": 17,
     "metadata": {},
     "output_type": "execute_result"
    }
   ],
   "source": [
    "title_vectors.shape"
   ]
  },
  {
   "cell_type": "code",
   "execution_count": null,
   "id": "e612bf05",
   "metadata": {
    "colab": {
     "base_uri": "https://localhost:8080/"
    },
    "executionInfo": {
     "elapsed": 2187,
     "status": "ok",
     "timestamp": 1629501242150,
     "user": {
      "displayName": "Marija Katic",
      "photoUrl": "",
      "userId": "11819193703103552976"
     },
     "user_tz": -120
    },
    "id": "e612bf05",
    "outputId": "e0736319-e622-4e21-e5d0-be5d3b2c6a51"
   },
   "outputs": [
    {
     "name": "stdout",
     "output_type": "stream",
     "text": [
      "(array([0, 1]), array([48560701,    44915]))\n"
     ]
    }
   ],
   "source": [
    "print(np.unique(title_vectors.toarray(), return_counts=True))"
   ]
  },
  {
   "cell_type": "markdown",
   "id": "ad04a72b",
   "metadata": {
    "id": "ad04a72b"
   },
   "source": [
    "#### Body vectorization"
   ]
  },
  {
   "cell_type": "code",
   "execution_count": null,
   "id": "dc4460a7",
   "metadata": {
    "colab": {
     "base_uri": "https://localhost:8080/"
    },
    "executionInfo": {
     "elapsed": 867,
     "status": "ok",
     "timestamp": 1629501243000,
     "user": {
      "displayName": "Marija Katic",
      "photoUrl": "",
      "userId": "11819193703103552976"
     },
     "user_tz": -120
    },
    "id": "dc4460a7",
    "outputId": "aa39cb41-faf3-47ac-c2ce-078fcfea56ba"
   },
   "outputs": [
    {
     "data": {
      "text/plain": [
       "TfidfVectorizer(analyzer='word', binary=False, decode_error='strict',\n",
       "                dtype=<class 'numpy.float64'>, encoding='utf-8',\n",
       "                input='content', lowercase=True, max_df=1.0, max_features=None,\n",
       "                min_df=0.0003, ngram_range=(1, 1), norm='l2',\n",
       "                preprocessor=<function <lambda> at 0x7f590a636d40>,\n",
       "                smooth_idf=True, stop_words=None, strip_accents=None,\n",
       "                sublinear_tf=False, token_pattern=None,\n",
       "                tokenizer=<function <lambda> at 0x7f590a636cb0>, use_idf=True,\n",
       "                vocabulary=None)"
      ]
     },
     "execution_count": 19,
     "metadata": {},
     "output_type": "execute_result"
    }
   ],
   "source": [
    "body_vectorizer = TfidfVectorizer(analyzer='word', tokenizer=lambda x : x, \n",
    "                                    preprocessor=lambda x : x, token_pattern=None,\n",
    "                                    min_df=0.0003)\n",
    "body_vectorizer.fit(X['Body'])"
   ]
  },
  {
   "cell_type": "code",
   "execution_count": null,
   "id": "8341ed52",
   "metadata": {
    "id": "8341ed52"
   },
   "outputs": [],
   "source": [
    "body_vectors = body_vectorizer.transform(X['Body'])"
   ]
  },
  {
   "cell_type": "code",
   "execution_count": null,
   "id": "ff8aa5ab",
   "metadata": {
    "colab": {
     "base_uri": "https://localhost:8080/"
    },
    "executionInfo": {
     "elapsed": 20,
     "status": "ok",
     "timestamp": 1629501243457,
     "user": {
      "displayName": "Marija Katic",
      "photoUrl": "",
      "userId": "11819193703103552976"
     },
     "user_tz": -120
    },
    "id": "ff8aa5ab",
    "outputId": "6d62ec7f-ad7d-4c52-c5d6-7f582a5d7e17"
   },
   "outputs": [
    {
     "data": {
      "text/plain": [
       "<7628x8976 sparse matrix of type '<class 'numpy.float64'>'\n",
       "\twith 351670 stored elements in Compressed Sparse Row format>"
      ]
     },
     "execution_count": 21,
     "metadata": {},
     "output_type": "execute_result"
    }
   ],
   "source": [
    "body_vectors"
   ]
  },
  {
   "cell_type": "code",
   "execution_count": null,
   "id": "201d5a0d",
   "metadata": {
    "colab": {
     "base_uri": "https://localhost:8080/"
    },
    "executionInfo": {
     "elapsed": 18,
     "status": "ok",
     "timestamp": 1629501243458,
     "user": {
      "displayName": "Marija Katic",
      "photoUrl": "",
      "userId": "11819193703103552976"
     },
     "user_tz": -120
    },
    "id": "201d5a0d",
    "outputId": "e6896501-23b7-4b95-b261-fd6202cdba90"
   },
   "outputs": [
    {
     "data": {
      "text/plain": [
       "(7628, 8976)"
      ]
     },
     "execution_count": 22,
     "metadata": {},
     "output_type": "execute_result"
    }
   ],
   "source": [
    "body_vectors.shape"
   ]
  },
  {
   "cell_type": "markdown",
   "id": "ukrlZpz_BmkQ",
   "metadata": {
    "id": "ukrlZpz_BmkQ"
   },
   "source": [
    "#### Concatenate vectors"
   ]
  },
  {
   "cell_type": "code",
   "execution_count": null,
   "id": "dcd20ea3",
   "metadata": {
    "id": "dcd20ea3"
   },
   "outputs": [],
   "source": [
    "X_concatenated = sparse.hstack([body_vectors, title_vectors])"
   ]
  },
  {
   "cell_type": "code",
   "execution_count": null,
   "id": "3vmTuvF19bRf",
   "metadata": {
    "colab": {
     "base_uri": "https://localhost:8080/"
    },
    "executionInfo": {
     "elapsed": 12,
     "status": "ok",
     "timestamp": 1629501243459,
     "user": {
      "displayName": "Marija Katic",
      "photoUrl": "",
      "userId": "11819193703103552976"
     },
     "user_tz": -120
    },
    "id": "3vmTuvF19bRf",
    "outputId": "382a603d-ee80-4040-bc4d-99c97c70fd8b"
   },
   "outputs": [
    {
     "data": {
      "text/plain": [
       "(7628, 15348)"
      ]
     },
     "execution_count": 24,
     "metadata": {},
     "output_type": "execute_result"
    }
   ],
   "source": [
    "X_concatenated.shape"
   ]
  },
  {
   "cell_type": "markdown",
   "id": "7ymhj_rpECcG",
   "metadata": {
    "id": "7ymhj_rpECcG"
   },
   "source": [
    "#### Train-Test Split (with stratification)\n",
    "\n"
   ]
  },
  {
   "cell_type": "code",
   "execution_count": null,
   "id": "YqBaNTKDRW6H",
   "metadata": {
    "id": "YqBaNTKDRW6H"
   },
   "outputs": [],
   "source": [
    "X_train, y_train, X_test, y_test = iterative_train_test_split(X_concatenated.toarray(), \n",
    "                                                              y_vectors.toarray(), \n",
    "                                                              test_size = 0.2)"
   ]
  },
  {
   "cell_type": "code",
   "execution_count": null,
   "id": "WjsUiQ1lECcH",
   "metadata": {
    "colab": {
     "base_uri": "https://localhost:8080/"
    },
    "executionInfo": {
     "elapsed": 11,
     "status": "ok",
     "timestamp": 1629501245461,
     "user": {
      "displayName": "Marija Katic",
      "photoUrl": "",
      "userId": "11819193703103552976"
     },
     "user_tz": -120
    },
    "id": "WjsUiQ1lECcH",
    "outputId": "cf2cb138-1114-438e-d224-91fde0e611ea"
   },
   "outputs": [
    {
     "data": {
      "text/plain": [
       "((6051, 15348), (6051, 100), (1577, 15348), (1577, 100))"
      ]
     },
     "execution_count": 26,
     "metadata": {},
     "output_type": "execute_result"
    }
   ],
   "source": [
    "X_train.shape, y_train.shape, X_test.shape, y_test.shape"
   ]
  },
  {
   "cell_type": "markdown",
   "id": "SGJDdOVzENyY",
   "metadata": {
    "id": "SGJDdOVzENyY"
   },
   "source": [
    "#### Save data"
   ]
  },
  {
   "cell_type": "code",
   "execution_count": null,
   "id": "odEcqLfGENya",
   "metadata": {
    "id": "odEcqLfGENya"
   },
   "outputs": [],
   "source": [
    "sparse.save_npz(project_path + \"data/X_train_vect_concat.npz\", sparse.coo_matrix(X_train))\n",
    "sparse.save_npz(project_path + \"data/y_train_vect_concat.npz\", sparse.coo_matrix(y_train))\n",
    "sparse.save_npz(project_path + \"data/X_test_vect_concat.npz\", sparse.coo_matrix(X_test))\n",
    "sparse.save_npz(project_path + \"data/y_test_vect_concat.npz\", sparse.coo_matrix(y_test))"
   ]
  },
  {
   "cell_type": "markdown",
   "id": "z9-b-RPq_HtQ",
   "metadata": {
    "id": "z9-b-RPq_HtQ"
   },
   "source": [
    "### 2. Concatenate -> Vectorize"
   ]
  },
  {
   "cell_type": "markdown",
   "id": "J1Byh5pC1JMg",
   "metadata": {
    "id": "J1Byh5pC1JMg"
   },
   "source": [
    "#### Question vectorisation"
   ]
  },
  {
   "cell_type": "code",
   "execution_count": null,
   "id": "bM4n9qjv4hj8",
   "metadata": {
    "id": "bM4n9qjv4hj8"
   },
   "outputs": [],
   "source": [
    "X_question = X['Body'] + 3 * X['Title']"
   ]
  },
  {
   "cell_type": "code",
   "execution_count": null,
   "id": "5CENjpah1JA-",
   "metadata": {
    "colab": {
     "base_uri": "https://localhost:8080/"
    },
    "executionInfo": {
     "elapsed": 1017,
     "status": "ok",
     "timestamp": 1629501248405,
     "user": {
      "displayName": "Marija Katic",
      "photoUrl": "",
      "userId": "11819193703103552976"
     },
     "user_tz": -120
    },
    "id": "5CENjpah1JA-",
    "outputId": "1c28f0f7-05e3-4ebb-e4db-00829a64a66a"
   },
   "outputs": [
    {
     "data": {
      "text/plain": [
       "TfidfVectorizer(analyzer='word', binary=False, decode_error='strict',\n",
       "                dtype=<class 'numpy.float64'>, encoding='utf-8',\n",
       "                input='content', lowercase=True, max_df=1.0, max_features=None,\n",
       "                min_df=0.0003, ngram_range=(1, 1), norm='l2',\n",
       "                preprocessor=<function <lambda> at 0x7f590a64a8c0>,\n",
       "                smooth_idf=True, stop_words=None, strip_accents=None,\n",
       "                sublinear_tf=False, token_pattern=None,\n",
       "                tokenizer=<function <lambda> at 0x7f590a64a7a0>, use_idf=True,\n",
       "                vocabulary=None)"
      ]
     },
     "execution_count": 29,
     "metadata": {},
     "output_type": "execute_result"
    }
   ],
   "source": [
    "question_vectorizer = TfidfVectorizer(analyzer='word', tokenizer=lambda x : x, \n",
    "                                    preprocessor=lambda x : x, token_pattern=None,\n",
    "                                    min_df=0.0003)\n",
    "question_vectorizer.fit(X_question)"
   ]
  },
  {
   "cell_type": "code",
   "execution_count": null,
   "id": "F13mCMYY1I_B",
   "metadata": {
    "id": "F13mCMYY1I_B"
   },
   "outputs": [],
   "source": [
    "question_vectors = question_vectorizer.transform(X_question)"
   ]
  },
  {
   "cell_type": "code",
   "execution_count": null,
   "id": "rSL1TI8B1I9G",
   "metadata": {
    "colab": {
     "base_uri": "https://localhost:8080/"
    },
    "executionInfo": {
     "elapsed": 8,
     "status": "ok",
     "timestamp": 1629501248835,
     "user": {
      "displayName": "Marija Katic",
      "photoUrl": "",
      "userId": "11819193703103552976"
     },
     "user_tz": -120
    },
    "id": "rSL1TI8B1I9G",
    "outputId": "a6d1172c-ee33-49df-d827-1345d5fb5088"
   },
   "outputs": [
    {
     "data": {
      "text/plain": [
       "(7628, 9110)"
      ]
     },
     "execution_count": 31,
     "metadata": {},
     "output_type": "execute_result"
    }
   ],
   "source": [
    "question_vectors.shape"
   ]
  },
  {
   "cell_type": "markdown",
   "id": "xs0dwAR4EY4b",
   "metadata": {
    "id": "xs0dwAR4EY4b"
   },
   "source": [
    "#### Train-Test Split (with stratification)\n",
    "\n"
   ]
  },
  {
   "cell_type": "code",
   "execution_count": null,
   "id": "9ZOOsW0cRm8e",
   "metadata": {
    "id": "9ZOOsW0cRm8e"
   },
   "outputs": [],
   "source": [
    "X_train, y_train, X_test, y_test = iterative_train_test_split(question_vectors.toarray(), \n",
    "                                                              y_vectors.toarray(), \n",
    "                                                              test_size = 0.2)"
   ]
  },
  {
   "cell_type": "code",
   "execution_count": null,
   "id": "vEqQSscrEY4d",
   "metadata": {
    "colab": {
     "base_uri": "https://localhost:8080/"
    },
    "executionInfo": {
     "elapsed": 16,
     "status": "ok",
     "timestamp": 1629501250103,
     "user": {
      "displayName": "Marija Katic",
      "photoUrl": "",
      "userId": "11819193703103552976"
     },
     "user_tz": -120
    },
    "id": "vEqQSscrEY4d",
    "outputId": "223d586d-b7e0-404d-967a-57dcf3b41c2f"
   },
   "outputs": [
    {
     "data": {
      "text/plain": [
       "((6062, 9110), (6062, 100), (1566, 9110), (1566, 100))"
      ]
     },
     "execution_count": 33,
     "metadata": {},
     "output_type": "execute_result"
    }
   ],
   "source": [
    "X_train.shape, y_train.shape, X_test.shape, y_test.shape"
   ]
  },
  {
   "cell_type": "markdown",
   "id": "z9BZDD-WEagh",
   "metadata": {
    "id": "z9BZDD-WEagh"
   },
   "source": [
    "#### Save data"
   ]
  },
  {
   "cell_type": "code",
   "execution_count": null,
   "id": "3M-VFOzjEagh",
   "metadata": {
    "id": "3M-VFOzjEagh"
   },
   "outputs": [],
   "source": [
    "sparse.save_npz(project_path + \"data/X_train_concat_vect.npz\", sparse.coo_matrix(X_train))\n",
    "sparse.save_npz(project_path + \"data/y_train_concat_vect.npz\", sparse.coo_matrix(y_train))\n",
    "sparse.save_npz(project_path + \"data/X_test_concat_vect.npz\", sparse.coo_matrix(X_test))\n",
    "sparse.save_npz(project_path + \"data/y_test_concat_vect.npz\", sparse.coo_matrix(y_test))"
   ]
  },
  {
   "cell_type": "markdown",
   "id": "0I1IqWjt5HtX",
   "metadata": {
    "id": "0I1IqWjt5HtX"
   },
   "source": [
    "# The Heuristic (Count Tags in text)"
   ]
  },
  {
   "cell_type": "markdown",
   "id": "adXrD2xYLvLz",
   "metadata": {
    "id": "adXrD2xYLvLz"
   },
   "source": [
    "Tags such as 'c#', 'java', 'android', file extensions, etc. usually appear in the text. \n",
    "So our baseline (heuristic) approach will be counting tag appearances in the text."
   ]
  },
  {
   "cell_type": "code",
   "execution_count": null,
   "id": "MrBwARVl5QVo",
   "metadata": {
    "colab": {
     "base_uri": "https://localhost:8080/"
    },
    "executionInfo": {
     "elapsed": 20,
     "status": "ok",
     "timestamp": 1629501251676,
     "user": {
      "displayName": "Marija Katic",
      "photoUrl": "",
      "userId": "11819193703103552976"
     },
     "user_tz": -120
    },
    "id": "MrBwARVl5QVo",
    "outputId": "005c162e-19bd-4e25-9b31-d7bf91e6f2b9"
   },
   "outputs": [
    {
     "data": {
      "text/plain": [
       "CountVectorizer(analyzer='word', binary=False, decode_error='strict',\n",
       "                dtype=<class 'numpy.int64'>, encoding='utf-8', input='content',\n",
       "                lowercase=True, max_df=1.0, max_features=None, min_df=1,\n",
       "                ngram_range=(1, 1),\n",
       "                preprocessor=<function <lambda> at 0x7f590a2e87a0>,\n",
       "                stop_words=None, strip_accents=None, token_pattern=None,\n",
       "                tokenizer=<function <lambda> at 0x7f590a2e8710>,\n",
       "                vocabulary=None)"
      ]
     },
     "execution_count": 35,
     "metadata": {},
     "output_type": "execute_result"
    }
   ],
   "source": [
    "tag_counter = CountVectorizer(analyzer='word', tokenizer=lambda x : x, \n",
    "                                    preprocessor=lambda x : x, token_pattern=None)\n",
    "tag_counter.fit(tags_preprocessed)"
   ]
  },
  {
   "cell_type": "code",
   "execution_count": null,
   "id": "_tRcJ-ac5QRP",
   "metadata": {
    "id": "_tRcJ-ac5QRP"
   },
   "outputs": [],
   "source": [
    "tags_in_question = tag_counter.transform(X['Title'] + X['Body'])"
   ]
  },
  {
   "cell_type": "code",
   "execution_count": null,
   "id": "R4YQi27G5QOp",
   "metadata": {
    "colab": {
     "base_uri": "https://localhost:8080/"
    },
    "executionInfo": {
     "elapsed": 1964,
     "status": "ok",
     "timestamp": 1629501254067,
     "user": {
      "displayName": "Marija Katic",
      "photoUrl": "",
      "userId": "11819193703103552976"
     },
     "user_tz": -120
    },
    "id": "R4YQi27G5QOp",
    "outputId": "4d5adf8b-0262-4360-967c-ffe7b2eda059"
   },
   "outputs": [
    {
     "name": "stdout",
     "output_type": "stream",
     "text": [
      "Average number of tags predicted from a question: 2.183\n",
      "Max number of tags predicted from a question: 13\n"
     ]
    }
   ],
   "source": [
    "tag_counts = [sum(vect>0) for vect in tags_in_question.toarray()]\n",
    "print(\"Average number of tags predicted from a question: %.3f\" % (sum(tag_counts)/len(tag_counts)))\n",
    "print(\"Max number of tags predicted from a question:\", max(tag_counts))"
   ]
  },
  {
   "cell_type": "code",
   "execution_count": null,
   "id": "WUBZY5NoE0yo",
   "metadata": {
    "id": "WUBZY5NoE0yo"
   },
   "outputs": [],
   "source": [
    "predicated = [[1 if c > 0 else 0 for c in vect] for vect in tags_in_question.toarray()]"
   ]
  },
  {
   "cell_type": "code",
   "execution_count": null,
   "id": "INeM8LxtJVkY",
   "metadata": {
    "colab": {
     "base_uri": "https://localhost:8080/"
    },
    "executionInfo": {
     "elapsed": 2540,
     "status": "ok",
     "timestamp": 1629501257049,
     "user": {
      "displayName": "Marija Katic",
      "photoUrl": "",
      "userId": "11819193703103552976"
     },
     "user_tz": -120
    },
    "id": "INeM8LxtJVkY",
    "outputId": "4b1b213d-0a0b-4ca7-fc09-ed983f3b8b7a"
   },
   "outputs": [
    {
     "name": "stdout",
     "output_type": "stream",
     "text": [
      "Hamming Score ('Accuracy' by Keras):\t97.852\n",
      "Hamming Score (= 1 - Hamming Loss):\t97.852\n",
      "Exact match ratio (Subset Accuracy):\t12.389\n",
      "F1-Score Micro Averaged:\t\t43.101\n",
      "F1-Score Macro Averaged:\t\t40.638\n",
      "F1-Score Weighted Average:\t\t48.195\n",
      "Precision Score Micro Averaged:\t\t37.270\n",
      "Recall Score Micro Averaged:\t\t51.095\n"
     ]
    }
   ],
   "source": [
    "print_metrics(y_vectors.toarray(), predicated)"
   ]
  },
  {
   "cell_type": "markdown",
   "id": "ys_aiReVOotO",
   "metadata": {
    "id": "ys_aiReVOotO"
   },
   "source": [
    "Surprisingly good results!"
   ]
  },
  {
   "cell_type": "markdown",
   "id": "4571dfbe",
   "metadata": {
    "id": "4571dfbe"
   },
   "source": [
    "# Experiment: Train-Test Split - Stratification problem"
   ]
  },
  {
   "cell_type": "markdown",
   "id": "FT3dwAABQBy9",
   "metadata": {
    "id": "FT3dwAABQBy9"
   },
   "source": [
    "In <a href=\"http://scikit.ml/stratification.html\">Multi-label data stratification - Scikit-Multilearn</a> it is illustrated how `skmultilearn.model_selection.iterative_train_test_split()`, which is adapted to the problem of multi-label classification, preserves the ratio of counts of label combinations in train and test sets. We are curious to illustrate how it preserves the counts of each label.\n",
    "\n"
   ]
  },
  {
   "cell_type": "markdown",
   "id": "784ba934",
   "metadata": {
    "id": "784ba934"
   },
   "source": [
    "#### Testing scikit-multilearn method for train-test split (with stratification)"
   ]
  },
  {
   "cell_type": "code",
   "execution_count": null,
   "id": "13d3d87f",
   "metadata": {
    "id": "13d3d87f"
   },
   "outputs": [],
   "source": [
    "X_train, y_train, X_test, y_test = iterative_train_test_split(X_concatenated.toarray(), \n",
    "                                                              y_vectors.toarray(), \n",
    "                                                              test_size = 0.5)"
   ]
  },
  {
   "cell_type": "code",
   "execution_count": null,
   "id": "3b08847f",
   "metadata": {
    "id": "3b08847f"
   },
   "outputs": [],
   "source": [
    "tag_counts_train = sum(y_train)\n",
    "tag_counts_test = sum(y_test)"
   ]
  },
  {
   "cell_type": "code",
   "execution_count": null,
   "id": "64f84171",
   "metadata": {
    "colab": {
     "base_uri": "https://localhost:8080/"
    },
    "executionInfo": {
     "elapsed": 108,
     "status": "ok",
     "timestamp": 1629501259198,
     "user": {
      "displayName": "Marija Katic",
      "photoUrl": "",
      "userId": "11819193703103552976"
     },
     "user_tz": -120
    },
    "id": "64f84171",
    "outputId": "718473ba-3231-4446-b324-30bc8953589b"
   },
   "outputs": [
    {
     "name": "stdout",
     "output_type": "stream",
     "text": [
      "[ 20 151  32  54  31 259  22  20  19  44 155  51  26  27  92 389 167  20\n",
      "  16  22  23  20 113  57  31  36  25  27  20  20  40  17  18  16  30  21\n",
      "  20  22  24  22 140  32  20  25 121  24 150 351 312 252  18  31  16  33\n",
      " 104  17  38  15 139  37 102  29  40  16  38  18 350 150  25  24  20  43\n",
      "  71 103  36  19  26  23 128  65  18  27  16  29  17  19  26  37  22  30\n",
      "  29  25  87  40  17  27  25  57  41  58]\n"
     ]
    }
   ],
   "source": [
    "print(tag_counts_train)"
   ]
  },
  {
   "cell_type": "code",
   "execution_count": null,
   "id": "fb07016d",
   "metadata": {
    "colab": {
     "base_uri": "https://localhost:8080/"
    },
    "executionInfo": {
     "elapsed": 102,
     "status": "ok",
     "timestamp": 1629501259199,
     "user": {
      "displayName": "Marija Katic",
      "photoUrl": "",
      "userId": "11819193703103552976"
     },
     "user_tz": -120
    },
    "id": "fb07016d",
    "outputId": "74740557-0436-4ef8-e273-9fe087192b5d"
   },
   "outputs": [
    {
     "name": "stdout",
     "output_type": "stream",
     "text": [
      "[ 20 151  33  53  30 259  22  21  19  44 154  52  27  28  92 389 166  21\n",
      "  16  22  24  20 113  56  32  36  25  28  19  21  40  16  19  16  30  21\n",
      "  20  23  25  21 140  32  18  24 121  27 150 352 312 252  18  30  17  32\n",
      " 104  16  37  18 139  38 102  28  40  17  38  17 351 150  25  23  21  43\n",
      "  70 104  37  19  26  22 128  65  18  27  17  30  17  20  27  37  22  30\n",
      "  29  24  88  40  18  28  24  57  42  59]\n"
     ]
    }
   ],
   "source": [
    "print(tag_counts_test)"
   ]
  },
  {
   "cell_type": "code",
   "execution_count": null,
   "id": "f03a0b89",
   "metadata": {
    "colab": {
     "base_uri": "https://localhost:8080/"
    },
    "executionInfo": {
     "elapsed": 94,
     "status": "ok",
     "timestamp": 1629501259199,
     "user": {
      "displayName": "Marija Katic",
      "photoUrl": "",
      "userId": "11819193703103552976"
     },
     "user_tz": -120
    },
    "id": "f03a0b89",
    "outputId": "61a8352e-8c99-4a64-cd57-aee84fd05df4"
   },
   "outputs": [
    {
     "name": "stdout",
     "output_type": "stream",
     "text": [
      "[(20, 20), (151, 151), (32, 33), (54, 53), (31, 30), (259, 259), (22, 22), (20, 21), (19, 19), (44, 44), (155, 154), (51, 52), (26, 27), (27, 28), (92, 92)]\n"
     ]
    }
   ],
   "source": [
    "print(list(zip(tag_counts_train, tag_counts_test))[0:15])"
   ]
  },
  {
   "cell_type": "code",
   "execution_count": null,
   "id": "1ce4dd97",
   "metadata": {
    "id": "1ce4dd97"
   },
   "outputs": [],
   "source": [
    "# differences between counts of tag in train and test sets\n",
    "diff = [abs(ttrain - ttest) for ttrain, ttest in zip(tag_counts_train, tag_counts_test)]"
   ]
  },
  {
   "cell_type": "code",
   "execution_count": null,
   "id": "99d9b740",
   "metadata": {
    "colab": {
     "base_uri": "https://localhost:8080/"
    },
    "executionInfo": {
     "elapsed": 86,
     "status": "ok",
     "timestamp": 1629501259200,
     "user": {
      "displayName": "Marija Katic",
      "photoUrl": "",
      "userId": "11819193703103552976"
     },
     "user_tz": -120
    },
    "id": "99d9b740",
    "outputId": "a7c47484-5f2f-466b-a957-57516ee3f897"
   },
   "outputs": [
    {
     "name": "stdout",
     "output_type": "stream",
     "text": [
      "Max difference:  3\n",
      "Avg. difference:  0.58\n"
     ]
    }
   ],
   "source": [
    "print(\"Max difference: \", max(diff))\n",
    "print(\"Avg. difference: \", np.average(diff))"
   ]
  },
  {
   "cell_type": "code",
   "execution_count": null,
   "id": "PGrt9-S5K2Zc",
   "metadata": {
    "colab": {
     "base_uri": "https://localhost:8080/"
    },
    "executionInfo": {
     "elapsed": 80,
     "status": "ok",
     "timestamp": 1629501259201,
     "user": {
      "displayName": "Marija Katic",
      "photoUrl": "",
      "userId": "11819193703103552976"
     },
     "user_tz": -120
    },
    "id": "PGrt9-S5K2Zc",
    "outputId": "d97319a6-c9c5-465a-dfe7-1d89b1054d85"
   },
   "outputs": [
    {
     "name": "stdout",
     "output_type": "stream",
     "text": [
      "4.945 %\n"
     ]
    }
   ],
   "source": [
    "print(\"%.3f %%\" % (100 * max(diff) / np.average(tag_counts_train)))"
   ]
  },
  {
   "cell_type": "markdown",
   "id": "DGZ-dCIlkqtn",
   "metadata": {
    "id": "DGZ-dCIlkqtn"
   },
   "source": [
    "#### Testing scikit-learn method for train-test split with no stratification\n",
    "\n"
   ]
  },
  {
   "cell_type": "code",
   "execution_count": null,
   "id": "vQswbm9RlGwQ",
   "metadata": {
    "id": "vQswbm9RlGwQ"
   },
   "outputs": [],
   "source": [
    "X_train, X_test, y_train, y_test = train_test_split(X_concatenated, y_vectors, test_size = 0.5)"
   ]
  },
  {
   "cell_type": "code",
   "execution_count": null,
   "id": "v5i8AyH3J9jK",
   "metadata": {
    "colab": {
     "base_uri": "https://localhost:8080/"
    },
    "executionInfo": {
     "elapsed": 74,
     "status": "ok",
     "timestamp": 1629501259202,
     "user": {
      "displayName": "Marija Katic",
      "photoUrl": "",
      "userId": "11819193703103552976"
     },
     "user_tz": -120
    },
    "id": "v5i8AyH3J9jK",
    "outputId": "c33d6ec7-457d-4b0a-8541-365b37c43c65"
   },
   "outputs": [
    {
     "data": {
      "text/plain": [
       "(3814, 100)"
      ]
     },
     "execution_count": 49,
     "metadata": {},
     "output_type": "execute_result"
    }
   ],
   "source": [
    "y_train.shape"
   ]
  },
  {
   "cell_type": "code",
   "execution_count": null,
   "id": "SAPXieAflGt3",
   "metadata": {
    "id": "SAPXieAflGt3"
   },
   "outputs": [],
   "source": [
    "tag_counts_train = sum(y_train.toarray())\n",
    "tag_counts_test = sum(y_test.toarray())"
   ]
  },
  {
   "cell_type": "code",
   "execution_count": null,
   "id": "L9Yurvc9lGg1",
   "metadata": {
    "colab": {
     "base_uri": "https://localhost:8080/"
    },
    "executionInfo": {
     "elapsed": 69,
     "status": "ok",
     "timestamp": 1629501259203,
     "user": {
      "displayName": "Marija Katic",
      "photoUrl": "",
      "userId": "11819193703103552976"
     },
     "user_tz": -120
    },
    "id": "L9Yurvc9lGg1",
    "outputId": "44284f3c-3b64-41b5-c58a-458f62413de4"
   },
   "outputs": [
    {
     "name": "stdout",
     "output_type": "stream",
     "text": [
      "[ 18 156  33  51  31 248  19  15  21  39 154  43  19  24  86 409 176  22\n",
      "  11  25  28  19 124  68  30  40  28  33  19  17  33  17  10  19  33  21\n",
      "  22  20  26  19 152  35  17  22 124  28 157 351 330 248  19  28  17  30\n",
      "  94  17  47  19 146  39 101  25  36  20  35  13 338 136  26  22  23  41\n",
      "  80 109  29  19  30  23 122  57  22  24  14  29  12  20  26  39  27  35\n",
      "  32  31  90  43  17  31  25  57  47  58]\n"
     ]
    }
   ],
   "source": [
    "print(tag_counts_train)"
   ]
  },
  {
   "cell_type": "code",
   "execution_count": null,
   "id": "0Bsmz4GrJGYx",
   "metadata": {
    "colab": {
     "base_uri": "https://localhost:8080/"
    },
    "executionInfo": {
     "elapsed": 60,
     "status": "ok",
     "timestamp": 1629501259204,
     "user": {
      "displayName": "Marija Katic",
      "photoUrl": "",
      "userId": "11819193703103552976"
     },
     "user_tz": -120
    },
    "id": "0Bsmz4GrJGYx",
    "outputId": "fb041444-bc43-4e51-f1ae-9000e7057e95"
   },
   "outputs": [
    {
     "name": "stdout",
     "output_type": "stream",
     "text": [
      "[ 22 146  32  56  30 270  25  26  17  49 155  60  34  31  98 369 157  19\n",
      "  21  19  19  21 102  45  33  32  22  22  20  24  47  16  27  13  27  21\n",
      "  18  25  23  24 128  29  21  27 118  23 143 352 294 256  17  33  16  35\n",
      " 114  16  28  14 132  36 103  32  44  13  41  22 363 164  24  25  18  45\n",
      "  61  98  44  19  22  22 134  73  14  30  19  30  22  19  27  35  17  25\n",
      "  26  18  85  37  18  24  24  57  36  59]\n"
     ]
    }
   ],
   "source": [
    "print(tag_counts_test)"
   ]
  },
  {
   "cell_type": "code",
   "execution_count": null,
   "id": "fWiUSFo1JGWv",
   "metadata": {
    "colab": {
     "base_uri": "https://localhost:8080/"
    },
    "executionInfo": {
     "elapsed": 55,
     "status": "ok",
     "timestamp": 1629501259206,
     "user": {
      "displayName": "Marija Katic",
      "photoUrl": "",
      "userId": "11819193703103552976"
     },
     "user_tz": -120
    },
    "id": "fWiUSFo1JGWv",
    "outputId": "4c5916a9-2be3-4b45-aa50-327e1441e38c"
   },
   "outputs": [
    {
     "name": "stdout",
     "output_type": "stream",
     "text": [
      "[(18, 22), (156, 146), (33, 32), (51, 56), (31, 30), (248, 270), (19, 25), (15, 26), (21, 17), (39, 49), (154, 155), (43, 60), (19, 34), (24, 31), (86, 98)]\n"
     ]
    }
   ],
   "source": [
    "print(list(zip(tag_counts_train, tag_counts_test))[0:15])"
   ]
  },
  {
   "cell_type": "code",
   "execution_count": null,
   "id": "pKfM4umgJGSd",
   "metadata": {
    "id": "pKfM4umgJGSd"
   },
   "outputs": [],
   "source": [
    "# differences between counts of tag in train and test sets\n",
    "diff = [abs(ttrain - ttest) for ttrain, ttest in zip(tag_counts_train, tag_counts_test)]"
   ]
  },
  {
   "cell_type": "code",
   "execution_count": null,
   "id": "_dd2RHZwJGQJ",
   "metadata": {
    "colab": {
     "base_uri": "https://localhost:8080/"
    },
    "executionInfo": {
     "elapsed": 48,
     "status": "ok",
     "timestamp": 1629501259207,
     "user": {
      "displayName": "Marija Katic",
      "photoUrl": "",
      "userId": "11819193703103552976"
     },
     "user_tz": -120
    },
    "id": "_dd2RHZwJGQJ",
    "outputId": "66089ac8-33f0-445c-a8e7-344587309600"
   },
   "outputs": [
    {
     "name": "stdout",
     "output_type": "stream",
     "text": [
      "Max difference:  40\n",
      "Avg. difference:  8.36\n"
     ]
    }
   ],
   "source": [
    "print(\"Max difference: \", max(diff))\n",
    "print(\"Avg. difference: \", np.average(diff))"
   ]
  },
  {
   "cell_type": "code",
   "execution_count": null,
   "id": "2XK6iSiqJGNc",
   "metadata": {
    "colab": {
     "base_uri": "https://localhost:8080/"
    },
    "executionInfo": {
     "elapsed": 40,
     "status": "ok",
     "timestamp": 1629501259207,
     "user": {
      "displayName": "Marija Katic",
      "photoUrl": "",
      "userId": "11819193703103552976"
     },
     "user_tz": -120
    },
    "id": "2XK6iSiqJGNc",
    "outputId": "d51f084e-db6f-4066-eeb2-f9501034c15c"
   },
   "outputs": [
    {
     "name": "stdout",
     "output_type": "stream",
     "text": [
      "65.466 %\n"
     ]
    }
   ],
   "source": [
    "print(\"%.3f %%\" % (100 * max(diff) / np.average(tag_counts_train)))"
   ]
  }
 ],
 "metadata": {
  "accelerator": "TPU",
  "colab": {
   "collapsed_sections": [],
   "name": "03 Feature selection, Heuristic implemented, Train-Test split stratification problem.ipynb",
   "provenance": []
  },
  "kernelspec": {
   "display_name": "Python 3",
   "language": "python",
   "name": "python3"
  },
  "language_info": {
   "codemirror_mode": {
    "name": "ipython",
    "version": 3
   },
   "file_extension": ".py",
   "mimetype": "text/x-python",
   "name": "python",
   "nbconvert_exporter": "python",
   "pygments_lexer": "ipython3",
   "version": "3.7.11"
  }
 },
 "nbformat": 4,
 "nbformat_minor": 5
}
